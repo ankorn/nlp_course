{
 "cells": [
  {
   "cell_type": "markdown",
   "metadata": {},
   "source": [
    "# Large scale text analysis with deep learning (3 points)"
   ]
  },
  {
   "cell_type": "markdown",
   "metadata": {},
   "source": [
    "In this assignment, you will develop a deep learning model to predict salaries based on resumes (credits to to [Oleg Vasilev](https://github.com/Omrigan/)). While we will begin this project during our seminar class, it will require additional effort on your part to finalize and submit it as homework.\n",
    "\n",
    "Following this, there is a supplementary task in another notebook titled homework_part2.ipynb. In this task, you are expected to conduct a more extensive study. This will involve testing various architectures to optimize prediction accuracy.\n",
    "\n",
    "To secure full marks for this assignment, ensure a consistent training process with an MSE loss falling below 0.10. If necessary, feel free to experiment with different parameters and model architectures. If you achieve the desired results in the homework_part2.ipynb, you can either replicate your solution here or reference it explicitly in the comments when you submit."
   ]
  },
  {
   "cell_type": "code",
   "execution_count": 169,
   "metadata": {},
   "outputs": [
    {
     "name": "stdout",
     "output_type": "stream",
     "text": [
      "Defaulting to user installation because normal site-packages is not writeable\n",
      "Requirement already satisfied: pandas in /Users/ant.korneev/Library/Python/3.9/lib/python/site-packages (2.2.3)\n",
      "Requirement already satisfied: matplotlib in /Users/ant.korneev/Library/Python/3.9/lib/python/site-packages (3.9.2)\n",
      "Requirement already satisfied: torch in /Users/ant.korneev/Library/Python/3.9/lib/python/site-packages (2.4.1)\n",
      "Requirement already satisfied: torchtext in /Users/ant.korneev/Library/Python/3.9/lib/python/site-packages (0.18.0)\n",
      "Requirement already satisfied: numpy>=1.22.4 in /Users/ant.korneev/Library/Python/3.9/lib/python/site-packages (from pandas) (1.26.4)\n",
      "Requirement already satisfied: python-dateutil>=2.8.2 in /Users/ant.korneev/Library/Python/3.9/lib/python/site-packages (from pandas) (2.9.0.post0)\n",
      "Requirement already satisfied: pytz>=2020.1 in /Users/ant.korneev/Library/Python/3.9/lib/python/site-packages (from pandas) (2024.2)\n",
      "Requirement already satisfied: tzdata>=2022.7 in /Users/ant.korneev/Library/Python/3.9/lib/python/site-packages (from pandas) (2024.2)\n",
      "Requirement already satisfied: contourpy>=1.0.1 in /Users/ant.korneev/Library/Python/3.9/lib/python/site-packages (from matplotlib) (1.3.0)\n",
      "Requirement already satisfied: cycler>=0.10 in /Users/ant.korneev/Library/Python/3.9/lib/python/site-packages (from matplotlib) (0.12.1)\n",
      "Requirement already satisfied: fonttools>=4.22.0 in /Users/ant.korneev/Library/Python/3.9/lib/python/site-packages (from matplotlib) (4.54.1)\n",
      "Requirement already satisfied: kiwisolver>=1.3.1 in /Users/ant.korneev/Library/Python/3.9/lib/python/site-packages (from matplotlib) (1.4.7)\n",
      "Requirement already satisfied: packaging>=20.0 in /Users/ant.korneev/Library/Python/3.9/lib/python/site-packages (from matplotlib) (24.1)\n",
      "Requirement already satisfied: pillow>=8 in /Users/ant.korneev/Library/Python/3.9/lib/python/site-packages (from matplotlib) (10.4.0)\n",
      "Requirement already satisfied: pyparsing>=2.3.1 in /Users/ant.korneev/Library/Python/3.9/lib/python/site-packages (from matplotlib) (3.1.4)\n",
      "Requirement already satisfied: importlib-resources>=3.2.0 in /Users/ant.korneev/Library/Python/3.9/lib/python/site-packages (from matplotlib) (6.4.5)\n",
      "Requirement already satisfied: filelock in /Users/ant.korneev/Library/Python/3.9/lib/python/site-packages (from torch) (3.16.1)\n",
      "Requirement already satisfied: typing-extensions>=4.8.0 in /Users/ant.korneev/Library/Python/3.9/lib/python/site-packages (from torch) (4.12.2)\n",
      "Requirement already satisfied: sympy in /Users/ant.korneev/Library/Python/3.9/lib/python/site-packages (from torch) (1.13.3)\n",
      "Requirement already satisfied: networkx in /Users/ant.korneev/Library/Python/3.9/lib/python/site-packages (from torch) (3.2.1)\n",
      "Requirement already satisfied: jinja2 in /Users/ant.korneev/Library/Python/3.9/lib/python/site-packages (from torch) (3.1.4)\n",
      "Requirement already satisfied: fsspec in /Users/ant.korneev/Library/Python/3.9/lib/python/site-packages (from torch) (2024.9.0)\n",
      "Requirement already satisfied: tqdm in /Users/ant.korneev/Library/Python/3.9/lib/python/site-packages (from torchtext) (4.66.5)\n",
      "Requirement already satisfied: requests in /Users/ant.korneev/Library/Python/3.9/lib/python/site-packages (from torchtext) (2.32.3)\n",
      "Requirement already satisfied: zipp>=3.1.0 in /Users/ant.korneev/Library/Python/3.9/lib/python/site-packages (from importlib-resources>=3.2.0->matplotlib) (3.20.2)\n",
      "Requirement already satisfied: six>=1.5 in /Library/Developer/CommandLineTools/Library/Frameworks/Python3.framework/Versions/3.9/lib/python3.9/site-packages (from python-dateutil>=2.8.2->pandas) (1.15.0)\n",
      "Requirement already satisfied: MarkupSafe>=2.0 in /Users/ant.korneev/Library/Python/3.9/lib/python/site-packages (from jinja2->torch) (2.1.5)\n",
      "Requirement already satisfied: charset-normalizer<4,>=2 in /Users/ant.korneev/Library/Python/3.9/lib/python/site-packages (from requests->torchtext) (3.4.0)\n",
      "Requirement already satisfied: idna<4,>=2.5 in /Users/ant.korneev/Library/Python/3.9/lib/python/site-packages (from requests->torchtext) (3.10)\n",
      "Requirement already satisfied: urllib3<3,>=1.21.1 in /Users/ant.korneev/Library/Python/3.9/lib/python/site-packages (from requests->torchtext) (2.2.3)\n",
      "Requirement already satisfied: certifi>=2017.4.17 in /Users/ant.korneev/Library/Python/3.9/lib/python/site-packages (from requests->torchtext) (2024.8.30)\n",
      "Requirement already satisfied: mpmath<1.4,>=1.1.0 in /Users/ant.korneev/Library/Python/3.9/lib/python/site-packages (from sympy->torch) (1.3.0)\n",
      "\n",
      "\u001b[1m[\u001b[0m\u001b[34;49mnotice\u001b[0m\u001b[1;39;49m]\u001b[0m\u001b[39;49m A new release of pip is available: \u001b[0m\u001b[31;49m24.2\u001b[0m\u001b[39;49m -> \u001b[0m\u001b[32;49m24.3.1\u001b[0m\n",
      "\u001b[1m[\u001b[0m\u001b[34;49mnotice\u001b[0m\u001b[1;39;49m]\u001b[0m\u001b[39;49m To update, run: \u001b[0m\u001b[32;49m/Library/Developer/CommandLineTools/usr/bin/python3 -m pip install --upgrade pip\u001b[0m\n",
      "Note: you may need to restart the kernel to use updated packages.\n"
     ]
    }
   ],
   "source": [
    "%pip install pandas matplotlib torch torchtext"
   ]
  },
  {
   "cell_type": "code",
   "execution_count": 4,
   "metadata": {},
   "outputs": [],
   "source": [
    "import numpy as np\n",
    "import pandas as pd\n",
    "import matplotlib.pyplot as plt\n",
    "%matplotlib inline"
   ]
  },
  {
   "cell_type": "markdown",
   "metadata": {},
   "source": [
    "### About the challenge\n",
    "For starters, let's download and unpack the data from [here]. \n",
    "\n",
    "You can also get it from [yadisk url](https://yadi.sk/d/vVEOWPFY3NruT7) the competition [page](https://www.kaggle.com/c/job-salary-prediction/data) (pick `Train_rev1.*`)."
   ]
  },
  {
   "cell_type": "code",
   "execution_count": 5,
   "metadata": {},
   "outputs": [
    {
     "data": {
      "text/plain": [
       "(244768, 12)"
      ]
     },
     "execution_count": 5,
     "metadata": {},
     "output_type": "execute_result"
    }
   ],
   "source": [
    "# !wget https://ysda-seminars.s3.eu-central-1.amazonaws.com/Train_rev1.zip\n",
    "data = pd.read_csv(\"./Train_rev1.zip\", compression='zip', index_col=None)\n",
    "data.shape"
   ]
  },
  {
   "cell_type": "code",
   "execution_count": 6,
   "metadata": {},
   "outputs": [
    {
     "data": {
      "text/html": [
       "<div>\n",
       "<style scoped>\n",
       "    .dataframe tbody tr th:only-of-type {\n",
       "        vertical-align: middle;\n",
       "    }\n",
       "\n",
       "    .dataframe tbody tr th {\n",
       "        vertical-align: top;\n",
       "    }\n",
       "\n",
       "    .dataframe thead th {\n",
       "        text-align: right;\n",
       "    }\n",
       "</style>\n",
       "<table border=\"1\" class=\"dataframe\">\n",
       "  <thead>\n",
       "    <tr style=\"text-align: right;\">\n",
       "      <th></th>\n",
       "      <th>Id</th>\n",
       "      <th>Title</th>\n",
       "      <th>FullDescription</th>\n",
       "      <th>LocationRaw</th>\n",
       "      <th>LocationNormalized</th>\n",
       "      <th>ContractType</th>\n",
       "      <th>ContractTime</th>\n",
       "      <th>Company</th>\n",
       "      <th>Category</th>\n",
       "      <th>SalaryRaw</th>\n",
       "      <th>SalaryNormalized</th>\n",
       "      <th>SourceName</th>\n",
       "    </tr>\n",
       "  </thead>\n",
       "  <tbody>\n",
       "    <tr>\n",
       "      <th>0</th>\n",
       "      <td>12612628</td>\n",
       "      <td>Engineering Systems Analyst</td>\n",
       "      <td>Engineering Systems Analyst Dorking Surrey Sal...</td>\n",
       "      <td>Dorking, Surrey, Surrey</td>\n",
       "      <td>Dorking</td>\n",
       "      <td>NaN</td>\n",
       "      <td>permanent</td>\n",
       "      <td>Gregory Martin International</td>\n",
       "      <td>Engineering Jobs</td>\n",
       "      <td>20000 - 30000/annum 20-30K</td>\n",
       "      <td>25000</td>\n",
       "      <td>cv-library.co.uk</td>\n",
       "    </tr>\n",
       "    <tr>\n",
       "      <th>1</th>\n",
       "      <td>12612830</td>\n",
       "      <td>Stress Engineer Glasgow</td>\n",
       "      <td>Stress Engineer Glasgow Salary **** to **** We...</td>\n",
       "      <td>Glasgow, Scotland, Scotland</td>\n",
       "      <td>Glasgow</td>\n",
       "      <td>NaN</td>\n",
       "      <td>permanent</td>\n",
       "      <td>Gregory Martin International</td>\n",
       "      <td>Engineering Jobs</td>\n",
       "      <td>25000 - 35000/annum 25-35K</td>\n",
       "      <td>30000</td>\n",
       "      <td>cv-library.co.uk</td>\n",
       "    </tr>\n",
       "    <tr>\n",
       "      <th>2</th>\n",
       "      <td>12612844</td>\n",
       "      <td>Modelling and simulation analyst</td>\n",
       "      <td>Mathematical Modeller / Simulation Analyst / O...</td>\n",
       "      <td>Hampshire, South East, South East</td>\n",
       "      <td>Hampshire</td>\n",
       "      <td>NaN</td>\n",
       "      <td>permanent</td>\n",
       "      <td>Gregory Martin International</td>\n",
       "      <td>Engineering Jobs</td>\n",
       "      <td>20000 - 40000/annum 20-40K</td>\n",
       "      <td>30000</td>\n",
       "      <td>cv-library.co.uk</td>\n",
       "    </tr>\n",
       "    <tr>\n",
       "      <th>3</th>\n",
       "      <td>12613049</td>\n",
       "      <td>Engineering Systems Analyst / Mathematical Mod...</td>\n",
       "      <td>Engineering Systems Analyst / Mathematical Mod...</td>\n",
       "      <td>Surrey, South East, South East</td>\n",
       "      <td>Surrey</td>\n",
       "      <td>NaN</td>\n",
       "      <td>permanent</td>\n",
       "      <td>Gregory Martin International</td>\n",
       "      <td>Engineering Jobs</td>\n",
       "      <td>25000 - 30000/annum 25K-30K negotiable</td>\n",
       "      <td>27500</td>\n",
       "      <td>cv-library.co.uk</td>\n",
       "    </tr>\n",
       "    <tr>\n",
       "      <th>4</th>\n",
       "      <td>12613647</td>\n",
       "      <td>Pioneer, Miser Engineering Systems Analyst</td>\n",
       "      <td>Pioneer, Miser  Engineering Systems Analyst Do...</td>\n",
       "      <td>Surrey, South East, South East</td>\n",
       "      <td>Surrey</td>\n",
       "      <td>NaN</td>\n",
       "      <td>permanent</td>\n",
       "      <td>Gregory Martin International</td>\n",
       "      <td>Engineering Jobs</td>\n",
       "      <td>20000 - 30000/annum 20-30K</td>\n",
       "      <td>25000</td>\n",
       "      <td>cv-library.co.uk</td>\n",
       "    </tr>\n",
       "  </tbody>\n",
       "</table>\n",
       "</div>"
      ],
      "text/plain": [
       "         Id                                              Title  \\\n",
       "0  12612628                        Engineering Systems Analyst   \n",
       "1  12612830                            Stress Engineer Glasgow   \n",
       "2  12612844                   Modelling and simulation analyst   \n",
       "3  12613049  Engineering Systems Analyst / Mathematical Mod...   \n",
       "4  12613647         Pioneer, Miser Engineering Systems Analyst   \n",
       "\n",
       "                                     FullDescription  \\\n",
       "0  Engineering Systems Analyst Dorking Surrey Sal...   \n",
       "1  Stress Engineer Glasgow Salary **** to **** We...   \n",
       "2  Mathematical Modeller / Simulation Analyst / O...   \n",
       "3  Engineering Systems Analyst / Mathematical Mod...   \n",
       "4  Pioneer, Miser  Engineering Systems Analyst Do...   \n",
       "\n",
       "                         LocationRaw LocationNormalized ContractType  \\\n",
       "0            Dorking, Surrey, Surrey            Dorking          NaN   \n",
       "1        Glasgow, Scotland, Scotland            Glasgow          NaN   \n",
       "2  Hampshire, South East, South East          Hampshire          NaN   \n",
       "3     Surrey, South East, South East             Surrey          NaN   \n",
       "4     Surrey, South East, South East             Surrey          NaN   \n",
       "\n",
       "  ContractTime                       Company          Category  \\\n",
       "0    permanent  Gregory Martin International  Engineering Jobs   \n",
       "1    permanent  Gregory Martin International  Engineering Jobs   \n",
       "2    permanent  Gregory Martin International  Engineering Jobs   \n",
       "3    permanent  Gregory Martin International  Engineering Jobs   \n",
       "4    permanent  Gregory Martin International  Engineering Jobs   \n",
       "\n",
       "                                SalaryRaw  SalaryNormalized        SourceName  \n",
       "0              20000 - 30000/annum 20-30K             25000  cv-library.co.uk  \n",
       "1              25000 - 35000/annum 25-35K             30000  cv-library.co.uk  \n",
       "2              20000 - 40000/annum 20-40K             30000  cv-library.co.uk  \n",
       "3  25000 - 30000/annum 25K-30K negotiable             27500  cv-library.co.uk  \n",
       "4              20000 - 30000/annum 20-30K             25000  cv-library.co.uk  "
      ]
     },
     "execution_count": 6,
     "metadata": {},
     "output_type": "execute_result"
    }
   ],
   "source": [
    "data.head()"
   ]
  },
  {
   "cell_type": "markdown",
   "metadata": {},
   "source": [
    "One problem with salary prediction is that it's oddly distributed: there are many people who are paid standard salaries and a few that get tons o money. The distribution is fat-tailed on the right side, which is inconvenient for MSE minimization.\n",
    "\n",
    "There are several techniques to combat this: using a different loss function, predicting log-target instead of raw target or even replacing targets with their percentiles among all salaries in the training set. We gonna use logarithm for now.\n",
    "\n",
    "_You can read more [in the official description](https://www.kaggle.com/c/job-salary-prediction#description)._"
   ]
  },
  {
   "cell_type": "code",
   "execution_count": 7,
   "metadata": {},
   "outputs": [
    {
     "data": {
      "image/png": "[encoded data removed]",
      "text/plain": [
       "<Figure size 800x400 with 2 Axes>"
      ]
     },
     "metadata": {},
     "output_type": "display_data"
    }
   ],
   "source": [
    "data['Log1pSalary'] = np.log1p(data['SalaryNormalized']).astype('float32')\n",
    "\n",
    "plt.figure(figsize=[8, 4])\n",
    "plt.subplot(1, 2, 1)\n",
    "plt.hist(data[\"SalaryNormalized\"], bins=20);\n",
    "\n",
    "plt.subplot(1, 2, 2)\n",
    "plt.hist(data['Log1pSalary'], bins=20);"
   ]
  },
  {
   "cell_type": "markdown",
   "metadata": {},
   "source": [
    "Our task is to predict one number, __Log1pSalary__.\n",
    "\n",
    "To do so, our model can access a number of features:\n",
    "* Free text: __`Title`__ and  __`FullDescription`__\n",
    "* Categorical: __`Category`__, __`Company`__, __`LocationNormalized`__, __`ContractType`__, and __`ContractTime`__."
   ]
  },
  {
   "cell_type": "code",
   "execution_count": 8,
   "metadata": {},
   "outputs": [
    {
     "data": {
      "text/html": [
       "<div>\n",
       "<style scoped>\n",
       "    .dataframe tbody tr th:only-of-type {\n",
       "        vertical-align: middle;\n",
       "    }\n",
       "\n",
       "    .dataframe tbody tr th {\n",
       "        vertical-align: top;\n",
       "    }\n",
       "\n",
       "    .dataframe thead th {\n",
       "        text-align: right;\n",
       "    }\n",
       "</style>\n",
       "<table border=\"1\" class=\"dataframe\">\n",
       "  <thead>\n",
       "    <tr style=\"text-align: right;\">\n",
       "      <th></th>\n",
       "      <th>Id</th>\n",
       "      <th>Title</th>\n",
       "      <th>FullDescription</th>\n",
       "      <th>LocationRaw</th>\n",
       "      <th>LocationNormalized</th>\n",
       "      <th>ContractType</th>\n",
       "      <th>ContractTime</th>\n",
       "      <th>Company</th>\n",
       "      <th>Category</th>\n",
       "      <th>SalaryRaw</th>\n",
       "      <th>SalaryNormalized</th>\n",
       "      <th>SourceName</th>\n",
       "      <th>Log1pSalary</th>\n",
       "    </tr>\n",
       "  </thead>\n",
       "  <tbody>\n",
       "    <tr>\n",
       "      <th>61844</th>\n",
       "      <td>68697199</td>\n",
       "      <td>Italian Customer Service Advisor</td>\n",
       "      <td>Italian Customer Service Advisor **** **** Pre...</td>\n",
       "      <td>Preston, Lancashire Lancashire North West</td>\n",
       "      <td>Preston</td>\n",
       "      <td>NaN</td>\n",
       "      <td>permanent</td>\n",
       "      <td>Get Recruited  Ltd</td>\n",
       "      <td>Customer Services Jobs</td>\n",
       "      <td>12000 - 14000 per annum + bonus</td>\n",
       "      <td>13000</td>\n",
       "      <td>totaljobs.com</td>\n",
       "      <td>9.472781</td>\n",
       "    </tr>\n",
       "    <tr>\n",
       "      <th>154349</th>\n",
       "      <td>71011915</td>\n",
       "      <td>Construction Associate</td>\n",
       "      <td>Construction Associate  My client is a top tie...</td>\n",
       "      <td>Lancashire</td>\n",
       "      <td>Lancashire</td>\n",
       "      <td>full_time</td>\n",
       "      <td>permanent</td>\n",
       "      <td>Sacco Mann</td>\n",
       "      <td>Legal Jobs</td>\n",
       "      <td>From 35,000 to 55,000 per year + plus full ben...</td>\n",
       "      <td>45000</td>\n",
       "      <td>TotallyLegal</td>\n",
       "      <td>10.714440</td>\n",
       "    </tr>\n",
       "    <tr>\n",
       "      <th>219016</th>\n",
       "      <td>72339273</td>\n",
       "      <td>Despatch Manager  Food Industry</td>\n",
       "      <td>Due to their continued growth, our client, a r...</td>\n",
       "      <td>Irvine, North Ayrshire, Scotland, Strathclyde</td>\n",
       "      <td>UK</td>\n",
       "      <td>NaN</td>\n",
       "      <td>permanent</td>\n",
       "      <td>Elevate Recruitment and Training Consultants Ltd</td>\n",
       "      <td>Logistics &amp; Warehouse Jobs</td>\n",
       "      <td>25000 - 35000/annum</td>\n",
       "      <td>30000</td>\n",
       "      <td>cv-library.co.uk</td>\n",
       "      <td>10.308986</td>\n",
       "    </tr>\n",
       "  </tbody>\n",
       "</table>\n",
       "</div>"
      ],
      "text/plain": [
       "              Id                             Title  \\\n",
       "61844   68697199  Italian Customer Service Advisor   \n",
       "154349  71011915            Construction Associate   \n",
       "219016  72339273   Despatch Manager  Food Industry   \n",
       "\n",
       "                                          FullDescription  \\\n",
       "61844   Italian Customer Service Advisor **** **** Pre...   \n",
       "154349  Construction Associate  My client is a top tie...   \n",
       "219016  Due to their continued growth, our client, a r...   \n",
       "\n",
       "                                          LocationRaw LocationNormalized  \\\n",
       "61844       Preston, Lancashire Lancashire North West            Preston   \n",
       "154349                                     Lancashire         Lancashire   \n",
       "219016  Irvine, North Ayrshire, Scotland, Strathclyde                 UK   \n",
       "\n",
       "       ContractType ContractTime  \\\n",
       "61844           NaN    permanent   \n",
       "154349    full_time    permanent   \n",
       "219016          NaN    permanent   \n",
       "\n",
       "                                                 Company  \\\n",
       "61844                                 Get Recruited  Ltd   \n",
       "154349                                        Sacco Mann   \n",
       "219016  Elevate Recruitment and Training Consultants Ltd   \n",
       "\n",
       "                          Category  \\\n",
       "61844       Customer Services Jobs   \n",
       "154349                  Legal Jobs   \n",
       "219016  Logistics & Warehouse Jobs   \n",
       "\n",
       "                                                SalaryRaw  SalaryNormalized  \\\n",
       "61844                     12000 - 14000 per annum + bonus             13000   \n",
       "154349  From 35,000 to 55,000 per year + plus full ben...             45000   \n",
       "219016                                25000 - 35000/annum             30000   \n",
       "\n",
       "              SourceName  Log1pSalary  \n",
       "61844      totaljobs.com     9.472781  \n",
       "154349      TotallyLegal    10.714440  \n",
       "219016  cv-library.co.uk    10.308986  "
      ]
     },
     "execution_count": 8,
     "metadata": {},
     "output_type": "execute_result"
    }
   ],
   "source": [
    "text_columns = [\"Title\", \"FullDescription\"]\n",
    "categorical_columns = [\"Category\", \"Company\", \"LocationNormalized\", \"ContractType\", \"ContractTime\"]\n",
    "TARGET_COLUMN = \"Log1pSalary\"\n",
    "\n",
    "data[categorical_columns] = data[categorical_columns].fillna('NaN') # cast missing values to string \"NaN\"\n",
    "\n",
    "data.sample(3)"
   ]
  },
  {
   "cell_type": "markdown",
   "metadata": {},
   "source": [
    "### Preprocessing text data\n",
    "\n",
    "Just like last week, applying NLP to a problem begins from tokenization: splitting raw text into sequences of tokens (words, punctuation, etc).\n",
    "\n",
    "__Your task__ is to lowercase and tokenize all texts under `Title` and `FullDescription` columns. Store the tokenized data as a __space-separated__ string of tokens for performance reasons.\n",
    "\n",
    "It's okay to use nltk tokenizers. Assertions were designed for WordPunctTokenizer, slight deviations are okay."
   ]
  },
  {
   "cell_type": "code",
   "execution_count": 9,
   "metadata": {
    "scrolled": true
   },
   "outputs": [
    {
     "name": "stdout",
     "output_type": "stream",
     "text": [
      "Raw text:\n",
      "2         Mathematical Modeller / Simulation Analyst / O...\n",
      "100002    A successful and high achieving specialist sch...\n",
      "200002    Web Designer  HTML, CSS, JavaScript, Photoshop...\n",
      "Name: FullDescription, dtype: object\n"
     ]
    }
   ],
   "source": [
    "print(\"Raw text:\")\n",
    "print(data[\"FullDescription\"][2::100000])"
   ]
  },
  {
   "cell_type": "code",
   "execution_count": 10,
   "metadata": {},
   "outputs": [],
   "source": [
    "import nltk\n",
    "\n",
    "#TODO YOUR CODE HERE\n",
    "\n",
    "tokenizer = nltk.tokenize.WordPunctTokenizer()\n",
    "# YOUR CODE HERE\n",
    "\n",
    "def formatText(text: str):\n",
    "    if not isinstance(text, str):\n",
    "        return ''\n",
    "        \n",
    "    tokens = tokenizer.tokenize(text)\n",
    "    return ' '.join(tokens).lower()\n",
    "\n",
    "data.Title = data.Title.map(formatText)\n",
    "\n",
    "data.FullDescription = data.FullDescription.map(formatText)\n"
   ]
  },
  {
   "cell_type": "markdown",
   "metadata": {},
   "source": [
    "Now we can assume that our text is a space-separated list of tokens:"
   ]
  },
  {
   "cell_type": "code",
   "execution_count": 11,
   "metadata": {},
   "outputs": [
    {
     "name": "stdout",
     "output_type": "stream",
     "text": [
      "Tokenized:\n",
      "2         mathematical modeller / simulation analyst / o...\n",
      "100002    a successful and high achieving specialist sch...\n",
      "200002    web designer html , css , javascript , photosh...\n",
      "Name: FullDescription, dtype: object\n",
      "mathematical modeller / simulation analyst / opera\n",
      "international digital account manager ( german )\n"
     ]
    }
   ],
   "source": [
    "print(\"Tokenized:\")\n",
    "print(data[\"FullDescription\"][2::100000])\n",
    "\n",
    "print(data[\"FullDescription\"][2][:50])\n",
    "assert data[\"FullDescription\"][2][:50] == 'mathematical modeller / simulation analyst / opera'\n",
    "\n",
    "print(data[\"Title\"][54321])\n",
    "assert data[\"Title\"][54321] == 'international digital account manager ( german )'"
   ]
  },
  {
   "cell_type": "markdown",
   "metadata": {},
   "source": [
    "Not all words are equally useful. Some of them are typos or rare words that are only present a few times. \n",
    "\n",
    "Let's count how many times is each word present in the data so that we can build a \"white list\" of known words."
   ]
  },
  {
   "cell_type": "code",
   "execution_count": 12,
   "metadata": {},
   "outputs": [],
   "source": [
    "from collections import Counter\n",
    "\n",
    "# Count how many times does each token occur in both \"Title\" and \"FullDescription\" in total\n",
    "#TODO <YOUR CODE>\n",
    "token_counts = Counter()\n",
    "\n",
    "for title in data[\"Title\"].values:\n",
    "    for token in title.split(' '):\n",
    "        token_counts[token] += 1\n",
    "        \n",
    "for description in data[\"FullDescription\"].values:\n",
    "    for token in description.split(' '):\n",
    "        token_counts[token] += 1\n",
    "\n",
    "# token_counts = Counter(np.add.reduce(data[\"Title\"]) + np.add.reduce(data[\"FullDescription\"]))"
   ]
  },
  {
   "cell_type": "code",
   "execution_count": 13,
   "metadata": {},
   "outputs": [
    {
     "name": "stdout",
     "output_type": "stream",
     "text": [
      "Total unique tokens : 202705\n",
      "('and', 2657388)\n",
      "('.', 2523216)\n",
      "(',', 2318606)\n",
      "('the', 2080994)\n",
      "('to', 2019884)\n",
      "...\n",
      "('stephanietraveltraderecruitmnt', 1)\n",
      "('ruabon', 1)\n",
      "('lowehays', 1)\n",
      "Correct!\n"
     ]
    }
   ],
   "source": [
    "print(\"Total unique tokens :\", len(token_counts))\n",
    "print('\\n'.join(map(str, token_counts.most_common(n=5))))\n",
    "print('...')\n",
    "print('\\n'.join(map(str, token_counts.most_common()[-3:])))\n",
    "\n",
    "assert token_counts.most_common(1)[0][1] in  range(2600000, 2700000)\n",
    "assert len(token_counts) in range(200000, 210000)\n",
    "print('Correct!')"
   ]
  },
  {
   "cell_type": "code",
   "execution_count": 14,
   "metadata": {},
   "outputs": [
    {
     "data": {
      "image/png": "[encoded data removed]",
      "text/plain": [
       "<Figure size 640x480 with 1 Axes>"
      ]
     },
     "metadata": {},
     "output_type": "display_data"
    }
   ],
   "source": [
    "# Let's see how many words are there for each count\n",
    "plt.hist(list(token_counts.values()), range=[0, 10**4], bins=50, log=True)\n",
    "plt.xlabel(\"Word counts\");"
   ]
  },
  {
   "cell_type": "markdown",
   "metadata": {},
   "source": [
    "__Task 1.1__ Get a list of all tokens that occur at least 10 times."
   ]
  },
  {
   "cell_type": "code",
   "execution_count": 15,
   "metadata": {},
   "outputs": [],
   "source": [
    "min_count = 10\n",
    "\n",
    "# tokens from token_counts keys that had at least min_count occurrences throughout the dataset\n",
    "tokens = sorted(t for t, c in token_counts.items() if c >= min_count)\n",
    "\n",
    "# Add a special tokens for unknown and empty words\n",
    "UNK, PAD = \"UNK\", \"PAD\"\n",
    "tokens = [UNK, PAD] + tokens"
   ]
  },
  {
   "cell_type": "code",
   "execution_count": 16,
   "metadata": {},
   "outputs": [
    {
     "name": "stdout",
     "output_type": "stream",
     "text": [
      "Vocabulary size: 34158\n",
      "Correct!\n"
     ]
    }
   ],
   "source": [
    "print(\"Vocabulary size:\", len(tokens))\n",
    "assert type(tokens) == list\n",
    "assert len(tokens) in range(32000, 35000)\n",
    "assert 'me' in tokens\n",
    "assert UNK in tokens\n",
    "print(\"Correct!\")"
   ]
  },
  {
   "cell_type": "markdown",
   "metadata": {},
   "source": [
    "__Task 1.2__ Build an inverse token index: a dictionary from token(string) to it's index in `tokens` (int)"
   ]
  },
  {
   "cell_type": "code",
   "execution_count": 17,
   "metadata": {},
   "outputs": [],
   "source": [
    "token_to_id = {} #<your code here - dict of token name to its index in tokens>\n",
    "\n",
    "for i, token in enumerate(tokens):\n",
    "    token_to_id[token] = i"
   ]
  },
  {
   "cell_type": "code",
   "execution_count": 18,
   "metadata": {},
   "outputs": [
    {
     "name": "stdout",
     "output_type": "stream",
     "text": [
      "Correct!\n"
     ]
    }
   ],
   "source": [
    "assert isinstance(token_to_id, dict)\n",
    "assert len(token_to_id) == len(tokens)\n",
    "for tok in tokens:\n",
    "    assert tokens[token_to_id[tok]] == tok\n",
    "\n",
    "print(\"Correct!\")"
   ]
  },
  {
   "cell_type": "markdown",
   "metadata": {},
   "source": [
    "And finally, let's use the vocabulary you've built to map text lines into neural network-digestible matrices."
   ]
  },
  {
   "cell_type": "code",
   "execution_count": 19,
   "metadata": {},
   "outputs": [],
   "source": [
    "UNK_IX, PAD_IX = map(token_to_id.get, [UNK, PAD])\n",
    "\n",
    "def as_matrix(sequences, max_len=None):\n",
    "    \"\"\" Convert a list of tokens into a matrix with padding \"\"\"\n",
    "    if isinstance(sequences[0], str):\n",
    "        sequences = list(map(str.split, sequences))\n",
    "        \n",
    "    max_len = min(max(map(len, sequences)), max_len or float('inf'))\n",
    "    \n",
    "    matrix = np.full((len(sequences), max_len), np.int32(PAD_IX))\n",
    "    for i,seq in enumerate(sequences):\n",
    "        row_ix = [token_to_id.get(word, UNK_IX) for word in seq[:max_len]]\n",
    "        matrix[i, :len(row_ix)] = row_ix\n",
    "    \n",
    "    return matrix"
   ]
  },
  {
   "cell_type": "code",
   "execution_count": 20,
   "metadata": {},
   "outputs": [
    {
     "name": "stdout",
     "output_type": "stream",
     "text": [
      "Lines:\n",
      "engineering systems analyst\n",
      "hr assistant\n",
      "senior ec & i engineer\n",
      "\n",
      "Matrix:\n",
      "[[10807 30161  2166     1     1]\n",
      " [15020  2844     1     1     1]\n",
      " [27645 10201    16 15215 10804]]\n"
     ]
    }
   ],
   "source": [
    "print(\"Lines:\")\n",
    "print('\\n'.join(data[\"Title\"][::100000].values), end='\\n\\n')\n",
    "print(\"Matrix:\")\n",
    "print(as_matrix(data[\"Title\"][::100000]))"
   ]
  },
  {
   "cell_type": "markdown",
   "metadata": {},
   "source": [
    "Now let's  encode the categirical data we have.\n",
    "\n",
    "As usual, we shall use one-hot encoding for simplicity. Kudos if you implement more advanced encodings: tf-idf, pseudo-time-series, etc."
   ]
  },
  {
   "cell_type": "code",
   "execution_count": 21,
   "metadata": {},
   "outputs": [
    {
     "data": {
      "text/html": [
       "<style>#sk-container-id-1 {\n",
       "  /* Definition of color scheme common for light and dark mode */\n",
       "  --sklearn-color-text: black;\n",
       "  --sklearn-color-line: gray;\n",
       "  /* Definition of color scheme for unfitted estimators */\n",
       "  --sklearn-color-unfitted-level-0: #fff5e6;\n",
       "  --sklearn-color-unfitted-level-1: #f6e4d2;\n",
       "  --sklearn-color-unfitted-level-2: #ffe0b3;\n",
       "  --sklearn-color-unfitted-level-3: chocolate;\n",
       "  /* Definition of color scheme for fitted estimators */\n",
       "  --sklearn-color-fitted-level-0: #f0f8ff;\n",
       "  --sklearn-color-fitted-level-1: #d4ebff;\n",
       "  --sklearn-color-fitted-level-2: #b3dbfd;\n",
       "  --sklearn-color-fitted-level-3: cornflowerblue;\n",
       "\n",
       "  /* Specific color for light theme */\n",
       "  --sklearn-color-text-on-default-background: var(--sg-text-color, var(--theme-code-foreground, var(--jp-content-font-color1, black)));\n",
       "  --sklearn-color-background: var(--sg-background-color, var(--theme-background, var(--jp-layout-color0, white)));\n",
       "  --sklearn-color-border-box: var(--sg-text-color, var(--theme-code-foreground, var(--jp-content-font-color1, black)));\n",
       "  --sklearn-color-icon: #696969;\n",
       "\n",
       "  @media (prefers-color-scheme: dark) {\n",
       "    /* Redefinition of color scheme for dark theme */\n",
       "    --sklearn-color-text-on-default-background: var(--sg-text-color, var(--theme-code-foreground, var(--jp-content-font-color1, white)));\n",
       "    --sklearn-color-background: var(--sg-background-color, var(--theme-background, var(--jp-layout-color0, #111)));\n",
       "    --sklearn-color-border-box: var(--sg-text-color, var(--theme-code-foreground, var(--jp-content-font-color1, white)));\n",
       "    --sklearn-color-icon: #878787;\n",
       "  }\n",
       "}\n",
       "\n",
       "#sk-container-id-1 {\n",
       "  color: var(--sklearn-color-text);\n",
       "}\n",
       "\n",
       "#sk-container-id-1 pre {\n",
       "  padding: 0;\n",
       "}\n",
       "\n",
       "#sk-container-id-1 input.sk-hidden--visually {\n",
       "  border: 0;\n",
       "  clip: rect(1px 1px 1px 1px);\n",
       "  clip: rect(1px, 1px, 1px, 1px);\n",
       "  height: 1px;\n",
       "  margin: -1px;\n",
       "  overflow: hidden;\n",
       "  padding: 0;\n",
       "  position: absolute;\n",
       "  width: 1px;\n",
       "}\n",
       "\n",
       "#sk-container-id-1 div.sk-dashed-wrapped {\n",
       "  border: 1px dashed var(--sklearn-color-line);\n",
       "  margin: 0 0.4em 0.5em 0.4em;\n",
       "  box-sizing: border-box;\n",
       "  padding-bottom: 0.4em;\n",
       "  background-color: var(--sklearn-color-background);\n",
       "}\n",
       "\n",
       "#sk-container-id-1 div.sk-container {\n",
       "  /* jupyter's `normalize.less` sets `[hidden] { display: none; }`\n",
       "     but bootstrap.min.css set `[hidden] { display: none !important; }`\n",
       "     so we also need the `!important` here to be able to override the\n",
       "     default hidden behavior on the sphinx rendered scikit-learn.org.\n",
       "     See: https://github.com/scikit-learn/scikit-learn/issues/21755 */\n",
       "  display: inline-block !important;\n",
       "  position: relative;\n",
       "}\n",
       "\n",
       "#sk-container-id-1 div.sk-text-repr-fallback {\n",
       "  display: none;\n",
       "}\n",
       "\n",
       "div.sk-parallel-item,\n",
       "div.sk-serial,\n",
       "div.sk-item {\n",
       "  /* draw centered vertical line to link estimators */\n",
       "  background-image: linear-gradient(var(--sklearn-color-text-on-default-background), var(--sklearn-color-text-on-default-background));\n",
       "  background-size: 2px 100%;\n",
       "  background-repeat: no-repeat;\n",
       "  background-position: center center;\n",
       "}\n",
       "\n",
       "/* Parallel-specific style estimator block */\n",
       "\n",
       "#sk-container-id-1 div.sk-parallel-item::after {\n",
       "  content: \"\";\n",
       "  width: 100%;\n",
       "  border-bottom: 2px solid var(--sklearn-color-text-on-default-background);\n",
       "  flex-grow: 1;\n",
       "}\n",
       "\n",
       "#sk-container-id-1 div.sk-parallel {\n",
       "  display: flex;\n",
       "  align-items: stretch;\n",
       "  justify-content: center;\n",
       "  background-color: var(--sklearn-color-background);\n",
       "  position: relative;\n",
       "}\n",
       "\n",
       "#sk-container-id-1 div.sk-parallel-item {\n",
       "  display: flex;\n",
       "  flex-direction: column;\n",
       "}\n",
       "\n",
       "#sk-container-id-1 div.sk-parallel-item:first-child::after {\n",
       "  align-self: flex-end;\n",
       "  width: 50%;\n",
       "}\n",
       "\n",
       "#sk-container-id-1 div.sk-parallel-item:last-child::after {\n",
       "  align-self: flex-start;\n",
       "  width: 50%;\n",
       "}\n",
       "\n",
       "#sk-container-id-1 div.sk-parallel-item:only-child::after {\n",
       "  width: 0;\n",
       "}\n",
       "\n",
       "/* Serial-specific style estimator block */\n",
       "\n",
       "#sk-container-id-1 div.sk-serial {\n",
       "  display: flex;\n",
       "  flex-direction: column;\n",
       "  align-items: center;\n",
       "  background-color: var(--sklearn-color-background);\n",
       "  padding-right: 1em;\n",
       "  padding-left: 1em;\n",
       "}\n",
       "\n",
       "\n",
       "/* Toggleable style: style used for estimator/Pipeline/ColumnTransformer box that is\n",
       "clickable and can be expanded/collapsed.\n",
       "- Pipeline and ColumnTransformer use this feature and define the default style\n",
       "- Estimators will overwrite some part of the style using the `sk-estimator` class\n",
       "*/\n",
       "\n",
       "/* Pipeline and ColumnTransformer style (default) */\n",
       "\n",
       "#sk-container-id-1 div.sk-toggleable {\n",
       "  /* Default theme specific background. It is overwritten whether we have a\n",
       "  specific estimator or a Pipeline/ColumnTransformer */\n",
       "  background-color: var(--sklearn-color-background);\n",
       "}\n",
       "\n",
       "/* Toggleable label */\n",
       "#sk-container-id-1 label.sk-toggleable__label {\n",
       "  cursor: pointer;\n",
       "  display: block;\n",
       "  width: 100%;\n",
       "  margin-bottom: 0;\n",
       "  padding: 0.5em;\n",
       "  box-sizing: border-box;\n",
       "  text-align: center;\n",
       "}\n",
       "\n",
       "#sk-container-id-1 label.sk-toggleable__label-arrow:before {\n",
       "  /* Arrow on the left of the label */\n",
       "  content: \"▸\";\n",
       "  float: left;\n",
       "  margin-right: 0.25em;\n",
       "  color: var(--sklearn-color-icon);\n",
       "}\n",
       "\n",
       "#sk-container-id-1 label.sk-toggleable__label-arrow:hover:before {\n",
       "  color: var(--sklearn-color-text);\n",
       "}\n",
       "\n",
       "/* Toggleable content - dropdown */\n",
       "\n",
       "#sk-container-id-1 div.sk-toggleable__content {\n",
       "  max-height: 0;\n",
       "  max-width: 0;\n",
       "  overflow: hidden;\n",
       "  text-align: left;\n",
       "  /* unfitted */\n",
       "  background-color: var(--sklearn-color-unfitted-level-0);\n",
       "}\n",
       "\n",
       "#sk-container-id-1 div.sk-toggleable__content.fitted {\n",
       "  /* fitted */\n",
       "  background-color: var(--sklearn-color-fitted-level-0);\n",
       "}\n",
       "\n",
       "#sk-container-id-1 div.sk-toggleable__content pre {\n",
       "  margin: 0.2em;\n",
       "  border-radius: 0.25em;\n",
       "  color: var(--sklearn-color-text);\n",
       "  /* unfitted */\n",
       "  background-color: var(--sklearn-color-unfitted-level-0);\n",
       "}\n",
       "\n",
       "#sk-container-id-1 div.sk-toggleable__content.fitted pre {\n",
       "  /* unfitted */\n",
       "  background-color: var(--sklearn-color-fitted-level-0);\n",
       "}\n",
       "\n",
       "#sk-container-id-1 input.sk-toggleable__control:checked~div.sk-toggleable__content {\n",
       "  /* Expand drop-down */\n",
       "  max-height: 200px;\n",
       "  max-width: 100%;\n",
       "  overflow: auto;\n",
       "}\n",
       "\n",
       "#sk-container-id-1 input.sk-toggleable__control:checked~label.sk-toggleable__label-arrow:before {\n",
       "  content: \"▾\";\n",
       "}\n",
       "\n",
       "/* Pipeline/ColumnTransformer-specific style */\n",
       "\n",
       "#sk-container-id-1 div.sk-label input.sk-toggleable__control:checked~label.sk-toggleable__label {\n",
       "  color: var(--sklearn-color-text);\n",
       "  background-color: var(--sklearn-color-unfitted-level-2);\n",
       "}\n",
       "\n",
       "#sk-container-id-1 div.sk-label.fitted input.sk-toggleable__control:checked~label.sk-toggleable__label {\n",
       "  background-color: var(--sklearn-color-fitted-level-2);\n",
       "}\n",
       "\n",
       "/* Estimator-specific style */\n",
       "\n",
       "/* Colorize estimator box */\n",
       "#sk-container-id-1 div.sk-estimator input.sk-toggleable__control:checked~label.sk-toggleable__label {\n",
       "  /* unfitted */\n",
       "  background-color: var(--sklearn-color-unfitted-level-2);\n",
       "}\n",
       "\n",
       "#sk-container-id-1 div.sk-estimator.fitted input.sk-toggleable__control:checked~label.sk-toggleable__label {\n",
       "  /* fitted */\n",
       "  background-color: var(--sklearn-color-fitted-level-2);\n",
       "}\n",
       "\n",
       "#sk-container-id-1 div.sk-label label.sk-toggleable__label,\n",
       "#sk-container-id-1 div.sk-label label {\n",
       "  /* The background is the default theme color */\n",
       "  color: var(--sklearn-color-text-on-default-background);\n",
       "}\n",
       "\n",
       "/* On hover, darken the color of the background */\n",
       "#sk-container-id-1 div.sk-label:hover label.sk-toggleable__label {\n",
       "  color: var(--sklearn-color-text);\n",
       "  background-color: var(--sklearn-color-unfitted-level-2);\n",
       "}\n",
       "\n",
       "/* Label box, darken color on hover, fitted */\n",
       "#sk-container-id-1 div.sk-label.fitted:hover label.sk-toggleable__label.fitted {\n",
       "  color: var(--sklearn-color-text);\n",
       "  background-color: var(--sklearn-color-fitted-level-2);\n",
       "}\n",
       "\n",
       "/* Estimator label */\n",
       "\n",
       "#sk-container-id-1 div.sk-label label {\n",
       "  font-family: monospace;\n",
       "  font-weight: bold;\n",
       "  display: inline-block;\n",
       "  line-height: 1.2em;\n",
       "}\n",
       "\n",
       "#sk-container-id-1 div.sk-label-container {\n",
       "  text-align: center;\n",
       "}\n",
       "\n",
       "/* Estimator-specific */\n",
       "#sk-container-id-1 div.sk-estimator {\n",
       "  font-family: monospace;\n",
       "  border: 1px dotted var(--sklearn-color-border-box);\n",
       "  border-radius: 0.25em;\n",
       "  box-sizing: border-box;\n",
       "  margin-bottom: 0.5em;\n",
       "  /* unfitted */\n",
       "  background-color: var(--sklearn-color-unfitted-level-0);\n",
       "}\n",
       "\n",
       "#sk-container-id-1 div.sk-estimator.fitted {\n",
       "  /* fitted */\n",
       "  background-color: var(--sklearn-color-fitted-level-0);\n",
       "}\n",
       "\n",
       "/* on hover */\n",
       "#sk-container-id-1 div.sk-estimator:hover {\n",
       "  /* unfitted */\n",
       "  background-color: var(--sklearn-color-unfitted-level-2);\n",
       "}\n",
       "\n",
       "#sk-container-id-1 div.sk-estimator.fitted:hover {\n",
       "  /* fitted */\n",
       "  background-color: var(--sklearn-color-fitted-level-2);\n",
       "}\n",
       "\n",
       "/* Specification for estimator info (e.g. \"i\" and \"?\") */\n",
       "\n",
       "/* Common style for \"i\" and \"?\" */\n",
       "\n",
       ".sk-estimator-doc-link,\n",
       "a:link.sk-estimator-doc-link,\n",
       "a:visited.sk-estimator-doc-link {\n",
       "  float: right;\n",
       "  font-size: smaller;\n",
       "  line-height: 1em;\n",
       "  font-family: monospace;\n",
       "  background-color: var(--sklearn-color-background);\n",
       "  border-radius: 1em;\n",
       "  height: 1em;\n",
       "  width: 1em;\n",
       "  text-decoration: none !important;\n",
       "  margin-left: 1ex;\n",
       "  /* unfitted */\n",
       "  border: var(--sklearn-color-unfitted-level-1) 1pt solid;\n",
       "  color: var(--sklearn-color-unfitted-level-1);\n",
       "}\n",
       "\n",
       ".sk-estimator-doc-link.fitted,\n",
       "a:link.sk-estimator-doc-link.fitted,\n",
       "a:visited.sk-estimator-doc-link.fitted {\n",
       "  /* fitted */\n",
       "  border: var(--sklearn-color-fitted-level-1) 1pt solid;\n",
       "  color: var(--sklearn-color-fitted-level-1);\n",
       "}\n",
       "\n",
       "/* On hover */\n",
       "div.sk-estimator:hover .sk-estimator-doc-link:hover,\n",
       ".sk-estimator-doc-link:hover,\n",
       "div.sk-label-container:hover .sk-estimator-doc-link:hover,\n",
       ".sk-estimator-doc-link:hover {\n",
       "  /* unfitted */\n",
       "  background-color: var(--sklearn-color-unfitted-level-3);\n",
       "  color: var(--sklearn-color-background);\n",
       "  text-decoration: none;\n",
       "}\n",
       "\n",
       "div.sk-estimator.fitted:hover .sk-estimator-doc-link.fitted:hover,\n",
       ".sk-estimator-doc-link.fitted:hover,\n",
       "div.sk-label-container:hover .sk-estimator-doc-link.fitted:hover,\n",
       ".sk-estimator-doc-link.fitted:hover {\n",
       "  /* fitted */\n",
       "  background-color: var(--sklearn-color-fitted-level-3);\n",
       "  color: var(--sklearn-color-background);\n",
       "  text-decoration: none;\n",
       "}\n",
       "\n",
       "/* Span, style for the box shown on hovering the info icon */\n",
       ".sk-estimator-doc-link span {\n",
       "  display: none;\n",
       "  z-index: 9999;\n",
       "  position: relative;\n",
       "  font-weight: normal;\n",
       "  right: .2ex;\n",
       "  padding: .5ex;\n",
       "  margin: .5ex;\n",
       "  width: min-content;\n",
       "  min-width: 20ex;\n",
       "  max-width: 50ex;\n",
       "  color: var(--sklearn-color-text);\n",
       "  box-shadow: 2pt 2pt 4pt #999;\n",
       "  /* unfitted */\n",
       "  background: var(--sklearn-color-unfitted-level-0);\n",
       "  border: .5pt solid var(--sklearn-color-unfitted-level-3);\n",
       "}\n",
       "\n",
       ".sk-estimator-doc-link.fitted span {\n",
       "  /* fitted */\n",
       "  background: var(--sklearn-color-fitted-level-0);\n",
       "  border: var(--sklearn-color-fitted-level-3);\n",
       "}\n",
       "\n",
       ".sk-estimator-doc-link:hover span {\n",
       "  display: block;\n",
       "}\n",
       "\n",
       "/* \"?\"-specific style due to the `<a>` HTML tag */\n",
       "\n",
       "#sk-container-id-1 a.estimator_doc_link {\n",
       "  float: right;\n",
       "  font-size: 1rem;\n",
       "  line-height: 1em;\n",
       "  font-family: monospace;\n",
       "  background-color: var(--sklearn-color-background);\n",
       "  border-radius: 1rem;\n",
       "  height: 1rem;\n",
       "  width: 1rem;\n",
       "  text-decoration: none;\n",
       "  /* unfitted */\n",
       "  color: var(--sklearn-color-unfitted-level-1);\n",
       "  border: var(--sklearn-color-unfitted-level-1) 1pt solid;\n",
       "}\n",
       "\n",
       "#sk-container-id-1 a.estimator_doc_link.fitted {\n",
       "  /* fitted */\n",
       "  border: var(--sklearn-color-fitted-level-1) 1pt solid;\n",
       "  color: var(--sklearn-color-fitted-level-1);\n",
       "}\n",
       "\n",
       "/* On hover */\n",
       "#sk-container-id-1 a.estimator_doc_link:hover {\n",
       "  /* unfitted */\n",
       "  background-color: var(--sklearn-color-unfitted-level-3);\n",
       "  color: var(--sklearn-color-background);\n",
       "  text-decoration: none;\n",
       "}\n",
       "\n",
       "#sk-container-id-1 a.estimator_doc_link.fitted:hover {\n",
       "  /* fitted */\n",
       "  background-color: var(--sklearn-color-fitted-level-3);\n",
       "}\n",
       "</style><div id=\"sk-container-id-1\" class=\"sk-top-container\"><div class=\"sk-text-repr-fallback\"><pre>DictVectorizer(dtype=&lt;class &#x27;numpy.float32&#x27;&gt;, sparse=False)</pre><b>In a Jupyter environment, please rerun this cell to show the HTML representation or trust the notebook. <br />On GitHub, the HTML representation is unable to render, please try loading this page with nbviewer.org.</b></div><div class=\"sk-container\" hidden><div class=\"sk-item\"><div class=\"sk-estimator fitted sk-toggleable\"><input class=\"sk-toggleable__control sk-hidden--visually\" id=\"sk-estimator-id-1\" type=\"checkbox\" checked><label for=\"sk-estimator-id-1\" class=\"sk-toggleable__label fitted sk-toggleable__label-arrow fitted\">&nbsp;&nbsp;DictVectorizer<a class=\"sk-estimator-doc-link fitted\" rel=\"noreferrer\" target=\"_blank\" href=\"https://scikit-learn.org/1.5/modules/generated/sklearn.feature_extraction.DictVectorizer.html\">?<span>Documentation for DictVectorizer</span></a><span class=\"sk-estimator-doc-link fitted\">i<span>Fitted</span></span></label><div class=\"sk-toggleable__content fitted\"><pre>DictVectorizer(dtype=&lt;class &#x27;numpy.float32&#x27;&gt;, sparse=False)</pre></div> </div></div></div></div>"
      ],
      "text/plain": [
       "DictVectorizer(dtype=<class 'numpy.float32'>, sparse=False)"
      ]
     },
     "execution_count": 21,
     "metadata": {},
     "output_type": "execute_result"
    }
   ],
   "source": [
    "from sklearn.feature_extraction import DictVectorizer\n",
    "\n",
    "# we only consider top-1k most frequent companies to minimize memory usage\n",
    "top_companies, top_counts = zip(*Counter(data['Company']).most_common(1000))\n",
    "recognized_companies = set(top_companies)\n",
    "data[\"Company\"] = data[\"Company\"].apply(lambda comp: comp if comp in recognized_companies else \"Other\")\n",
    "\n",
    "categorical_vectorizer = DictVectorizer(dtype=np.float32, sparse=False)\n",
    "categorical_vectorizer.fit(data[categorical_columns].apply(dict, axis=1))"
   ]
  },
  {
   "cell_type": "code",
   "execution_count": 22,
   "metadata": {},
   "outputs": [
    {
     "name": "stdout",
     "output_type": "stream",
     "text": [
      "{'Category=Accounting & Finance Jobs': 0, 'Category=Admin Jobs': 1, 'Category=Charity & Voluntary Jobs': 2, 'Category=Consultancy Jobs': 3, 'Category=Creative & Design Jobs': 4, 'Category=Customer Services Jobs': 5, 'Category=Domestic help & Cleaning Jobs': 6, 'Category=Energy, Oil & Gas Jobs': 7, 'Category=Engineering Jobs': 8, 'Category=Graduate Jobs': 9, 'Category=HR & Recruitment Jobs': 10, 'Category=Healthcare & Nursing Jobs': 11, 'Category=Hospitality & Catering Jobs': 12, 'Category=IT Jobs': 13, 'Category=Legal Jobs': 14, 'Category=Logistics & Warehouse Jobs': 15, 'Category=Maintenance Jobs': 16, 'Category=Manufacturing Jobs': 17, 'Category=Other/General Jobs': 18, 'Category=PR, Advertising & Marketing Jobs': 19, 'Category=Part time Jobs': 20, 'Category=Property Jobs': 21, 'Category=Retail Jobs': 22, 'Category=Sales Jobs': 23, 'Category=Scientific & QA Jobs': 24, 'Category=Social work Jobs': 25, 'Category=Teaching Jobs': 26, 'Category=Trade & Construction Jobs': 27, 'Category=Travel Jobs': 28, 'Company=1st Executive Ltd': 29, 'Company=1st Place': 30, 'Company=2M Employment Solutions Ltd': 31, 'Company=360 Resourcing': 32, 'Company=360 Resourcing Solutions': 33, 'Company=360 Resourcing Solutions Ltd': 34, 'Company=4Social Work': 35, 'Company=A1 People': 36, 'Company=AA Appointments': 37, 'Company=AA Travel Appointments': 38, 'Company=ABC Teachers': 39, 'Company=ACADEMICS LTD': 40, 'Company=ACORN RECRUITMENT LIMITED': 41, 'Company=ACS Recruitment Consultants Ltd': 42, 'Company=AES TECHNICAL & EXECUTIVE CONSULTANTS': 43, 'Company=AFR Consulting': 44, 'Company=AMBRIDGE HARRIS ASSOCIATES': 45, 'Company=AMR': 46, 'Company=AMR   West of England': 47, 'Company=AMR Group': 48, 'Company=ANSON MCCADE': 49, 'Company=ARM': 50, 'Company=ARRAY': 51, 'Company=ASC Connections': 52, 'Company=ASC Connections Ltd': 53, 'Company=ATA': 54, 'Company=ATA Rail': 55, 'Company=ATA Recruitment': 56, 'Company=ATA Recruitment Ltd': 57, 'Company=ATR Solutions': 58, 'Company=AXA': 59, 'Company=Aaron Wallis Sales Recruitment': 60, 'Company=Abacus Professional Recruitment': 61, 'Company=Aberdeen City Council': 62, 'Company=Aberdeenshire Council': 63, 'Company=Abrecco': 64, 'Company=Academics Ltd': 65, 'Company=Accenture': 66, 'Company=Acorn Recruitment': 67, 'Company=Ad Lib': 68, 'Company=Addison Fowle Ltd': 69, 'Company=Additional Resources': 70, 'Company=Additional Resources Limited': 71, 'Company=Additional Resources Ltd': 72, 'Company=Additional Resources Ltd.': 73, 'Company=Adecco': 74, 'Company=Adecco Group': 75, 'Company=Adecco Premier': 76, 'Company=Advance Recruitment': 77, 'Company=Advantage Group': 78, 'Company=Advantage Professional': 79, 'Company=Advantage Technical Resourcing': 80, 'Company=Advantage Technical Resourcing Limited': 81, 'Company=Akton Recruitment': 82, 'Company=Albior Financial Recruitment': 83, 'Company=Alderwood Education': 84, 'Company=Alecto Recruitment': 85, 'Company=Alexander Lloyd': 86, 'Company=Alexander Lloyd   Accountancy': 87, 'Company=Alexander Lloyd   Compliance & Financial Services': 88, 'Company=Allied Healthcare': 89, 'Company=Ambis resourcing Partnership': 90, 'Company=Ambitek Limited': 91, 'Company=Ambition': 92, 'Company=Amida Recruitment Limited': 93, 'Company=AndersElite': 94, 'Company=Angel Human Resources': 95, 'Company=Angela Mortimer Plc': 96, 'Company=Anglian Home Improvements': 97, 'Company=Annapurna HR': 98, 'Company=Annapurna HR Ltd': 99, 'Company=Anonymous': 100, 'Company=Apex Recruitment': 101, 'Company=Appetite 4 Recruitment': 102, 'Company=Appetite4Recruitment   High End Restaurants, Pubs & Bars': 103, 'Company=Appetite4Recruitment   High End Restaurants, Pubs Bars': 104, 'Company=Applause IT Limited': 105, 'Company=Appoint Group': 106, 'Company=Argyll Scott Technology': 107, 'Company=Armed Forces Central Careers Office': 108, 'Company=Ascent People Ltd': 109, 'Company=Ashdown Group': 110, 'Company=Ashdown IT': 111, 'Company=Ashley Kate HR': 112, 'Company=Ask Associates': 113, 'Company=Aspire Data Recruitment': 114, 'Company=Aspire Data Recrutiment': 115, 'Company=Aspire People': 116, 'Company=Asquith Nurseries': 117, 'Company=Assured Recruitment Solutions': 118, 'Company=Assured Recruitment Solutions Limited': 119, 'Company=Assured Recruitment Solutions Ltd': 120, 'Company=Aston Carter': 121, 'Company=Aston Recruitment': 122, 'Company=Astute Technical Recruitment Ltd': 123, 'Company=Austin Fraser': 124, 'Company=Austin Fraser Limited': 125, 'Company=Auto Skills UK': 126, 'Company=Automation Experts': 127, 'Company=Axon Resourcing Limited': 128, 'Company=B&Q': 129, 'Company=B&Q PLC': 130, 'Company=BBL Recruitment': 131, 'Company=BMS   Graduate': 132, 'Company=BMS Graduates': 133, 'Company=BMS Recruitment': 134, 'Company=BMS Sales Specialists': 135, 'Company=BMS Sales Specialists LLP': 136, 'Company=BMS Sales and Marketing Specialists': 137, 'Company=BRAND RECRUITMENT': 138, 'Company=BRC': 139, 'Company=BS Social Care': 140, 'Company=Badenoch & Clark   Birmingham.': 141, 'Company=Badenoch & Clark   Leeds.': 142, 'Company=Badenoch & Clark   London ': 143, 'Company=Badenoch & Clark   Manchester.': 144, 'Company=Badenoch Clark': 145, 'Company=Badenoch and Clark': 146, 'Company=Baltic Recruitment Services Ltd': 147, 'Company=Barchester Healthcare': 148, 'Company=Barclay Meade': 149, 'Company=Barker Ross': 150, 'Company=Barrington James': 151, 'Company=Barrington James Ltd': 152, 'Company=Bee Recruitment London Ltd': 153, 'Company=Benchmark Recruit': 154, 'Company=Berkeley Scott': 155, 'Company=Berkeley Scott Chef Recruitment': 156, 'Company=Berry Recruitment': 157, 'Company=Berry Technical': 158, 'Company=Better Placed Recruitment': 159, 'Company=Black Fox Solutions': 160, 'Company=Bloom Retail': 161, 'Company=Blue Arrow': 162, 'Company=Blue Arrow   Southampton': 163, 'Company=Blue Glue': 164, 'Company=Blue Octopus Recruitment': 165, 'Company=Blue Octopus Recruitment Limited': 166, 'Company=Blue Octopus Recruitment Ltd': 167, 'Company=Blue Skies Marketing Recruitment': 168, 'Company=BlueTownOnline.co.uk': 169, 'Company=Bond Recruitment': 170, 'Company=Bond Search & Selection': 171, 'Company=Bramhall Recruitment Ltd': 172, 'Company=Bramwith Consulting': 173, 'Company=Brand Recruitment': 174, 'Company=Brian Hawkins': 175, 'Company=Bright Selection': 176, 'Company=BrightHouse': 177, 'Company=Brite Recruitment': 178, 'Company=British Gas': 179, 'Company=Brook Street Bureau PLC': 180, 'Company=Brookstreet UK': 181, 'Company=Brunning and Price': 182, 'Company=Bucks & Berks Recruitment PLC': 183, 'Company=Bupa Care Services': 184, 'Company=Burns Sheehan': 185, 'Company=C&M Recruitment': 186, 'Company=C.O.A.L IT Services Ltd': 187, 'Company=C.O.A.L IT. Services Ltd': 188, 'Company=CAREER TEACHERS': 189, 'Company=CBSbutler': 190, 'Company=CCN Recruitment': 191, 'Company=CD Sales Recruitment': 192, 'Company=CG Consultants': 193, 'Company=CHERRY RED RECRUITMENT': 194, 'Company=CHM': 195, 'Company=CHM Recruit': 196, 'Company=CK Group ': 197, 'Company=CMA Financial Recruitment': 198, 'Company=CMC Consulting': 199, 'Company=CMC Consulting Limited': 200, 'Company=COREcruitment International': 201, 'Company=CPL': 202, 'Company=CPL Newry & Belfast': 203, 'Company=CRA Consulting': 204, 'Company=CREATIVE SUPPORT': 205, 'Company=CV Screen Ltd': 206, 'Company=CVUK': 207, 'Company=CVbrowser': 208, 'Company=Caffe Nero': 209, 'Company=Calco Services Limited': 210, 'Company=Calco Technical Recruitment Professionals': 211, 'Company=Caleeda Limited': 212, 'Company=Calibre Candidates': 213, 'Company=Calibre Search': 214, 'Company=Candidate Source': 215, 'Company=Candidate Source Ltd': 216, 'Company=Capita Education': 217, 'Company=Capita Education Resourcing': 218, 'Company=Capita Resourcing': 219, 'Company=Capita Resourcing IT': 220, 'Company=Capita Resourcing Social Care and Housing': 221, 'Company=Capital Strategy Associates': 222, 'Company=Carillion Plc': 223, 'Company=Carillion plc': 224, 'Company=Caritas Recruitment': 225, 'Company=Carlisle Managed Solutions': 226, 'Company=Castle Recruitment': 227, 'Company=Castlerock Recruitment Group': 228, 'Company=Catermatch Solutions': 229, 'Company=Cavendish Maine': 230, 'Company=Cedar': 231, 'Company=Ceema Recruitment': 232, 'Company=Ceema Technology Recruitment': 233, 'Company=Celsian Education': 234, 'Company=Centrepoint Recruitment Consultants': 235, 'Company=Century House': 236, 'Company=Chadwick Nott ': 237, 'Company=Change Recruitment': 238, 'Company=Charity People': 239, 'Company=Charles Hunter Associates': 240, 'Company=Charterhouse Recruitment': 241, 'Company=Chase Holland': 242, 'Company=Chase Medical': 243, 'Company=Chase and Holland': 244, 'Company=Chef Results': 245, 'Company=Chef Selection Limited': 246, 'Company=Cherryred Recruitment': 247, 'Company=Chess Partnership': 248, 'Company=Circle Recruitment': 249, 'Company=Cititec Associates Limited': 250, 'Company=Citizen Recruitment': 251, 'Company=City Centre Recruitment': 252, 'Company=Cityscape Recruitment Ltd': 253, 'Company=Claremont Consulting Ltd': 254, 'Company=Classic Consulting  Ltd': 255, 'Company=Clear Selection': 256, 'Company=Clearwater People Solutions': 257, 'Company=Clemtech': 258, 'Company=Client Server': 259, 'Company=Client Server Ltd.': 260, 'Company=Coal IT Services': 261, 'Company=Coast Specialist Recruitment': 262, 'Company=Coburg Banks': 263, 'Company=Coburg Banks Limited': 264, 'Company=Code Blue Recruitment': 265, 'Company=Collins King & Associates Limited': 266, 'Company=Communicate': 267, 'Company=Compass Associates Ltd': 268, 'Company=Computer Futures': 269, 'Company=Computer People': 270, 'Company=Computer People  Limited': 271, 'Company=Concept IT': 272, 'Company=Concept Recruitment Group Ltd': 273, 'Company=Connections Recruitment Limited': 274, 'Company=Conrad Consulting Ltd': 275, 'Company=Conrad Scott': 276, 'Company=Contract Options': 277, 'Company=Cooper Lomaz   Bury St Edmunds': 278, 'Company=Corecruitment International': 279, 'Company=Corepeople Recruitment': 280, 'Company=Coyle Personnel': 281, 'Company=Creative Personnel': 282, 'Company=Creative Recruitment': 283, 'Company=Creative Support': 284, 'Company=Crown Carveries': 285, 'Company=Cubiq Recruitment': 286, 'Company=D R Newitt': 287, 'Company=DMJ Legal': 288, 'Company=Daniel Owen': 289, 'Company=Dawson & Walsh': 290, 'Company=Deerfoot IT Resources Limited': 291, 'Company=Deerfoot IT Resources Ltd': 292, 'Company=Detail 2 Leisure': 293, 'Company=Detail2Leisure': 294, 'Company=Deverell Smith Recruitment': 295, 'Company=Diamond Recruitment Group': 296, 'Company=Diamond Resourcing': 297, 'Company=Digby Morgan': 298, 'Company=Digital Gurus': 299, 'Company=Domus Recruitment': 300, 'Company=Douglas Scott': 301, 'Company=Douglas Scott Legal Recruitment': 302, 'Company=Driven Motor Jobs': 303, 'Company=Dune Recruitment': 304, 'Company=ECOM RECRUITMENT LTD': 305, 'Company=ECS Group Ltd': 306, 'Company=EDUSTAFF': 307, 'Company=EJ Legal': 308, 'Company=EMPLOYMENT SPECIALISTS LTD': 309, 'Company=ERS': 310, 'Company=ETS Consulting': 311, 'Company=EWI Recruitment': 312, 'Company=EasyWebRecruitment.com': 313, 'Company=Easyweb Recruitment': 314, 'Company=Eclypse Recruitment': 315, 'Company=Eden Brown': 316, 'Company=Eden Brown Ltd': 317, 'Company=Eden Scott': 318, 'Company=Edustaff': 319, 'Company=Edustaff   Birmingham': 320, 'Company=Edustaff   Manchester': 321, 'Company=Edustaff  Ltd': 322, 'Company=Edustaff London Ltd': 323, 'Company=Edustaff Manchester Ltd': 324, 'Company=Edwards & Pearce': 325, 'Company=Edwards Pearce': 326, 'Company=Electus Recruitment Solutions': 327, 'Company=Eligo Recruitment Ltd': 328, 'Company=Elite Associates': 329, 'Company=Ellis Mack': 330, 'Company=Ember Inns': 331, 'Company=Encore Personnel': 332, 'Company=Engage PSG': 333, 'Company=Enjoy Recruitment Group': 334, 'Company=Enjoy Recruitment Group Ltd': 335, 'Company=Enterprise Recruitment': 336, 'Company=Enterprise Recruitment Limited': 337, 'Company=Enterprise Recruitment Ltd': 338, 'Company=Equal Approach Limited': 339, 'Company=Escape': 340, 'Company=Euro London Appointments': 341, 'Company=Euro London Appointments   London': 342, 'Company=Eurobase People': 343, 'Company=Evolution Recruitment Solutions': 344, 'Company=Evolution Recruitment Solutions Ltd': 345, 'Company=Evolve Hospitality': 346, 'Company=Excel Technical Resourcing Solutions Ltd': 347, 'Company=Exchange Street Executive Search': 348, 'Company=Executive Recruitment Services': 349, 'Company=Experis IT': 350, 'Company=Explore Group': 351, 'Company=Explore Recruitment Solutions': 352, 'Company=Exposed Solutions': 353, 'Company=Exsurgo': 354, 'Company=Extra Personnel': 355, 'Company=FASHION & RETAIL PERSONNEL LIMITED': 356, 'Company=FPR Group': 357, 'Company=FRS Ltd': 358, 'Company=FastTrack Management Services Limited': 359, 'Company=Fawkes & Reece': 360, 'Company=Fawkes & Reece social care': 361, 'Company=Fawkes Reece': 362, 'Company=Fawkes Reece Recruitment Solutions': 363, 'Company=Fawkes and Reece Technical': 364, 'Company=Fife Council': 365, 'Company=Finegreen Associates': 366, 'Company=First Choice Staff': 367, 'Company=First Personnel Services plc': 368, 'Company=Flame Health Associates LLP': 369, 'Company=Flame Pharma': 370, 'Company=Flow Caritas': 371, 'Company=Focus Management Consultants Ltd': 372, 'Company=Focus Resourcing': 373, 'Company=Forces Recruitment Services': 374, 'Company=Forces Recruitment Services  Ltd': 375, 'Company=Forde Recruitment': 376, 'Company=Forrest Recruitment': 377, 'Company=Four Financial Recruitment Ltd': 378, 'Company=Four Seasons Health Care': 379, 'Company=Frazer Jones': 380, 'Company=Freedom Recruitment': 381, 'Company=Freight Personnel': 382, 'Company=Fresh Connect Recruitment': 383, 'Company=Fresh Partnership': 384, 'Company=Fruition IT Resources Limited': 385, 'Company=Fully Booked': 386, 'Company=Fusion People': 387, 'Company=Fusion People Ltd': 388, 'Company=Future Engineering Recruitment Ltd': 389, 'Company=Future Select': 390, 'Company=Future Select Recruitment': 391, 'Company=G2 Healthcare Resourcing': 392, 'Company=G2 Legal LTD': 393, 'Company=G2 Recruitment Ltd': 394, 'Company=G4S Secure Solutions  Limited': 395, 'Company=GB Solutions': 396, 'Company=GCB Agency Recruitment': 397, 'Company=GMK': 398, 'Company=GPRS Recruitment': 399, 'Company=GRADUATE FASTTRACK': 400, 'Company=GRADUATE RECRUITMENT COMPANY': 401, 'Company=Gap Personnel': 402, 'Company=Gateway Hospitality Recruitment': 403, 'Company=Genesis': 404, 'Company=Genesis Associates': 405, 'Company=Genesis Associates  Limited': 406, 'Company=Gi Group': 407, 'Company=Girling Jones Ltd': 408, 'Company=Gold Group Limited': 409, 'Company=Gold Group Ltd.': 410, 'Company=Goodman Masson': 411, 'Company=Grafton Banks': 412, 'Company=Grafton Banks Finance Ltd': 413, 'Company=Grafton Recruitment   NI': 414, 'Company=Green Care Management': 415, 'Company=Green Recruitment Company': 416, 'Company=Gregory Martin International': 417, 'Company=Greythorn': 418, 'Company=Greywood Associates Limited': 419, 'Company=Greywood Associates Ltd': 420, 'Company=H2 Recruit': 421, 'Company=HARVARD BROWN LTD': 422, 'Company=HAYS': 423, 'Company=HAYS INFORMATION TECHNOLOGY': 424, 'Company=HCL Nursing': 425, 'Company=HCL Permanent': 426, 'Company=HCL Permanent.': 427, 'Company=HCP International Ltd': 428, 'Company=HEADS Recruitment Limited': 429, 'Company=HMGT Services Limited': 430, 'Company=HORIZON TEACHERS': 431, 'Company=HR GO Recruitment': 432, 'Company=HTE Recruitment': 433, 'Company=HUNTER SELECTION': 434, 'Company=HYF': 435, 'Company=Hamilton Mayday': 436, 'Company=Hammond Recruitment': 437, 'Company=Handle Recruitment': 438, 'Company=Harnham Search & Selection': 439, 'Company=Harrington Starr': 440, 'Company=Harris Hill': 441, 'Company=Harvester': 442, 'Company=Harvey Nash': 443, 'Company=Harvey Nash plc': 444, 'Company=Haybrook IT Resourcing Ltd': 445, 'Company=Hays': 446, 'Company=Hays   Scotland': 447, 'Company=Hays   Sheffield': 448, 'Company=Hays A F': 449, 'Company=Hays Accountancy and Finance': 450, 'Company=Hays Construction and Property': 451, 'Company=Hays Credit Management': 452, 'Company=Hays Education': 453, 'Company=Hays Healthcare': 454, 'Company=Hays IT': 455, 'Company=Hays Internal Recruitment': 456, 'Company=Hays Leeds': 457, 'Company=Hays Oil Gas': 458, 'Company=Hays Retail': 459, 'Company=Hays Risk Compliance': 460, 'Company=Hays Senior Finance': 461, 'Company=Hays Social Care': 462, 'Company=Hays Specialist Recruitment': 463, 'Company=Hays Specialist Recruitment   Further Education': 464, 'Company=Hays Specialist Recruitment Ltd': 465, 'Company=Hays TCE Jobs': 466, 'Company=Head Office': 467, 'Company=Head Resourcing Ltd': 468, 'Company=Healthline Optical Recruitment': 469, 'Company=Heat Recruitment': 470, 'Company=Heat Recruitment Ltd': 471, 'Company=Helix Recruitment Ltd': 472, 'Company=Henry Fox Recruitment': 473, 'Company=Henry Nicholas Associates': 474, 'Company=Hewitson Walker': 475, 'Company=High Finance Group': 476, 'Company=Hillman Saunders': 477, 'Company=Hiredonline': 478, 'Company=Holt Recruitment': 479, 'Company=Horizon Teachers': 480, 'Company=Hot Recruitment': 481, 'Company=Hot Recruitment Consultants': 482, 'Company=Howard Jackson Associates': 483, 'Company=Howett Thorpe': 484, 'Company=Hudson': 485, 'Company=HumRes Recruitment': 486, 'Company=Huntress Group': 487, 'Company=Huxley Associates': 488, 'Company=I Resourcer': 489, 'Company=IC Resources': 490, 'Company=IC Software': 491, 'Company=IDEX Consulting LLP': 492, 'Company=INTERACTION RECRUITMENT': 493, 'Company=IPS Group': 494, 'Company=IPS Group Ltd': 495, 'Company=IQ ESM': 496, 'Company=ISL': 497, 'Company=IT Executive': 498, 'Company=IT Executive Recruitment': 499, 'Company=ITN Mark Education': 500, 'Company=Idex Consulting': 501, 'Company=Idex Consulting LLP': 502, 'Company=Imperial College London': 503, 'Company=Industrial Personnel Ltd': 504, 'Company=Information Technology Services': 505, 'Company=Informatiq': 506, 'Company=Informatiq Consulting': 507, 'Company=Inside Out Purchasing Supply': 508, 'Company=Inspired Selections': 509, 'Company=Inspired Selections Ltd': 510, 'Company=Intech Recruitment Ltd': 511, 'Company=Integrated Dental Holdings': 512, 'Company=Interaction   York': 513, 'Company=Interaction Construction': 514, 'Company=Interaction Finance': 515, 'Company=Interaction Recruitment': 516, 'Company=Interaction Recruitment plc': 517, 'Company=Interquest Group': 518, 'Company=Investigo': 519, 'Company=Invictus Group': 520, 'Company=Invigorate Recruitment': 521, 'Company=JAM Recruitment': 522, 'Company=JAM Recruitment Ltd': 523, 'Company=JAM Recruitment Ltd.': 524, 'Company=JEM Childcare Solutions': 525, 'Company=JHR': 526, 'Company=JJ FOX': 527, 'Company=JOBG8': 528, 'Company=JP Recruitment': 529, 'Company=Jam Recruitment Ltd': 530, 'Company=James Webber Recruitment': 531, 'Company=Jenrick Engineering': 532, 'Company=Jobs at Capita': 533, 'Company=Jobs@Pertemps   Newcastle Commercial': 534, 'Company=Jobsite Jobs': 535, 'Company=Jobwise': 536, 'Company=John Gibson Associates': 537, 'Company=Jonathan Lee Recruitment Ltd': 538, 'Company=Just Chefs': 539, 'Company=Just Recruitment Group': 540, 'Company=Kare Plus Agencies Limited': 541, 'Company=Kelly Services': 542, 'Company=Kemp Recruitment Ltd': 543, 'Company=Kennedy Pearce Consulting': 544, 'Company=Kent Social Care Professionals': 545, 'Company=Kinetic PLC': 546, 'Company=Kinetic Plc': 547, 'Company=Kings Permanent Recruitment': 548, 'Company=Kurtis james recruitment': 549, 'Company=Language Recruitment Services.': 550, 'Company=Law Professionals': 551, 'Company=Lawes Insurance Recruitment': 552, 'Company=Leisure Jobs': 553, 'Company=Leisurejobs Executive Search': 554, 'Company=Leisurejobs Recruitment': 555, 'Company=Linear Recruitment Ltd': 556, 'Company=Link For People Services': 557, 'Company=Linsco': 558, 'Company=Lipson Lloyd Jones   London': 559, 'Company=Liquid Personnel': 560, 'Company=Liquid Personnel Ltd': 561, 'Company=Listen Recruitment': 562, 'Company=Logic': 563, 'Company=London4Jobs': 564, 'Company=Lorien Resourcing': 565, 'Company=Luton Bennett Limited': 566, 'Company=MBN Recruitment': 567, 'Company=MBN Recruitment Ltd': 568, 'Company=MBN Recruitment Solutions Ltd': 569, 'Company=MCS Group': 570, 'Company=MEET THE REAL ME LTD': 571, 'Company=MERJE': 572, 'Company=MORGAN HUNT': 573, 'Company=MORGAN LAW': 574, 'Company=MSI Nurses LTD': 575, 'Company=MTrec': 576, 'Company=MTrec Recruitment': 577, 'Company=MW Appointments': 578, 'Company=Macildowie': 579, 'Company=Macildowie Associates Limited': 580, 'Company=Macildowie Associates.': 581, 'Company=Mackenzie Stuart': 582, 'Company=Madison Bridge': 583, 'Company=Maiday Recruitment': 584, 'Company=Major Players': 585, 'Company=Management Recruitment Group': 586, 'Company=Mane Contract Services': 587, 'Company=Mansell Recruitment Group': 588, 'Company=Marks Sattin': 589, 'Company=Marshall Moore': 590, 'Company=Mass Consultants Ltd': 591, 'Company=Master Class Education': 592, 'Company=Match2Match': 593, 'Company=MatchBox Recruiting Ltd': 594, 'Company=Matchtech': 595, 'Company=Matchtech   IT Division': 596, 'Company=Matchtech Group Plc': 597, 'Company=Matchtech Group plc.': 598, 'Company=McCarthy Recruitment': 599, 'Company=McGinley Human Resources': 600, 'Company=McGinley Support Services': 601, 'Company=McGregor Boyall': 602, 'Company=MechanicsRus': 603, 'Company=Medacs Healthcare': 604, 'Company=Medic International': 605, 'Company=Medicare First Ltd': 606, 'Company=MedicsPro': 607, 'Company=MedicsPro Ltd': 608, 'Company=Mencap': 609, 'Company=Merco': 610, 'Company=Meridian Business Support': 611, 'Company=Michael Page': 612, 'Company=Michael Page   Engineering Manufacture': 613, 'Company=Michael Page Construction': 614, 'Company=Michael Page Design': 615, 'Company=Michael Page Finance': 616, 'Company=Michael Page Financial Services': 617, 'Company=Michael Page Human Resources': 618, 'Company=Michael Page International PLC': 619, 'Company=Michael Page Logistics': 620, 'Company=Michael Page Marketing': 621, 'Company=Michael Page Procurement & Supply Chain': 622, 'Company=Michael Page Retail': 623, 'Company=Michael Page Sales': 624, 'Company=Minstrell Recruitment Ltd': 625, 'Company=Modern Business Solutions': 626, 'Company=Modis': 627, 'Company=Modis International Limited': 628, 'Company=Monarch Education': 629, 'Company=Monarch Recruitment': 630, 'Company=Monarch Recruitment Limited': 631, 'Company=Monarch Recruitment Ltd.': 632, 'Company=MorePeople': 633, 'Company=Morgan Hunt': 634, 'Company=Morgan McKinley': 635, 'Company=Moriati Media UK Ltd': 636, 'Company=Morson International': 637, 'Company=Mortimer Spinks': 638, 'Company=NES UK': 639, 'Company=NHS Greater Glasgow & Clyde': 640, 'Company=NHS Lothian': 641, 'Company=NRG Group': 642, 'Company=NaN': 643, \"Company=Nando's\": 644, 'Company=National Trust': 645, 'Company=Network Marketing': 646, 'Company=Network Open': 647, 'Company=Network Rail Ltd': 648, 'Company=Network Recruitment Partnership': 649, 'Company=Networx Recruitment': 650, 'Company=Networx.': 651, 'Company=New Frontiers': 652, 'Company=Nicholas Associates': 653, 'Company=Nicholas Jon Recruitment': 654, 'Company=Nigel Frank International': 655, 'Company=Nigel Frank International Ltd': 656, 'Company=Niyaa People Ltd': 657, 'Company=Noir Consulting': 658, 'Company=NonStop Recruitment': 659, 'Company=NonStop Recruitment Ltd': 660, 'Company=Nonstop Pharma': 661, 'Company=North Point Recruitment': 662, 'Company=North Yorkshire County Council': 663, 'Company=Not disclosed': 664, 'Company=OCC Computer Personnel/RI': 665, 'Company=Oakland House Recruitment': 666, 'Company=Oakleaf Partnership': 667, 'Company=Oasis HR': 668, 'Company=Octane Recruitment': 669, 'Company=Office Angels': 670, 'Company=Oho Group': 671, 'Company=Oliver James Associates': 672, 'Company=Omega Resource Group': 673, 'Company=Omni Resource Management Solutions': 674, 'Company=Omni Resource Management Solutions.': 675, 'Company=On Target Recruitment Limited': 676, 'Company=On Target Recruitment Ltd': 677, 'Company=Opus Recruitment Solutions Ltd': 678, 'Company=Orange Recruitment': 679, 'Company=Orchid Healthcare': 680, 'Company=Orcinus Recruit': 681, 'Company=Orgtel': 682, 'Company=Orion Electrotech': 683, 'Company=Orion Electrotech Ltd': 684, 'Company=Oscar Associates  Limited': 685, 'Company=Oscar Associates  Ltd': 686, 'Company=Other': 687, 'Company=Outsource UK Ltd': 688, 'Company=P9 Rec': 689, 'Company=P9 Rec Ltd': 690, 'Company=PETS AT HOME GROUP LIMITED': 691, 'Company=PFJ': 692, 'Company=PMA Recruitment': 693, 'Company=PMP Solutions Ltd': 694, 'Company=PRG': 695, 'Company=PROTOCOL EDUCATION': 696, 'Company=PRS': 697, 'Company=PSD Group': 698, 'Company=PTHR International Restaurants & Bars': 699, 'Company=PTHR International Restaurants Bars': 700, 'Company=PULSE': 701, 'Company=Paediatric Nursing Jobs': 702, 'Company=Page Personnel': 703, 'Company=Page Personnel Finance': 704, 'Company=Page Personnel Secretarial & Business Support': 705, 'Company=Parallel Consulting': 706, 'Company=Paramount Personnel': 707, 'Company=Paramount Recruitment': 708, 'Company=Pareto Law': 709, 'Company=Park Street People': 710, 'Company=Parker White Consulting Ltd': 711, 'Company=Parkside': 712, 'Company=Pearson Whiffin Affinity': 713, 'Company=Penguin Recruitment': 714, 'Company=Penguin Recruitment Ltd': 715, 'Company=People Source Consulting': 716, 'Company=People Source Consulting.': 717, 'Company=Perfect Placement': 718, 'Company=Perfect Placement UK Ltd': 719, 'Company=Personnel Selection': 720, 'Company=Pertemps': 721, 'Company=Petrie Recruitment': 722, 'Company=Phoenix Resourcing Services   PRS': 723, 'Company=Pioneer Selection': 724, 'Company=Pioneer Selection Ltd': 725, 'Company=PixiFoto': 726, 'Company=Platinum Financial Recruitment': 727, 'Company=Platinum Recruitment Consultancy': 728, 'Company=Plus One Personnel': 729, 'Company=Populus': 730, 'Company=Populus Healthcare': 731, 'Company=Portfolio Credit Control': 732, 'Company=Portfolio Payroll Limited': 733, 'Company=Portfolio Payroll Ltd': 734, 'Company=Potensis': 735, 'Company=Precedo Healthcare': 736, 'Company=Premier Group': 737, 'Company=Premier Group Recruitment': 738, 'Company=Premier Technical Recruitment': 739, 'Company=Premier Work Support': 740, 'Company=Premiere People': 741, 'Company=Premium Country Dining Group': 742, 'Company=Prestige Nursing': 743, 'Company=Prime Appointments': 744, 'Company=Prime Time Recruitment': 745, 'Company=Print Upsell S X Post': 746, 'Company=Prism Digital': 747, 'Company=Pro Finance': 748, 'Company=Pro Legal Recruitment': 749, 'Company=Pro Recruitment Group': 750, 'Company=Pro Tax': 751, 'Company=ProTech Recruitment Ltd': 752, 'Company=Probe Technical Recruitment': 753, 'Company=Professional Social Care Solutions': 754, 'Company=Professional Social Care Solutions Ltd': 755, 'Company=Progress Recruitment Solution': 756, 'Company=Progressive Recruitment': 757, 'Company=Project Partners': 758, 'Company=Project Resource': 759, 'Company=Project Resource Limited': 760, 'Company=Project Resource Ltd': 761, 'Company=Prospect Health': 762, 'Company=Prospects4Corporate Travel': 763, 'Company=Prospects4Leisure Travel': 764, 'Company=Protocol Education': 765, 'Company=Protocol National': 766, 'Company=Pulse': 767, 'Company=Pure Online Recruitment': 768, 'Company=Pure Resourcing Solutions': 769, 'Company=Puro Search Ltd': 770, 'Company=Purple Consultancy': 771, 'Company=Pursuit Recruitment': 772, 'Company=Pyramid8': 773, 'Company=Pytec IT Recruitment': 774, 'Company=Pzazz': 775, 'Company=Pzazz Retail': 776, 'Company=QA Apprenticeships': 777, 'Company=Quantum Recruitment': 778, 'Company=Quest Search and Selection': 779, 'Company=Quest Search and Selection Ltd': 780, 'Company=Questech Recruitment Ltd': 781, 'Company=R3 Resourcing': 782, 'Company=RAF CAREERS': 783, 'Company=RH Recruiting Limited': 784, 'Company=RHL': 785, 'Company=ROC Retail': 786, 'Company=Randstad': 787, 'Company=Randstad Business Support': 788, 'Company=Randstad CPE': 789, 'Company=Randstad CPE Limited': 790, 'Company=Randstad Care': 791, 'Company=Randstad Construction, Property Engineering': 792, 'Company=Randstad Financial & Professional': 793, 'Company=Randstad Retail': 794, 'Company=Randstad Sales': 795, 'Company=Randstad Technologies': 796, 'Company=ReThink Recruitment': 797, 'Company=ReThink Recruitment Solutions Ltd': 798, 'Company=Real': 799, 'Company=Real Staffing': 800, 'Company=Recruiting for Care': 801, 'Company=Recruitment Direct': 802, 'Company=Recruitment Genius': 803, 'Company=Recruitment North West': 804, 'Company=Recruitment Revolution': 805, 'Company=Recruitment Solutions  Ltd': 806, 'Company=RecruitmentRevolution.com': 807, 'Company=RecruitmentRevolution.com Limited': 808, 'Company=Red Dot Recruitment': 809, 'Company=Redhill': 810, 'Company=Redline Group': 811, 'Company=Redline Group Ltd': 812, 'Company=Redrock Consulting': 813, 'Company=Redrock Consulting Limited': 814, 'Company=Redrock Consulting Ltd': 815, 'Company=Reed': 816, 'Company=Reed Specialist Recruitment': 817, 'Company=Reed Technology': 818, 'Company=Reflex Computer Recruitment Limited': 819, 'Company=Regent Recruitment': 820, 'Company=Regional Recruitment Services': 821, 'Company=Remedicare Staffing Limited': 822, 'Company=Remedy Education': 823, 'Company=Remedy Recruitment Group Ltd': 824, 'Company=Renard Resources': 825, 'Company=Reqiva Ltd': 826, 'Company=Resourcing Group': 827, 'Company=Resourcing Solutions Ltd': 828, 'Company=Retail Human Resources': 829, 'Company=Reuben Sinclair': 830, 'Company=Richmond Knightley Recruitment': 831, 'Company=Rise Technical Recruitment': 832, 'Company=Rise Technical Recruitment Limited': 833, 'Company=Rise Technical Recruitment Ltd': 834, 'Company=Robert Half': 835, 'Company=Robert Walters': 836, 'Company=Roc Search': 837, 'Company=Rubicon People': 838, 'Company=Rugby Recruitment Services Ltd': 839, 'Company=Rullion Engineering Ltd': 840, 'Company=Rullion IT Plus': 841, 'Company=Rullion Resource': 842, 'Company=Ruth Moran': 843, 'Company=SCC': 844, 'Company=SEC Recruitment': 845, 'Company=SEC Recruitment Limited': 846, 'Company=SER Limited': 847, 'Company=SERVOCA EDUCATION RESOURCING': 848, 'Company=SF Group': 849, 'Company=SG Group': 850, 'Company=SIMPLY EDUCATION': 851, 'Company=SLS Recruitment': 852, 'Company=SRG': 853, 'Company=STR Group': 854, 'Company=STR Group Limited': 855, 'Company=STR Limited': 856, 'Company=STR Ltd.': 857, 'Company=SYK Recruitment': 858, 'Company=Sacco Mann': 859, 'Company=Saga Homecare': 860, 'Company=Salt': 861, 'Company=Sammons Group': 862, 'Company=Sammons Pensions': 863, 'Company=Sanctuary Personnel': 864, 'Company=Sanderson Recruitment': 865, 'Company=Santander': 866, 'Company=Sanza Online': 867, 'Company=Search Consultancy': 868, 'Company=Search Consultancy Ltd': 869, 'Company=Searchability  Ltd': 870, 'Company=Searchability UK Ltd': 871, 'Company=Selby Jennings': 872, 'Company=Select Appointments': 873, 'Company=Select Hospitality': 874, 'Company=Selection Group Limited': 875, 'Company=Sellick Partnership': 876, 'Company=Senitor Associates': 877, 'Company=Senitor Associates Limited': 878, 'Company=Sensible Staffing': 879, 'Company=Sequence': 880, 'Company=Serco': 881, 'Company=Service Care Solutions': 882, 'Company=Seven Acorns': 883, 'Company=Sewell Moorhouse': 884, 'Company=Sharna Associates': 885, 'Company=Sharp Consultancy': 886, 'Company=Sheridan Maine': 887, 'Company=Shorterm Group': 888, 'Company=Simplified Recruitment': 889, 'Company=Simply Education': 890, 'Company=Simply Recruit Ltd': 891, 'Company=Sizzling Pub Co.': 892, 'Company=Solutions Recruitment': 893, 'Company=SpaYse': 894, 'Company=Spectrum IT': 895, 'Company=Spectrum IT Recruitment  Ltd': 896, 'Company=Spectrum Recruitment': 897, 'Company=Spencer Ogden': 898, 'Company=SportsDirect': 899, 'Company=Spring Grp ': 900, 'Company=Spring Personnel': 901, 'Company=Spring Technology': 902, 'Company=Square One Resources': 903, 'Company=Stafffinders': 904, 'Company=Stafforce Recruitment': 905, 'Company=Star Actuarial Futures': 906, 'Company=Stopgap': 907, 'Company=Strike Jobs': 908, 'Company=Succeed Recruitment Solutions': 909, 'Company=Success Appointments': 910, 'Company=Supply Desk': 911, 'Company=Support Services Group': 912, 'Company=Support Services Group ': 913, 'Company=Swiis Healthcare': 914, 'Company=Swim Recruitment': 915, 'Company=Switch Recruitment': 916, 'Company=Switch Recruitment Services Ltd': 917, 'Company=Synergy': 918, 'Company=System Recruitment': 919, 'Company=TEKsystems': 920, 'Company=TPP': 921, 'Company=TRADEWIND RECRUITMENT': 922, 'Company=TRG': 923, 'Company=TRG Logistics': 924, 'Company=TRS Consulting': 925, 'Company=TXM Healthcare': 926, 'Company=Talisman Fashion': 927, 'Company=Taskmaster': 928, 'Company=Taste Hospitality Recruitment Ltd': 929, 'Company=Tate': 930, 'Company=Taylor Root': 931, 'Company=TeacherActive': 932, 'Company=Teachers UK': 933, 'Company=Team 24 Ltd': 934, 'Company=Tech Direct': 935, 'Company=Tech People': 936, 'Company=Technical Resources Ltd': 937, 'Company=Tesco Opticians': 938, 'Company=The A24 Group': 939, 'Company=The Best Connection': 940, 'Company=The Bridge Ltd': 941, 'Company=The Business Connection': 942, 'Company=The Graduate Recruitment Company': 943, 'Company=The Hammond Recruitment Group': 944, 'Company=The London Teaching Pool': 945, 'Company=The London Teaching Pool Ltd': 946, 'Company=The One Group': 947, 'Company=The Oyster Partnership': 948, 'Company=The People Network': 949, 'Company=The Placement Group': 950, 'Company=The Selection Partnership Ltd': 951, 'Company=The Solution Auto': 952, 'Company=The Works Uk Ltd': 953, 'Company=Think Recruitment': 954, 'Company=Thorn Baker Ltd': 955, 'Company=Thornbury Nursing': 956, 'Company=Three People': 957, 'Company=Time Recruitment Solutions': 958, 'Company=Time Recruitment Solutions Ltd': 959, 'Company=Timothy James Consulting': 960, 'Company=Toby Carvery': 961, 'Company=Towngate Personnel': 962, 'Company=Tradewind Recruitment': 963, 'Company=Travail Employment Group': 964, 'Company=Travel Trade Recruitment': 965, 'Company=Travel Trade Recruitment London': 966, 'Company=Travel Trade Recruitment.': 967, 'Company=Tribepost Ltd': 968, 'Company=Trident': 969, 'Company=Triumph Consultants': 970, 'Company=UKStaffsearch': 971, 'Company=Ultimate Asset': 972, 'Company=Understanding Recruitment': 973, 'Company=Understanding Recruitment Ltd': 974, 'Company=Unity Recruitment': 975, 'Company=University of Edinburgh': 976, 'Company=University of Sheffield': 977, 'Company=University of Southampton': 978, 'Company=University of Warwick': 979, 'Company=V3 Group': 980, 'Company=Vacancy Filler': 981, 'Company=VanRath': 982, 'Company=VanRath IT': 983, 'Company=Venn Group': 984, 'Company=Venn Group Ltd   ': 985, 'Company=Venturi': 986, 'Company=Venturi Ltd': 987, 'Company=Vertical IT': 988, 'Company=Verticality Ltd': 989, 'Company=Vertu Motors': 990, 'Company=Vintage Inns': 991, 'Company=Vitae Financial Recruitment': 992, 'Company=Vivid Resourcing Ltd': 993, 'Company=Volt': 994, 'Company=W5 Recruitment': 995, 'Company=Walker Dendle': 996, 'Company=Wallace Hind Selection': 997, 'Company=Watson Moore': 998, 'Company=Web Recruit Ltd': 999, 'Company=Webrecruit': 1000, 'Company=Webrecruit UK': 1001, 'Company=White Recruitment': 1002, 'Company=White Recruitment Limited': 1003, 'Company=White Recruitment Ltd': 1004, 'Company=Wise Employment': 1005, 'Company=Workmates': 1006, 'Company=Workshop Recruitment': 1007, 'Company=Xperian Recruitment Limited': 1008, 'Company=Xpress Recruitment': 1009, 'Company=Yolk Recruitment': 1010, 'Company=Zachary Daniels': 1011, 'Company=Zest 2 Recruitment': 1012, 'Company=Zest Solutions': 1013, 'Company=b3 jobs': 1014, 'Company=eNL': 1015, 'Company=eRecruit Solutions': 1016, 'Company=eRecruit Solutions Ltd': 1017, 'Company=ecomrecruitment.com': 1018, 'Company=h2 Recruit Ltd': 1019, 'Company=hiredonline': 1020, 'Company=hyphen': 1021, 'Company=i resourcer': 1022, 'Company=i4 Recruitment': 1023, 'Company=i4 Recruitment Account': 1024, 'Company=iKas International': 1025, 'Company=itk Recruitment': 1026, 'Company=mgi recruitment': 1027, 'Company=oscar associates': 1028, 'Company=pro education': 1029, 'ContractTime=NaN': 1030, 'ContractTime=contract': 1031, 'ContractTime=permanent': 1032, 'ContractType=NaN': 1033, 'ContractType=full_time': 1034, 'ContractType=part_time': 1035, 'LocationNormalized=Abbey Village': 1036, 'LocationNormalized=Abbey Wood': 1037, 'LocationNormalized=Abbots Langley': 1038, 'LocationNormalized=Aberaeron': 1039, 'LocationNormalized=Abercynon': 1040, 'LocationNormalized=Aberdare': 1041, 'LocationNormalized=Aberdeen': 1042, 'LocationNormalized=Aberdeenshire': 1043, 'LocationNormalized=Aberfeldy': 1044, 'LocationNormalized=Abergavenny': 1045, 'LocationNormalized=Abergele': 1046, 'LocationNormalized=Abertillery': 1047, 'LocationNormalized=Aberystwyth': 1048, 'LocationNormalized=Abingdon': 1049, 'LocationNormalized=Abington': 1050, 'LocationNormalized=Aboyne': 1051, 'LocationNormalized=Abram': 1052, 'LocationNormalized=Accrington': 1053, 'LocationNormalized=Achmore': 1054, 'LocationNormalized=Acocks Green': 1055, 'LocationNormalized=Acton': 1056, 'LocationNormalized=Acton Gate': 1057, 'LocationNormalized=Addlestone': 1058, 'LocationNormalized=Adlington': 1059, 'LocationNormalized=Aintree': 1060, 'LocationNormalized=Airdrie': 1061, 'LocationNormalized=Alcester': 1062, 'LocationNormalized=Alconbury': 1063, 'LocationNormalized=Aldeburgh': 1064, 'LocationNormalized=Alderley': 1065, 'LocationNormalized=Alderley Edge': 1066, 'LocationNormalized=Aldermaston': 1067, 'LocationNormalized=Aldershot': 1068, 'LocationNormalized=Aldford': 1069, 'LocationNormalized=Aldgate': 1070, 'LocationNormalized=Aldham Tye': 1071, 'LocationNormalized=Aldridge': 1072, 'LocationNormalized=Aldringham': 1073, 'LocationNormalized=Alexandria': 1074, 'LocationNormalized=Alford': 1075, 'LocationNormalized=Alfreton': 1076, 'LocationNormalized=Alfriston': 1077, 'LocationNormalized=All Saints': 1078, 'LocationNormalized=Alloa': 1079, 'LocationNormalized=Alnwick': 1080, 'LocationNormalized=Alperton': 1081, 'LocationNormalized=Alresford': 1082, 'LocationNormalized=Alston': 1083, 'LocationNormalized=Altens': 1084, 'LocationNormalized=Altnagelvin': 1085, 'LocationNormalized=Alton': 1086, 'LocationNormalized=Altrincham': 1087, 'LocationNormalized=Alva': 1088, 'LocationNormalized=Alvaston': 1089, 'LocationNormalized=Alvechurch': 1090, 'LocationNormalized=Ambergate': 1091, 'LocationNormalized=Ambleside': 1092, 'LocationNormalized=Amersham': 1093, 'LocationNormalized=Amesbury': 1094, 'LocationNormalized=Ammanford': 1095, 'LocationNormalized=Ampney Crucis': 1096, 'LocationNormalized=Ampthill': 1097, 'LocationNormalized=Andover': 1098, 'LocationNormalized=Angel': 1099, 'LocationNormalized=Angus': 1100, 'LocationNormalized=Annan': 1101, 'LocationNormalized=Annesley': 1102, 'LocationNormalized=Annitsford': 1103, 'LocationNormalized=Anstruther': 1104, 'LocationNormalized=Antony Estate': 1105, 'LocationNormalized=Antrim': 1106, 'LocationNormalized=Anwick': 1107, 'LocationNormalized=Appleby-In-Westmorland': 1108, 'LocationNormalized=Arbroath': 1109, 'LocationNormalized=Ardleigh': 1110, 'LocationNormalized=Ardrossan': 1111, 'LocationNormalized=Argyll & Bute': 1112, 'LocationNormalized=Arlesey': 1113, 'LocationNormalized=Arlington': 1114, 'LocationNormalized=Armagh': 1115, 'LocationNormalized=Arnold': 1116, 'LocationNormalized=Arundel': 1117, 'LocationNormalized=Ascot': 1118, 'LocationNormalized=Ash': 1119, 'LocationNormalized=Ash Green': 1120, 'LocationNormalized=Ash Vale': 1121, 'LocationNormalized=Ashbourne': 1122, 'LocationNormalized=Ashburton': 1123, 'LocationNormalized=Ashby-De-La-Zouch': 1124, 'LocationNormalized=Ashford': 1125, 'LocationNormalized=Ashington': 1126, 'LocationNormalized=Ashtead': 1127, 'LocationNormalized=Ashton With Stodday': 1128, 'LocationNormalized=Ashton-Under-Lyne': 1129, 'LocationNormalized=Askham Bryan': 1130, 'LocationNormalized=Aston': 1131, 'LocationNormalized=Aston Crews': 1132, 'LocationNormalized=Atherstone': 1133, 'LocationNormalized=Atherton': 1134, 'LocationNormalized=Attleborough': 1135, 'LocationNormalized=Auchterarder': 1136, 'LocationNormalized=Auckland Park': 1137, 'LocationNormalized=Aveley': 1138, 'LocationNormalized=Avon': 1139, 'LocationNormalized=Avonmouth': 1140, 'LocationNormalized=Axbridge': 1141, 'LocationNormalized=Axminster': 1142, 'LocationNormalized=Axmouth': 1143, 'LocationNormalized=Aycliffe': 1144, 'LocationNormalized=Aylesbury': 1145, 'LocationNormalized=Aylesford': 1146, 'LocationNormalized=Aylsham': 1147, 'LocationNormalized=Ayr': 1148, 'LocationNormalized=Ayr Central': 1149, 'LocationNormalized=Back Of Avon': 1150, 'LocationNormalized=Backwell': 1151, 'LocationNormalized=Bacup': 1152, 'LocationNormalized=Badminton': 1153, 'LocationNormalized=Bagshot': 1154, 'LocationNormalized=Baillieston': 1155, 'LocationNormalized=Bakewell': 1156, 'LocationNormalized=Bala': 1157, 'LocationNormalized=Baldock': 1158, 'LocationNormalized=Balerno': 1159, 'LocationNormalized=Balham': 1160, 'LocationNormalized=Ballater': 1161, 'LocationNormalized=Ballycastle': 1162, 'LocationNormalized=Ballyclare': 1163, 'LocationNormalized=Ballymena': 1164, 'LocationNormalized=Ballymoney': 1165, 'LocationNormalized=Ballynahinch': 1166, 'LocationNormalized=Bamber Bridge': 1167, 'LocationNormalized=Bampton': 1168, 'LocationNormalized=Banbridge': 1169, 'LocationNormalized=Banbury': 1170, 'LocationNormalized=Banchory': 1171, 'LocationNormalized=Bangor': 1172, 'LocationNormalized=Banham': 1173, 'LocationNormalized=Bankside': 1174, 'LocationNormalized=Banstead': 1175, 'LocationNormalized=Banwell': 1176, 'LocationNormalized=Bar Hill': 1177, 'LocationNormalized=Barbican': 1178, 'LocationNormalized=Bardon Hill': 1179, 'LocationNormalized=Bargate': 1180, 'LocationNormalized=Bargoed': 1181, 'LocationNormalized=Barking': 1182, 'LocationNormalized=Barkingside': 1183, 'LocationNormalized=Barnard Castle': 1184, 'LocationNormalized=Barnehurst': 1185, 'LocationNormalized=Barnes': 1186, 'LocationNormalized=Barnet': 1187, 'LocationNormalized=Barnetby': 1188, 'LocationNormalized=Barnoldswick': 1189, 'LocationNormalized=Barnsley': 1190, 'LocationNormalized=Barnstaple': 1191, 'LocationNormalized=Barnwood': 1192, 'LocationNormalized=Barrow': 1193, 'LocationNormalized=Barrow Upon Soar': 1194, 'LocationNormalized=Barrow-In-Furness': 1195, 'LocationNormalized=Barrow-Upon-Humber': 1196, 'LocationNormalized=Barry': 1197, 'LocationNormalized=Barton-Upon-Humber': 1198, 'LocationNormalized=Barwell': 1199, 'LocationNormalized=Basildon': 1200, 'LocationNormalized=Basingstoke': 1201, 'LocationNormalized=Bassaleg': 1202, 'LocationNormalized=Bath': 1203, 'LocationNormalized=Bath & N E Somerset': 1204, 'LocationNormalized=Bathgate': 1205, 'LocationNormalized=Batley': 1206, 'LocationNormalized=Battersea': 1207, 'LocationNormalized=Battle': 1208, 'LocationNormalized=Baughton': 1209, 'LocationNormalized=Beaconsfield': 1210, 'LocationNormalized=Beaminster': 1211, 'LocationNormalized=Bearsden': 1212, 'LocationNormalized=Beaworthy': 1213, 'LocationNormalized=Bebington': 1214, 'LocationNormalized=Beccles': 1215, 'LocationNormalized=Beckenham': 1216, 'LocationNormalized=Beckton': 1217, 'LocationNormalized=Bedale': 1218, 'LocationNormalized=Bedfont': 1219, 'LocationNormalized=Bedford': 1220, 'LocationNormalized=Bedfordshire': 1221, 'LocationNormalized=Bedworth': 1222, 'LocationNormalized=Beeston': 1223, 'LocationNormalized=Belfast': 1224, 'LocationNormalized=Belford': 1225, 'LocationNormalized=Belgravia': 1226, 'LocationNormalized=Belle Isle': 1227, 'LocationNormalized=Belle Vale': 1228, 'LocationNormalized=Bellshill': 1229, 'LocationNormalized=Belmont': 1230, 'LocationNormalized=Belper': 1231, 'LocationNormalized=Belsize Park': 1232, 'LocationNormalized=Belton': 1233, 'LocationNormalized=Belvedere': 1234, 'LocationNormalized=Bembridge': 1235, 'LocationNormalized=Benbecula': 1236, 'LocationNormalized=Bend Hagg House': 1237, 'LocationNormalized=Benfleet': 1238, 'LocationNormalized=Benham Hill': 1239, 'LocationNormalized=Benmore': 1240, 'LocationNormalized=Bensham': 1241, 'LocationNormalized=Berinsfield': 1242, 'LocationNormalized=Berkeley': 1243, 'LocationNormalized=Berkhamsted': 1244, 'LocationNormalized=Berkshire': 1245, 'LocationNormalized=Berrycroft': 1246, 'LocationNormalized=Berwick-Upon-Tweed': 1247, 'LocationNormalized=Berwyn': 1248, 'LocationNormalized=Betchworth': 1249, 'LocationNormalized=Bethnal Green': 1250, 'LocationNormalized=Beverley': 1251, 'LocationNormalized=Bewdley': 1252, 'LocationNormalized=Bexhill-On-Sea': 1253, 'LocationNormalized=Bexley': 1254, 'LocationNormalized=Bexleyheath': 1255, 'LocationNormalized=Bicester': 1256, 'LocationNormalized=Bickley': 1257, 'LocationNormalized=Biddulph': 1258, 'LocationNormalized=Bideford': 1259, 'LocationNormalized=Biggar': 1260, 'LocationNormalized=Biggin Hill Airport': 1261, 'LocationNormalized=Biggleswade': 1262, 'LocationNormalized=Bilborough': 1263, 'LocationNormalized=Billericay': 1264, 'LocationNormalized=Billingbear': 1265, 'LocationNormalized=Billingham': 1266, 'LocationNormalized=Billingshurst': 1267, 'LocationNormalized=Bilston': 1268, 'LocationNormalized=Binbrook': 1269, 'LocationNormalized=Binfield': 1270, 'LocationNormalized=Bingham': 1271, 'LocationNormalized=Bingley': 1272, 'LocationNormalized=Bircham Newton': 1273, 'LocationNormalized=Birchwood': 1274, 'LocationNormalized=Birkenhead': 1275, 'LocationNormalized=Birkenshaw': 1276, 'LocationNormalized=Birmingham': 1277, 'LocationNormalized=Birmingham International Airport': 1278, 'LocationNormalized=Birstall': 1279, 'LocationNormalized=Birtley': 1280, 'LocationNormalized=Bisham': 1281, 'LocationNormalized=Bishop Auckland': 1282, \"LocationNormalized=Bishop's Stortford\": 1283, 'LocationNormalized=Bishopbriggs': 1284, 'LocationNormalized=Bishops Castle': 1285, 'LocationNormalized=Bisley': 1286, 'LocationNormalized=Blaby': 1287, 'LocationNormalized=Blackburn': 1288, 'LocationNormalized=Blackford': 1289, 'LocationNormalized=Blackfriars': 1290, 'LocationNormalized=Blackheath': 1291, 'LocationNormalized=Blackpool': 1292, 'LocationNormalized=Blackpool Airport': 1293, 'LocationNormalized=Blackwater': 1294, 'LocationNormalized=Blackwood': 1295, 'LocationNormalized=Blaenau Ffestiniog': 1296, 'LocationNormalized=Blaenau Gwent': 1297, 'LocationNormalized=Blaenavon': 1298, 'LocationNormalized=Blairgowrie': 1299, 'LocationNormalized=Blakeney': 1300, 'LocationNormalized=Blandford Camp': 1301, 'LocationNormalized=Blandford Forum': 1302, 'LocationNormalized=Blantyre': 1303, 'LocationNormalized=Blaydon Burn': 1304, 'LocationNormalized=Blaydon-On-Tyne': 1305, 'LocationNormalized=Bletchley': 1306, 'LocationNormalized=Bletsoe': 1307, 'LocationNormalized=Bloomsbury': 1308, 'LocationNormalized=Bloxham': 1309, 'LocationNormalized=Bloxwich': 1310, 'LocationNormalized=Bluewater': 1311, 'LocationNormalized=Blyth': 1312, 'LocationNormalized=Blythe Valley Park': 1313, \"LocationNormalized=Bo'ness\": 1314, 'LocationNormalized=Bodmin': 1315, 'LocationNormalized=Bognor Regis': 1316, 'LocationNormalized=Boldon Colliery': 1317, 'LocationNormalized=Bollington': 1318, 'LocationNormalized=Bolton': 1319, 'LocationNormalized=Bolton Le Sands': 1320, 'LocationNormalized=Bonar Bridge': 1321, 'LocationNormalized=Bonnybridge': 1322, 'LocationNormalized=Bonnyrigg': 1323, 'LocationNormalized=Bootle': 1324, 'LocationNormalized=Borders': 1325, 'LocationNormalized=Bordon': 1326, 'LocationNormalized=Borehamwood': 1327, 'LocationNormalized=Borough': 1328, 'LocationNormalized=Boston': 1329, 'LocationNormalized=Botley': 1330, 'LocationNormalized=Bounds Green': 1331, 'LocationNormalized=Bourn': 1332, 'LocationNormalized=Bourne': 1333, 'LocationNormalized=Bourne End': 1334, 'LocationNormalized=Bournemouth': 1335, 'LocationNormalized=Bournemouth International Airport': 1336, 'LocationNormalized=Bourton-On-The-Water': 1337, 'LocationNormalized=Bovingdon': 1338, 'LocationNormalized=Bovington': 1339, 'LocationNormalized=Bow': 1340, 'LocationNormalized=Bow Street': 1341, 'LocationNormalized=Box': 1342, 'LocationNormalized=Bracebridge': 1343, 'LocationNormalized=Brackley': 1344, 'LocationNormalized=Bracknell': 1345, 'LocationNormalized=Bradford': 1346, 'LocationNormalized=Bradford-On-Avon': 1347, 'LocationNormalized=Bradley Cross': 1348, 'LocationNormalized=Bradley Stoke': 1349, 'LocationNormalized=Bradshaw': 1350, 'LocationNormalized=Bradwall': 1351, 'LocationNormalized=Bradwell-On-Sea': 1352, 'LocationNormalized=Braintree': 1353, 'LocationNormalized=Bramhall': 1354, 'LocationNormalized=Bramhope': 1355, 'LocationNormalized=Bramley': 1356, 'LocationNormalized=Brampton': 1357, 'LocationNormalized=Brandon': 1358, 'LocationNormalized=Brandon Creek': 1359, 'LocationNormalized=Branksome': 1360, 'LocationNormalized=Bransgore': 1361, 'LocationNormalized=Bransty': 1362, 'LocationNormalized=Braunstone': 1363, 'LocationNormalized=Braunton': 1364, 'LocationNormalized=Bray': 1365, 'LocationNormalized=Brechin': 1366, 'LocationNormalized=Brecon': 1367, 'LocationNormalized=Brent Cross': 1368, 'LocationNormalized=Brentford': 1369, 'LocationNormalized=Brentor': 1370, 'LocationNormalized=Brentwood': 1371, 'LocationNormalized=Brewood': 1372, 'LocationNormalized=Bridge Of Weir': 1373, 'LocationNormalized=Bridgend': 1374, 'LocationNormalized=Bridgnorth': 1375, 'LocationNormalized=Bridgwater': 1376, 'LocationNormalized=Bridlington': 1377, 'LocationNormalized=Bridport': 1378, 'LocationNormalized=Brierley Hill': 1379, 'LocationNormalized=Brigg': 1380, 'LocationNormalized=Brighouse': 1381, 'LocationNormalized=Brightlingsea': 1382, 'LocationNormalized=Brighton': 1383, 'LocationNormalized=Brighton Marina Village': 1384, 'LocationNormalized=Brightwell': 1385, 'LocationNormalized=Brill': 1386, 'LocationNormalized=Brinsford': 1387, 'LocationNormalized=Brislington': 1388, 'LocationNormalized=Bristol': 1389, 'LocationNormalized=Brixham': 1390, 'LocationNormalized=Brixton': 1391, 'LocationNormalized=Brixworth': 1392, 'LocationNormalized=Brize Norton': 1393, 'LocationNormalized=Broadfield': 1394, 'LocationNormalized=Broadgate': 1395, 'LocationNormalized=Broadmeadows': 1396, 'LocationNormalized=Broadstairs': 1397, 'LocationNormalized=Broadway': 1398, 'LocationNormalized=Brockenhurst': 1399, 'LocationNormalized=Brockhill Village': 1400, 'LocationNormalized=Brockley': 1401, 'LocationNormalized=Brockworth': 1402, 'LocationNormalized=Bromborough': 1403, 'LocationNormalized=Bromham': 1404, 'LocationNormalized=Bromley': 1405, 'LocationNormalized=Bromley-By-Bow': 1406, 'LocationNormalized=Brompton': 1407, 'LocationNormalized=Bromsgrove': 1408, 'LocationNormalized=Bromyard': 1409, 'LocationNormalized=Brondesbury': 1410, 'LocationNormalized=Bronwydd Arms': 1411, 'LocationNormalized=Brooklands': 1412, 'LocationNormalized=Brookwood': 1413, 'LocationNormalized=Broom': 1414, 'LocationNormalized=Broseley': 1415, 'LocationNormalized=Brough': 1416, 'LocationNormalized=Broughton': 1417, 'LocationNormalized=Broughton Astley': 1418, 'LocationNormalized=Brownhill': 1419, 'LocationNormalized=Broxbourne': 1420, 'LocationNormalized=Broxburn': 1421, 'LocationNormalized=Bruntingthorpe': 1422, 'LocationNormalized=Bruton': 1423, 'LocationNormalized=Brynmawr': 1424, 'LocationNormalized=Buckfastleigh': 1425, 'LocationNormalized=Buckhurst Hill': 1426, 'LocationNormalized=Buckingham': 1427, 'LocationNormalized=Buckinghamshire': 1428, 'LocationNormalized=Buckley': 1429, 'LocationNormalized=Bucknell': 1430, 'LocationNormalized=Bude': 1431, 'LocationNormalized=Builth Wells': 1432, 'LocationNormalized=Bulk': 1433, 'LocationNormalized=Bunbury': 1434, 'LocationNormalized=Bungay': 1435, 'LocationNormalized=Buntingford': 1436, 'LocationNormalized=Burchetts Green': 1437, 'LocationNormalized=Burford': 1438, 'LocationNormalized=Burgess Hill': 1439, 'LocationNormalized=Burghfield': 1440, 'LocationNormalized=Burley Woodhead': 1441, 'LocationNormalized=Burleydam': 1442, 'LocationNormalized=Burn Bridge': 1443, 'LocationNormalized=Burnham': 1444, 'LocationNormalized=Burnham-On-Crouch': 1445, 'LocationNormalized=Burnley': 1446, 'LocationNormalized=Burntwood': 1447, 'LocationNormalized=Burscough': 1448, 'LocationNormalized=Burton': 1449, 'LocationNormalized=Burton Joyce': 1450, 'LocationNormalized=Burton-On-Trent': 1451, 'LocationNormalized=Burwell': 1452, 'LocationNormalized=Bury': 1453, 'LocationNormalized=Bury St. Edmunds': 1454, 'LocationNormalized=Busbridge': 1455, 'LocationNormalized=Bushey': 1456, 'LocationNormalized=Bushmills': 1457, 'LocationNormalized=Butleigh': 1458, 'LocationNormalized=Buxton': 1459, 'LocationNormalized=Byfleet': 1460, 'LocationNormalized=Byley': 1461, 'LocationNormalized=Caddington': 1462, 'LocationNormalized=Cadishead': 1463, 'LocationNormalized=Caernarfon': 1464, 'LocationNormalized=Caerphilly': 1465, 'LocationNormalized=Cairndow': 1466, 'LocationNormalized=Calcot': 1467, 'LocationNormalized=Calderbridge': 1468, 'LocationNormalized=Caldicot': 1469, 'LocationNormalized=California': 1470, 'LocationNormalized=Callands': 1471, 'LocationNormalized=Callington': 1472, 'LocationNormalized=Calne': 1473, 'LocationNormalized=Calstock': 1474, 'LocationNormalized=Camberley': 1475, 'LocationNormalized=Camberwell': 1476, 'LocationNormalized=Camborne': 1477, 'LocationNormalized=Cambridge': 1478, 'LocationNormalized=Cambridgeshire': 1479, 'LocationNormalized=Cambuslang': 1480, 'LocationNormalized=Camden': 1481, 'LocationNormalized=Camden Town': 1482, 'LocationNormalized=Camelford': 1483, 'LocationNormalized=Cameron': 1484, 'LocationNormalized=Campbeltown': 1485, 'LocationNormalized=Camperdown': 1486, 'LocationNormalized=Canary Wharf': 1487, 'LocationNormalized=Cannock': 1488, 'LocationNormalized=Canterbury': 1489, 'LocationNormalized=Cantley': 1490, 'LocationNormalized=Canvey Island': 1491, 'LocationNormalized=Canwick': 1492, 'LocationNormalized=Capel St. Mary': 1493, 'LocationNormalized=Cardiff': 1494, 'LocationNormalized=Cardiff International Airport': 1495, 'LocationNormalized=Cardigan': 1496, 'LocationNormalized=Carleton': 1497, 'LocationNormalized=Carlisle': 1498, 'LocationNormalized=Carlton': 1499, 'LocationNormalized=Carluke': 1500, 'LocationNormalized=Carmarthen': 1501, 'LocationNormalized=Carmarthenshire': 1502, 'LocationNormalized=Carnforth': 1503, 'LocationNormalized=Carnoustie': 1504, 'LocationNormalized=Carrickfergus': 1505, 'LocationNormalized=Carrington': 1506, 'LocationNormalized=Carryduff': 1507, 'LocationNormalized=Carshalton': 1508, 'LocationNormalized=Carterton': 1509, 'LocationNormalized=Castle Bromwich': 1510, 'LocationNormalized=Castle Cary': 1511, 'LocationNormalized=Castle Combe': 1512, 'LocationNormalized=Castle Donington': 1513, 'LocationNormalized=Castle Douglas': 1514, 'LocationNormalized=Castlebay': 1515, 'LocationNormalized=Castleford': 1516, 'LocationNormalized=Castlereagh': 1517, 'LocationNormalized=Caterham': 1518, 'LocationNormalized=Catford': 1519, 'LocationNormalized=Caton': 1520, 'LocationNormalized=Catterick': 1521, 'LocationNormalized=Catterick Garrison': 1522, 'LocationNormalized=Caversham': 1523, 'LocationNormalized=Cayton Bay': 1524, 'LocationNormalized=Cefn Coed': 1525, 'LocationNormalized=Central London': 1526, 'LocationNormalized=Central Treviscoe': 1527, 'LocationNormalized=Ceredigion': 1528, 'LocationNormalized=Chadbury': 1529, 'LocationNormalized=Chadderton': 1530, 'LocationNormalized=Chadwell St. Mary': 1531, 'LocationNormalized=Chalfont St. Giles': 1532, 'LocationNormalized=Chalfont St. Peter': 1533, 'LocationNormalized=Chalgrove': 1534, 'LocationNormalized=Chalk Farm': 1535, 'LocationNormalized=Chalvey': 1536, \"LocationNormalized=Chandler's Ford\": 1537, 'LocationNormalized=Chandlers Cross': 1538, 'LocationNormalized=Channel Islands': 1539, 'LocationNormalized=Chantry': 1540, 'LocationNormalized=Chapel Allerton': 1541, 'LocationNormalized=Chard': 1542, 'LocationNormalized=Charfield': 1543, 'LocationNormalized=Charing Cross': 1544, 'LocationNormalized=Charlton': 1545, 'LocationNormalized=Chatham': 1546, 'LocationNormalized=Chathill': 1547, 'LocationNormalized=Chatteris': 1548, 'LocationNormalized=Cheadle': 1549, 'LocationNormalized=Cheadle Hulme': 1550, 'LocationNormalized=Cheam': 1551, 'LocationNormalized=Cheddar': 1552, 'LocationNormalized=Chellaston': 1553, 'LocationNormalized=Chelmsford': 1554, 'LocationNormalized=Chelsea': 1555, 'LocationNormalized=Cheltenham': 1556, 'LocationNormalized=Cheltenham Trade Park': 1557, 'LocationNormalized=Chepstow': 1558, 'LocationNormalized=Chertsey': 1559, 'LocationNormalized=Chesham': 1560, 'LocationNormalized=Cheshire': 1561, 'LocationNormalized=Cheshunt': 1562, 'LocationNormalized=Chessington': 1563, 'LocationNormalized=Chester': 1564, 'LocationNormalized=Chester Le Street': 1565, 'LocationNormalized=Chesterfield': 1566, 'LocationNormalized=Chesterton': 1567, 'LocationNormalized=Chewton Keynsham': 1568, 'LocationNormalized=Chichester': 1569, 'LocationNormalized=Chiddingstone Causeway': 1570, 'LocationNormalized=Chigwell': 1571, 'LocationNormalized=Chilcompton': 1572, 'LocationNormalized=Chiltern Green': 1573, 'LocationNormalized=Chilton': 1574, 'LocationNormalized=Chilwell': 1575, 'LocationNormalized=Chingford': 1576, 'LocationNormalized=Chippenham': 1577, 'LocationNormalized=Chipping Campden': 1578, 'LocationNormalized=Chipping Norton': 1579, 'LocationNormalized=Chipping Sodbury': 1580, 'LocationNormalized=Chislehurst': 1581, 'LocationNormalized=Chiswick': 1582, 'LocationNormalized=Chobham': 1583, 'LocationNormalized=Choppington': 1584, 'LocationNormalized=Chorley': 1585, 'LocationNormalized=Chorlton Cum Hardy': 1586, 'LocationNormalized=Christchurch': 1587, 'LocationNormalized=Christleton': 1588, 'LocationNormalized=Christs Hospital': 1589, 'LocationNormalized=Church End': 1590, 'LocationNormalized=Church Stoke': 1591, 'LocationNormalized=Church Stretton': 1592, 'LocationNormalized=Churchbridge': 1593, 'LocationNormalized=Churchtown': 1594, 'LocationNormalized=Churt': 1595, 'LocationNormalized=Churwell': 1596, 'LocationNormalized=Cinderford': 1597, 'LocationNormalized=Cippenham': 1598, 'LocationNormalized=Cirencester': 1599, 'LocationNormalized=City': 1600, 'LocationNormalized=Clackmannan': 1601, 'LocationNormalized=Clackmannanshire': 1602, 'LocationNormalized=Clacton-On-Sea': 1603, 'LocationNormalized=Clapham': 1604, 'LocationNormalized=Clapham Junction': 1605, 'LocationNormalized=Clarbeston': 1606, 'LocationNormalized=Clarbeston Road': 1607, 'LocationNormalized=Claverdon': 1608, 'LocationNormalized=Claydon': 1609, 'LocationNormalized=Clayton': 1610, 'LocationNormalized=Cleadon': 1611, 'LocationNormalized=Cleator': 1612, 'LocationNormalized=Cleckheaton': 1613, 'LocationNormalized=Cleethorpes': 1614, 'LocationNormalized=Clerkenwell': 1615, 'LocationNormalized=Clevedon': 1616, 'LocationNormalized=Cleveley': 1617, 'LocationNormalized=Cliddesden': 1618, 'LocationNormalized=Clifton': 1619, 'LocationNormalized=Cliftonville': 1620, 'LocationNormalized=Clitheroe': 1621, 'LocationNormalized=Clowne': 1622, 'LocationNormalized=Clydebank': 1623, 'LocationNormalized=Clyst Honiton': 1624, 'LocationNormalized=Coal Aston': 1625, 'LocationNormalized=Coaley': 1626, 'LocationNormalized=Coalville': 1627, 'LocationNormalized=Coatbridge': 1628, 'LocationNormalized=Cobham': 1629, 'LocationNormalized=Cockburnspath': 1630, 'LocationNormalized=Cockermouth': 1631, 'LocationNormalized=Cockfosters': 1632, 'LocationNormalized=Coedpenmaen': 1633, 'LocationNormalized=Colchester': 1634, 'LocationNormalized=Coleford': 1635, 'LocationNormalized=Coleraine': 1636, 'LocationNormalized=Coleshill': 1637, 'LocationNormalized=Colindale': 1638, 'LocationNormalized=Collyhurst': 1639, 'LocationNormalized=Colnbrook': 1640, 'LocationNormalized=Colne': 1641, 'LocationNormalized=Colwick': 1642, 'LocationNormalized=Colwyn Bay': 1643, 'LocationNormalized=Comberton': 1644, 'LocationNormalized=Congleton': 1645, 'LocationNormalized=Coningsby': 1646, 'LocationNormalized=Coniston': 1647, 'LocationNormalized=Coniston Cold': 1648, 'LocationNormalized=Consett': 1649, 'LocationNormalized=Conwy': 1650, 'LocationNormalized=Cookham Dean': 1651, 'LocationNormalized=Cookstown': 1652, 'LocationNormalized=Coolham': 1653, 'LocationNormalized=Corbridge': 1654, 'LocationNormalized=Corby': 1655, 'LocationNormalized=Cornwall': 1656, 'LocationNormalized=Cornwell': 1657, 'LocationNormalized=Corsham': 1658, 'LocationNormalized=Corwen': 1659, 'LocationNormalized=Cosby': 1660, 'LocationNormalized=Coscote': 1661, 'LocationNormalized=Cosford': 1662, 'LocationNormalized=Cosham': 1663, 'LocationNormalized=Cottingham': 1664, 'LocationNormalized=Coulsdon': 1665, 'LocationNormalized=Coulsdon North': 1666, 'LocationNormalized=Countesthorpe': 1667, 'LocationNormalized=County Antrim': 1668, 'LocationNormalized=County Down': 1669, 'LocationNormalized=Covent Garden': 1670, 'LocationNormalized=Coventry': 1671, 'LocationNormalized=Cowbridge': 1672, 'LocationNormalized=Cowdenbeath': 1673, 'LocationNormalized=Cowes': 1674, 'LocationNormalized=Cowley': 1675, 'LocationNormalized=Coxbench': 1676, 'LocationNormalized=Coxheath': 1677, 'LocationNormalized=Cradley Heath': 1678, 'LocationNormalized=Craigavon': 1679, 'LocationNormalized=Craigiebuckler': 1680, 'LocationNormalized=Craigiehall': 1681, 'LocationNormalized=Cramlington': 1682, 'LocationNormalized=Cranbrook': 1683, 'LocationNormalized=Cranfield': 1684, 'LocationNormalized=Cranleigh': 1685, 'LocationNormalized=Craven Arms': 1686, 'LocationNormalized=Crawley': 1687, 'LocationNormalized=Crayford': 1688, 'LocationNormalized=Crediton': 1689, 'LocationNormalized=Cressington': 1690, 'LocationNormalized=Creswell': 1691, 'LocationNormalized=Crewe': 1692, 'LocationNormalized=Crewkerne': 1693, 'LocationNormalized=Crianlarich': 1694, 'LocationNormalized=Crick': 1695, 'LocationNormalized=Crickhowell': 1696, 'LocationNormalized=Cricklade': 1697, 'LocationNormalized=Cricklewood': 1698, 'LocationNormalized=Crieff': 1699, 'LocationNormalized=Criftins': 1700, 'LocationNormalized=Cromer': 1701, 'LocationNormalized=Cronton': 1702, 'LocationNormalized=Crook': 1703, 'LocationNormalized=Crookham Village': 1704, 'LocationNormalized=Cross Heath': 1705, 'LocationNormalized=Crouch End': 1706, 'LocationNormalized=Crowborough': 1707, 'LocationNormalized=Crown East': 1708, 'LocationNormalized=Crowthorne': 1709, 'LocationNormalized=Croxley Green': 1710, 'LocationNormalized=Croydon': 1711, 'LocationNormalized=Crumpsall': 1712, 'LocationNormalized=Crymych': 1713, 'LocationNormalized=Crystal Palace': 1714, 'LocationNormalized=Cuckfield': 1715, 'LocationNormalized=Cuffley': 1716, 'LocationNormalized=Culham': 1717, 'LocationNormalized=Culloden': 1718, 'LocationNormalized=Cullompton': 1719, 'LocationNormalized=Culmhead': 1720, 'LocationNormalized=Cumbernauld': 1721, 'LocationNormalized=Cumbria': 1722, 'LocationNormalized=Cumnock': 1723, 'LocationNormalized=Cupar': 1724, 'LocationNormalized=Currie': 1725, 'LocationNormalized=Cutmill': 1726, 'LocationNormalized=Cuttifords Door': 1727, 'LocationNormalized=Cwm': 1728, 'LocationNormalized=Cwmbran': 1729, 'LocationNormalized=Cwmllynfell': 1730, 'LocationNormalized=Dagenham': 1731, 'LocationNormalized=Dalgety Bay': 1732, 'LocationNormalized=Dalkeith': 1733, 'LocationNormalized=Dallas': 1734, 'LocationNormalized=Dalry': 1735, 'LocationNormalized=Danestone': 1736, 'LocationNormalized=Daresbury': 1737, 'LocationNormalized=Darlington': 1738, 'LocationNormalized=Dartford': 1739, 'LocationNormalized=Dartmouth': 1740, 'LocationNormalized=Darwen': 1741, 'LocationNormalized=Datchet': 1742, 'LocationNormalized=Daventry': 1743, 'LocationNormalized=Dawlish': 1744, 'LocationNormalized=Deal': 1745, 'LocationNormalized=Dean Clough Industrial Park': 1746, 'LocationNormalized=Deane': 1747, 'LocationNormalized=Deanshanger': 1748, 'LocationNormalized=Deepcut': 1749, 'LocationNormalized=Deeside': 1750, 'LocationNormalized=Den Cross': 1751, 'LocationNormalized=Denbigh': 1752, 'LocationNormalized=Denbighshire': 1753, 'LocationNormalized=Denham': 1754, 'LocationNormalized=Denmark Hill': 1755, 'LocationNormalized=Denmead': 1756, 'LocationNormalized=Denton': 1757, 'LocationNormalized=Dentons Green': 1758, 'LocationNormalized=Denver': 1759, 'LocationNormalized=Denwick': 1760, 'LocationNormalized=Deptford': 1761, 'LocationNormalized=Derby': 1762, 'LocationNormalized=Derbyshire': 1763, 'LocationNormalized=Dereham': 1764, 'LocationNormalized=Derry': 1765, 'LocationNormalized=Desborough': 1766, 'LocationNormalized=Desford': 1767, 'LocationNormalized=Devizes': 1768, 'LocationNormalized=Devon': 1769, 'LocationNormalized=Devonport': 1770, 'LocationNormalized=Dewsbury': 1771, 'LocationNormalized=Didcot': 1772, 'LocationNormalized=Didsbury': 1773, 'LocationNormalized=Dinas Powys': 1774, 'LocationNormalized=Dingwall': 1775, 'LocationNormalized=Dinnington': 1776, 'LocationNormalized=Dinton': 1777, 'LocationNormalized=Diss': 1778, 'LocationNormalized=Ditchingham': 1779, 'LocationNormalized=Docking': 1780, 'LocationNormalized=Docklands': 1781, 'LocationNormalized=Dolgellau': 1782, 'LocationNormalized=Donaghadee': 1783, 'LocationNormalized=Doncaster': 1784, 'LocationNormalized=Dorchester': 1785, 'LocationNormalized=Dorking': 1786, 'LocationNormalized=Dormans Park': 1787, 'LocationNormalized=Dornoch': 1788, 'LocationNormalized=Dorset': 1789, 'LocationNormalized=Douglas': 1790, 'LocationNormalized=Dover': 1791, 'LocationNormalized=Downes': 1792, 'LocationNormalized=Downham Market': 1793, 'LocationNormalized=Downpatrick': 1794, 'LocationNormalized=Doxford': 1795, 'LocationNormalized=Drax': 1796, 'LocationNormalized=Drayton': 1797, 'LocationNormalized=Driffield': 1798, 'LocationNormalized=Drighlington': 1799, 'LocationNormalized=Droitwich': 1800, 'LocationNormalized=Dronfield': 1801, 'LocationNormalized=Droylsden': 1802, 'LocationNormalized=Drybrook': 1803, 'LocationNormalized=Dudley': 1804, 'LocationNormalized=Duffryn Rhondda': 1805, 'LocationNormalized=Dukinfield': 1806, 'LocationNormalized=Dulwich': 1807, 'LocationNormalized=Dumbarton': 1808, 'LocationNormalized=Dumfries': 1809, 'LocationNormalized=Dumfries & Galloway': 1810, 'LocationNormalized=Dunbar': 1811, 'LocationNormalized=Dunblane': 1812, 'LocationNormalized=Dundee': 1813, 'LocationNormalized=Dundee Technology Park': 1814, 'LocationNormalized=Dunfermline': 1815, 'LocationNormalized=Dungannon': 1816, 'LocationNormalized=Dungeness': 1817, 'LocationNormalized=Dunham-On-Trent': 1818, 'LocationNormalized=Dunmow': 1819, 'LocationNormalized=Dunoon': 1820, 'LocationNormalized=Duns': 1821, 'LocationNormalized=Dunstable': 1822, 'LocationNormalized=Dunwich': 1823, 'LocationNormalized=Durham': 1824, 'LocationNormalized=Durham Lane Industrial Park': 1825, 'LocationNormalized=Durham Tees Valley Airport': 1826, 'LocationNormalized=Dursley': 1827, 'LocationNormalized=Duxford': 1828, 'LocationNormalized=Dyce': 1829, 'LocationNormalized=Dymock': 1830, 'LocationNormalized=Ealing': 1831, 'LocationNormalized=Earls Barton': 1832, 'LocationNormalized=Earls Colne': 1833, 'LocationNormalized=Earls Court': 1834, 'LocationNormalized=Easingwold': 1835, 'LocationNormalized=East Anton': 1836, 'LocationNormalized=East Ayrshire': 1837, 'LocationNormalized=East Barnet': 1838, 'LocationNormalized=East Beckham': 1839, 'LocationNormalized=East Dean': 1840, 'LocationNormalized=East Dulwich': 1841, 'LocationNormalized=East End': 1842, 'LocationNormalized=East End Green': 1843, 'LocationNormalized=East Finchley': 1844, 'LocationNormalized=East Goscote': 1845, 'LocationNormalized=East Grinstead': 1846, 'LocationNormalized=East Hagbourne': 1847, 'LocationNormalized=East Ham': 1848, 'LocationNormalized=East Hanningfield': 1849, 'LocationNormalized=East Harptree': 1850, 'LocationNormalized=East Holton': 1851, 'LocationNormalized=East Kilbride': 1852, 'LocationNormalized=East Leake': 1853, 'LocationNormalized=East Linton': 1854, 'LocationNormalized=East London': 1855, 'LocationNormalized=East Lothian': 1856, 'LocationNormalized=East Mersea': 1857, 'LocationNormalized=East Midlands': 1858, 'LocationNormalized=East Molesey': 1859, 'LocationNormalized=East Riding': 1860, 'LocationNormalized=East Rolstone': 1861, 'LocationNormalized=East Sheen': 1862, 'LocationNormalized=East Somerton': 1863, 'LocationNormalized=East Sussex': 1864, 'LocationNormalized=East Town': 1865, 'LocationNormalized=East Tuddenham': 1866, 'LocationNormalized=East Wall': 1867, 'LocationNormalized=East Wittering': 1868, 'LocationNormalized=Eastbourne': 1869, 'LocationNormalized=Eastcote': 1870, 'LocationNormalized=Eastern England': 1871, 'LocationNormalized=Eastgate': 1872, 'LocationNormalized=Eastleigh': 1873, 'LocationNormalized=Easton': 1874, 'LocationNormalized=Eaton Ford': 1875, 'LocationNormalized=Eaton Socon': 1876, 'LocationNormalized=Ebbw Vale': 1877, 'LocationNormalized=Eccles': 1878, 'LocationNormalized=Eccleshall': 1879, 'LocationNormalized=Edenbridge': 1880, 'LocationNormalized=Edgbaston': 1881, 'LocationNormalized=Edge': 1882, 'LocationNormalized=Edgware': 1883, 'LocationNormalized=Edinburgh': 1884, 'LocationNormalized=Edinburgh Technopole': 1885, 'LocationNormalized=Edmonton': 1886, 'LocationNormalized=Edwalton': 1887, 'LocationNormalized=Eggington': 1888, 'LocationNormalized=Egglescliffe': 1889, 'LocationNormalized=Egham': 1890, 'LocationNormalized=Egremont': 1891, 'LocationNormalized=Egypt': 1892, 'LocationNormalized=Elgin': 1893, 'LocationNormalized=Elland': 1894, 'LocationNormalized=Ellesmere': 1895, 'LocationNormalized=Ellesmere Port': 1896, 'LocationNormalized=Ellon': 1897, 'LocationNormalized=Elmbridge': 1898, 'LocationNormalized=Elstow': 1899, 'LocationNormalized=Elstree': 1900, 'LocationNormalized=Eltham': 1901, 'LocationNormalized=Elvington': 1902, 'LocationNormalized=Ely': 1903, 'LocationNormalized=Emersons Green': 1904, 'LocationNormalized=Emsworth': 1905, 'LocationNormalized=Enfield': 1906, 'LocationNormalized=Englefield': 1907, 'LocationNormalized=Englefield Green': 1908, 'LocationNormalized=Enniskillen': 1909, 'LocationNormalized=Enstone': 1910, 'LocationNormalized=Epping': 1911, 'LocationNormalized=Epsom': 1912, 'LocationNormalized=Erdington': 1913, 'LocationNormalized=Erith': 1914, 'LocationNormalized=Erskine': 1915, 'LocationNormalized=Esher': 1916, 'LocationNormalized=Essex': 1917, 'LocationNormalized=Euston': 1918, 'LocationNormalized=Evesham': 1919, 'LocationNormalized=Ewell': 1920, 'LocationNormalized=Exeter': 1921, 'LocationNormalized=Exeter Airport': 1922, 'LocationNormalized=Exmouth': 1923, 'LocationNormalized=Exning': 1924, 'LocationNormalized=Eye': 1925, 'LocationNormalized=Eynsham': 1926, 'LocationNormalized=Fairbourne': 1927, 'LocationNormalized=Fairford': 1928, 'LocationNormalized=Fakenham': 1929, 'LocationNormalized=Falkirk': 1930, 'LocationNormalized=Falkland': 1931, 'LocationNormalized=Falmer': 1932, 'LocationNormalized=Falmouth': 1933, 'LocationNormalized=Far Arnside': 1934, 'LocationNormalized=Fareham': 1935, 'LocationNormalized=Faringdon': 1936, 'LocationNormalized=Farmoor': 1937, 'LocationNormalized=Farnborough': 1938, 'LocationNormalized=Farncombe': 1939, 'LocationNormalized=Farnham': 1940, 'LocationNormalized=Farringdon': 1941, 'LocationNormalized=Faulkbourne': 1942, 'LocationNormalized=Faversham': 1943, 'LocationNormalized=Fawley': 1944, 'LocationNormalized=Faygate': 1945, 'LocationNormalized=Featherstone': 1946, 'LocationNormalized=Felixstowe': 1947, 'LocationNormalized=Felsted': 1948, 'LocationNormalized=Feltham': 1949, 'LocationNormalized=Fenstanton': 1950, 'LocationNormalized=Fermanagh': 1951, 'LocationNormalized=Ferndown': 1952, 'LocationNormalized=Ferryhill': 1953, 'LocationNormalized=Fetcham': 1954, 'LocationNormalized=Fife': 1955, 'LocationNormalized=Filey': 1956, 'LocationNormalized=Filton': 1957, 'LocationNormalized=Finchampstead': 1958, 'LocationNormalized=Finchley': 1959, 'LocationNormalized=Firgrove': 1960, 'LocationNormalized=Firswood': 1961, 'LocationNormalized=Fishguard': 1962, 'LocationNormalized=Fitzrovia': 1963, 'LocationNormalized=Flackwell Heath': 1964, 'LocationNormalized=Flax Bourton': 1965, 'LocationNormalized=Fleet': 1966, 'LocationNormalized=Fleet Street': 1967, 'LocationNormalized=Fleetwood': 1968, 'LocationNormalized=Flint': 1969, 'LocationNormalized=Flintshire': 1970, 'LocationNormalized=Flitwick': 1971, 'LocationNormalized=Flixborough': 1972, 'LocationNormalized=Folkestone': 1973, 'LocationNormalized=Ford': 1974, 'LocationNormalized=Ford Bridge': 1975, 'LocationNormalized=Fordingbridge': 1976, 'LocationNormalized=Forest Beck': 1977, 'LocationNormalized=Forest Hill': 1978, 'LocationNormalized=Forest Row': 1979, 'LocationNormalized=Forfar': 1980, 'LocationNormalized=Formby': 1981, 'LocationNormalized=Forres': 1982, 'LocationNormalized=Fort William': 1983, 'LocationNormalized=Foston': 1984, 'LocationNormalized=Four Oaks': 1985, 'LocationNormalized=Fowey': 1986, 'LocationNormalized=Fradley Park': 1987, 'LocationNormalized=France Lynch': 1988, 'LocationNormalized=Fraserburgh': 1989, 'LocationNormalized=Freshwater': 1990, 'LocationNormalized=Freuchie': 1991, 'LocationNormalized=Friern Barnet': 1992, 'LocationNormalized=Frimley': 1993, 'LocationNormalized=Frinton-On-Sea': 1994, 'LocationNormalized=Frodsham': 1995, 'LocationNormalized=Frome': 1996, 'LocationNormalized=Fulbourn': 1997, 'LocationNormalized=Fulford': 1998, 'LocationNormalized=Fulham': 1999, 'LocationNormalized=Fulwood': 2000, 'LocationNormalized=Furness Vale': 2001, 'LocationNormalized=Furzedown': 2002, 'LocationNormalized=Gaddesden Row': 2003, 'LocationNormalized=Gainsborough': 2004, 'LocationNormalized=Galashiels': 2005, 'LocationNormalized=Garforth': 2006, 'LocationNormalized=Gargrave': 2007, 'LocationNormalized=Garstang': 2008, 'LocationNormalized=Garston': 2009, 'LocationNormalized=Gateshead': 2010, 'LocationNormalized=Gatwick': 2011, 'LocationNormalized=Gatwick Airport': 2012, 'LocationNormalized=Gaydon': 2013, 'LocationNormalized=Gedling': 2014, 'LocationNormalized=Gerrards Cross': 2015, 'LocationNormalized=Gibraltar': 2016, 'LocationNormalized=Gillingham': 2017, 'LocationNormalized=Gipsy Hill': 2018, 'LocationNormalized=Girton': 2019, 'LocationNormalized=Girvan': 2020, 'LocationNormalized=Glanton': 2021, 'LocationNormalized=Glasgow': 2022, 'LocationNormalized=Glasgow Airport': 2023, 'LocationNormalized=Glasgow East Investment Park': 2024, 'LocationNormalized=Glastonbury': 2025, 'LocationNormalized=Glemsford': 2026, 'LocationNormalized=Glenluce': 2027, 'LocationNormalized=Glenrothes': 2028, 'LocationNormalized=Glossop': 2029, 'LocationNormalized=Gloucester': 2030, 'LocationNormalized=Gloucestershire': 2031, 'LocationNormalized=Godalming': 2032, 'LocationNormalized=Godstone': 2033, 'LocationNormalized=Goldthorpe': 2034, 'LocationNormalized=Golspie': 2035, 'LocationNormalized=Gonerby Hill Foot': 2036, 'LocationNormalized=Goodwick': 2037, 'LocationNormalized=Goole': 2038, 'LocationNormalized=Goring': 2039, 'LocationNormalized=Goring-By-Sea': 2040, 'LocationNormalized=Gorleston': 2041, 'LocationNormalized=Gorseinon': 2042, 'LocationNormalized=Gorton': 2043, 'LocationNormalized=Gosport': 2044, 'LocationNormalized=Gourock': 2045, 'LocationNormalized=Grafton Regis': 2046, 'LocationNormalized=Grange-Over-Sands': 2047, 'LocationNormalized=Grangemouth': 2048, 'LocationNormalized=Grantham': 2049, 'LocationNormalized=Grantown-On-Spey': 2050, 'LocationNormalized=Gravesend': 2051, 'LocationNormalized=Grays': 2052, 'LocationNormalized=Greasbrough': 2053, 'LocationNormalized=Great Barr': 2054, 'LocationNormalized=Great Blakenham': 2055, 'LocationNormalized=Great Bridge': 2056, 'LocationNormalized=Great Canfield': 2057, 'LocationNormalized=Great Howarth': 2058, 'LocationNormalized=Great Kelk': 2059, 'LocationNormalized=Great Langdale': 2060, 'LocationNormalized=Great Missenden': 2061, 'LocationNormalized=Great Somerford': 2062, 'LocationNormalized=Great Usworth': 2063, 'LocationNormalized=Great Warley': 2064, 'LocationNormalized=Great Yarmouth': 2065, 'LocationNormalized=Greater Manchester': 2066, 'LocationNormalized=Greenford': 2067, 'LocationNormalized=Greenhithe': 2068, 'LocationNormalized=Greenock': 2069, 'LocationNormalized=Greenwich': 2070, 'LocationNormalized=Gretna': 2071, 'LocationNormalized=Grimethorpe': 2072, 'LocationNormalized=Grimsby': 2073, 'LocationNormalized=Grizedale': 2074, 'LocationNormalized=Gronant': 2075, 'LocationNormalized=Guernsey': 2076, 'LocationNormalized=Guildford': 2077, 'LocationNormalized=Guisborough': 2078, 'LocationNormalized=Guiseley': 2079, 'LocationNormalized=Gullane': 2080, 'LocationNormalized=Gwynedd': 2081, 'LocationNormalized=H M Naval Base': 2082, 'LocationNormalized=Hackney': 2083, 'LocationNormalized=Hackney Wick': 2084, 'LocationNormalized=Haddenham': 2085, 'LocationNormalized=Haddington': 2086, 'LocationNormalized=Haddon': 2087, 'LocationNormalized=Hadfield': 2088, 'LocationNormalized=Hadleigh': 2089, 'LocationNormalized=Hailey': 2090, 'LocationNormalized=Hailsham': 2091, 'LocationNormalized=Halesowen': 2092, 'LocationNormalized=Halesworth': 2093, 'LocationNormalized=Halewood': 2094, 'LocationNormalized=Halifax': 2095, 'LocationNormalized=Hall Green': 2096, 'LocationNormalized=Halstead': 2097, 'LocationNormalized=Halton': 2098, 'LocationNormalized=Haltwhistle': 2099, 'LocationNormalized=Ham': 2100, 'LocationNormalized=Hambleton': 2101, 'LocationNormalized=Hamilton': 2102, 'LocationNormalized=Hammersmith': 2103, 'LocationNormalized=Hampshire': 2104, 'LocationNormalized=Hampstead': 2105, 'LocationNormalized=Hampton': 2106, 'LocationNormalized=Hampton Hill': 2107, 'LocationNormalized=Hampton Poyle': 2108, 'LocationNormalized=Hamworthy': 2109, 'LocationNormalized=Handbridge': 2110, 'LocationNormalized=Handforth': 2111, 'LocationNormalized=Handsworth': 2112, 'LocationNormalized=Hanham': 2113, 'LocationNormalized=Hanley': 2114, 'LocationNormalized=Hanwell': 2115, 'LocationNormalized=Hanworth': 2116, 'LocationNormalized=Hapton': 2117, 'LocationNormalized=Hardwick': 2118, 'LocationNormalized=Harefield': 2119, 'LocationNormalized=Harlech': 2120, 'LocationNormalized=Harlow': 2121, 'LocationNormalized=Harmondsworth': 2122, 'LocationNormalized=Harold Wood': 2123, 'LocationNormalized=Harpenden': 2124, 'LocationNormalized=Harrogate': 2125, 'LocationNormalized=Harrow': 2126, 'LocationNormalized=Harston': 2127, 'LocationNormalized=Hartford': 2128, 'LocationNormalized=Hartlepool': 2129, 'LocationNormalized=Hartley': 2130, 'LocationNormalized=Hartley Wintney': 2131, 'LocationNormalized=Harvey Gardens': 2132, 'LocationNormalized=Harwell': 2133, 'LocationNormalized=Harwich': 2134, 'LocationNormalized=Haslemere': 2135, 'LocationNormalized=Haslingden': 2136, 'LocationNormalized=Hassocks': 2137, 'LocationNormalized=Hastings': 2138, 'LocationNormalized=Hatfield': 2139, 'LocationNormalized=Hatherleigh': 2140, 'LocationNormalized=Haugh': 2141, 'LocationNormalized=Haultwick': 2142, 'LocationNormalized=Havant': 2143, 'LocationNormalized=Haverfordwest': 2144, 'LocationNormalized=Haverhill': 2145, 'LocationNormalized=Havering-Atte-Bower': 2146, 'LocationNormalized=Hawarden': 2147, 'LocationNormalized=Hawick': 2148, 'LocationNormalized=Haydock': 2149, 'LocationNormalized=Haye': 2150, 'LocationNormalized=Hayes': 2151, 'LocationNormalized=Hayle': 2152, 'LocationNormalized=Hayling Island': 2153, 'LocationNormalized=Haymarket': 2154, 'LocationNormalized=Haywards Heath': 2155, 'LocationNormalized=Headley Down': 2156, 'LocationNormalized=Healey': 2157, 'LocationNormalized=Heanor': 2158, 'LocationNormalized=Heath': 2159, 'LocationNormalized=Heathfield': 2160, 'LocationNormalized=Heathrow': 2161, 'LocationNormalized=Heathrow Airport': 2162, 'LocationNormalized=Heaton Mersey': 2163, 'LocationNormalized=Hebburn': 2164, 'LocationNormalized=Hebden Bridge': 2165, 'LocationNormalized=Heckington': 2166, 'LocationNormalized=Heckmondwike': 2167, 'LocationNormalized=Hedge End': 2168, 'LocationNormalized=Helensburgh': 2169, 'LocationNormalized=Helmshore': 2170, 'LocationNormalized=Helsby': 2171, 'LocationNormalized=Helston': 2172, 'LocationNormalized=Hemel Hempstead': 2173, 'LocationNormalized=Hendon': 2174, 'LocationNormalized=Henfield': 2175, 'LocationNormalized=Hengoed': 2176, 'LocationNormalized=Henley-In-Arden': 2177, 'LocationNormalized=Henley-On-Thames': 2178, 'LocationNormalized=Henlow': 2179, 'LocationNormalized=Hereford': 2180, 'LocationNormalized=Herefordshire': 2181, 'LocationNormalized=Heriot': 2182, 'LocationNormalized=Hermitage': 2183, 'LocationNormalized=Herne Bay': 2184, 'LocationNormalized=Hersham': 2185, 'LocationNormalized=Hertford': 2186, 'LocationNormalized=Hertford Heath': 2187, 'LocationNormalized=Hertfordshire': 2188, 'LocationNormalized=Hessle': 2189, 'LocationNormalized=Hest Bank': 2190, 'LocationNormalized=Hexham': 2191, 'LocationNormalized=Heysham': 2192, 'LocationNormalized=Heyshott': 2193, 'LocationNormalized=Heywood': 2194, 'LocationNormalized=Heywood Distribution Park': 2195, 'LocationNormalized=High Peak': 2196, 'LocationNormalized=High Wycombe': 2197, 'LocationNormalized=Highbridge': 2198, 'LocationNormalized=Highbury': 2199, 'LocationNormalized=Highlands': 2200, 'LocationNormalized=Hildenborough': 2201, 'LocationNormalized=Hillingdon': 2202, 'LocationNormalized=Hillsborough': 2203, 'LocationNormalized=Hinckley': 2204, 'LocationNormalized=Hinderwell': 2205, 'LocationNormalized=Hindhead': 2206, 'LocationNormalized=Hindley': 2207, 'LocationNormalized=Hingham': 2208, 'LocationNormalized=Histon': 2209, 'LocationNormalized=Hitchin': 2210, 'LocationNormalized=Hockley': 2211, 'LocationNormalized=Hoddesdon': 2212, 'LocationNormalized=Hoe Hill': 2213, 'LocationNormalized=Holbeach': 2214, 'LocationNormalized=Holbeck': 2215, 'LocationNormalized=Holborn': 2216, 'LocationNormalized=Holland Park': 2217, 'LocationNormalized=Hollesley': 2218, 'LocationNormalized=Holloway': 2219, 'LocationNormalized=Hollywood': 2220, 'LocationNormalized=Holmer': 2221, 'LocationNormalized=Holmfirth': 2222, 'LocationNormalized=Holmrook': 2223, 'LocationNormalized=Holsworthy': 2224, 'LocationNormalized=Holt': 2225, 'LocationNormalized=Holyhead': 2226, 'LocationNormalized=Holyport': 2227, 'LocationNormalized=Holywell': 2228, 'LocationNormalized=Holywood': 2229, 'LocationNormalized=Honingham': 2230, 'LocationNormalized=Honiton': 2231, 'LocationNormalized=Hook': 2232, 'LocationNormalized=Hook Common': 2233, 'LocationNormalized=Hooke': 2234, 'LocationNormalized=Hookwood': 2235, 'LocationNormalized=Hope': 2236, 'LocationNormalized=Hope Carr': 2237, 'LocationNormalized=Hope Valley': 2238, 'LocationNormalized=Horam': 2239, 'LocationNormalized=Horbury': 2240, 'LocationNormalized=Hordley': 2241, 'LocationNormalized=Horley': 2242, 'LocationNormalized=Horncastle': 2243, 'LocationNormalized=Hornchurch': 2244, 'LocationNormalized=Horsforth': 2245, 'LocationNormalized=Horsham': 2246, 'LocationNormalized=Hotwells': 2247, 'LocationNormalized=Houghton Le Spring': 2248, 'LocationNormalized=Houghton Regis': 2249, 'LocationNormalized=Hounslow': 2250, 'LocationNormalized=Houston': 2251, 'LocationNormalized=Hove': 2252, 'LocationNormalized=Hoveton': 2253, 'LocationNormalized=Howden': 2254, 'LocationNormalized=Hucknall': 2255, 'LocationNormalized=Huddersfield': 2256, 'LocationNormalized=Hull': 2257, 'LocationNormalized=Humber': 2258, 'LocationNormalized=Hungerford': 2259, 'LocationNormalized=Hungerford Park': 2260, 'LocationNormalized=Hunslet': 2261, 'LocationNormalized=Hunstanton': 2262, 'LocationNormalized=Huntingdon': 2263, 'LocationNormalized=Huntly': 2264, 'LocationNormalized=Hurstpierpoint': 2265, 'LocationNormalized=Huthwaite': 2266, 'LocationNormalized=Huyton': 2267, 'LocationNormalized=Hyde': 2268, 'LocationNormalized=Hyde Park': 2269, 'LocationNormalized=Hythe': 2270, 'LocationNormalized=Ibstock': 2271, 'LocationNormalized=Iffley': 2272, 'LocationNormalized=Ifield': 2273, 'LocationNormalized=Ilchester': 2274, 'LocationNormalized=Ilford': 2275, 'LocationNormalized=Ilfracombe': 2276, 'LocationNormalized=Ilkeston': 2277, 'LocationNormalized=Ilkley': 2278, 'LocationNormalized=Ilminster': 2279, 'LocationNormalized=Immingham': 2280, 'LocationNormalized=Impington': 2281, 'LocationNormalized=Ingatestone': 2282, 'LocationNormalized=Invergordon': 2283, 'LocationNormalized=Inverkeithing': 2284, 'LocationNormalized=Inverness': 2285, 'LocationNormalized=Inverurie': 2286, 'LocationNormalized=Ipswich': 2287, 'LocationNormalized=Ireland': 2288, 'LocationNormalized=Irlam': 2289, \"LocationNormalized=Irlams O' Th' Height\": 2290, 'LocationNormalized=Irthlingborough': 2291, 'LocationNormalized=Irvine': 2292, 'LocationNormalized=Isle Of Anglesey': 2293, 'LocationNormalized=Isle Of Arran': 2294, 'LocationNormalized=Isle Of Barra': 2295, 'LocationNormalized=Isle Of Bute': 2296, 'LocationNormalized=Isle Of Coll': 2297, 'LocationNormalized=Isle Of Colonsay': 2298, 'LocationNormalized=Isle Of Dogs': 2299, 'LocationNormalized=Isle Of Grain': 2300, 'LocationNormalized=Isle Of Harris': 2301, 'LocationNormalized=Isle Of Iona': 2302, 'LocationNormalized=Isle Of Lewis': 2303, 'LocationNormalized=Isle Of Man': 2304, 'LocationNormalized=Isle Of North Uist': 2305, 'LocationNormalized=Isle Of Skye': 2306, 'LocationNormalized=Isle Of South Uist': 2307, 'LocationNormalized=Isle Of Wight': 2308, 'LocationNormalized=Isles Of Scilly': 2309, 'LocationNormalized=Isleworth': 2310, 'LocationNormalized=Islington': 2311, 'LocationNormalized=Itchenor': 2312, 'LocationNormalized=Iver': 2313, 'LocationNormalized=Iver Heath': 2314, 'LocationNormalized=Ivybridge': 2315, 'LocationNormalized=Iwerne Courtney': 2316, 'LocationNormalized=Jarrow': 2317, 'LocationNormalized=Jedburgh': 2318, 'LocationNormalized=Jersey': 2319, 'LocationNormalized=Johnstone': 2320, 'LocationNormalized=Kearsley': 2321, 'LocationNormalized=Keele': 2322, 'LocationNormalized=Kegworth': 2323, 'LocationNormalized=Keighley': 2324, 'LocationNormalized=Keith': 2325, 'LocationNormalized=Kelso': 2326, 'LocationNormalized=Kelty': 2327, 'LocationNormalized=Kempston': 2328, 'LocationNormalized=Kendal': 2329, 'LocationNormalized=Kenilworth': 2330, 'LocationNormalized=Kenley': 2331, 'LocationNormalized=Kenn': 2332, 'LocationNormalized=Kennington': 2333, 'LocationNormalized=Kennoway': 2334, 'LocationNormalized=Kensington': 2335, 'LocationNormalized=Kent': 2336, 'LocationNormalized=Kent International Airport': 2337, 'LocationNormalized=Kentish Town': 2338, 'LocationNormalized=Kenton': 2339, 'LocationNormalized=Kenyon': 2340, 'LocationNormalized=Kerry': 2341, 'LocationNormalized=Kesgrave': 2342, 'LocationNormalized=Keswick': 2343, 'LocationNormalized=Kettering': 2344, 'LocationNormalized=Kew': 2345, 'LocationNormalized=Keynsham': 2346, 'LocationNormalized=Kibworth Harcourt': 2347, 'LocationNormalized=Kidbrooke': 2348, 'LocationNormalized=Kidderminster': 2349, 'LocationNormalized=Kidlington': 2350, 'LocationNormalized=Kidwelly': 2351, 'LocationNormalized=Kilbarchan': 2352, 'LocationNormalized=Kilbirnie': 2353, 'LocationNormalized=Killingworth': 2354, 'LocationNormalized=Kilmarnock': 2355, 'LocationNormalized=Kilmuir': 2356, 'LocationNormalized=Kilwinning': 2357, 'LocationNormalized=Kimbolton': 2358, 'LocationNormalized=Kincardine': 2359, \"LocationNormalized=King's Lynn\": 2360, 'LocationNormalized=Kingfield': 2361, 'LocationNormalized=Kingfisher Shopping Centre': 2362, 'LocationNormalized=Kings Hill': 2363, 'LocationNormalized=Kings Langley': 2364, 'LocationNormalized=Kings Norton': 2365, 'LocationNormalized=Kingsbarns': 2366, 'LocationNormalized=Kingsbridge': 2367, 'LocationNormalized=Kingsdown': 2368, 'LocationNormalized=Kingston': 2369, 'LocationNormalized=Kingston Upon Thames': 2370, 'LocationNormalized=Kingston Vale': 2371, 'LocationNormalized=Kingswells': 2372, 'LocationNormalized=Kingswinford': 2373, 'LocationNormalized=Kingswood': 2374, 'LocationNormalized=Kington': 2375, 'LocationNormalized=Kingussie': 2376, 'LocationNormalized=Kinross': 2377, 'LocationNormalized=Kirkby': 2378, 'LocationNormalized=Kirkby Stephen': 2379, 'LocationNormalized=Kirkby-In-Ashfield': 2380, 'LocationNormalized=Kirkcaldy': 2381, 'LocationNormalized=Kirkham': 2382, 'LocationNormalized=Kirkhamgate': 2383, 'LocationNormalized=Kirkintilloch': 2384, 'LocationNormalized=Kirknewton': 2385, 'LocationNormalized=Kirkwall': 2386, 'LocationNormalized=Knaresborough': 2387, 'LocationNormalized=Knebworth': 2388, 'LocationNormalized=Knighton': 2389, 'LocationNormalized=Knightsbridge': 2390, 'LocationNormalized=Knottingley': 2391, 'LocationNormalized=Knowle': 2392, 'LocationNormalized=Knowsley': 2393, 'LocationNormalized=Knowsley Industrial Park': 2394, 'LocationNormalized=Knowsley Park': 2395, 'LocationNormalized=Knutsford': 2396, 'LocationNormalized=Ladbroke Grove': 2397, 'LocationNormalized=Laindon': 2398, 'LocationNormalized=Lakenheath': 2399, 'LocationNormalized=Lakeside': 2400, 'LocationNormalized=Lambeth': 2401, 'LocationNormalized=Lampeter': 2402, 'LocationNormalized=Lanark': 2403, 'LocationNormalized=Lancashire': 2404, 'LocationNormalized=Lancaster': 2405, 'LocationNormalized=Lancing': 2406, 'LocationNormalized=Lane End': 2407, 'LocationNormalized=Langholm': 2408, 'LocationNormalized=Langley': 2409, 'LocationNormalized=Langport': 2410, 'LocationNormalized=Larbert': 2411, 'LocationNormalized=Largs': 2412, 'LocationNormalized=Larkhall': 2413, 'LocationNormalized=Larne': 2414, 'LocationNormalized=Lasswade': 2415, 'LocationNormalized=Lathom': 2416, 'LocationNormalized=Lauder': 2417, 'LocationNormalized=Launceston': 2418, 'LocationNormalized=Launton': 2419, 'LocationNormalized=Laurencekirk': 2420, 'LocationNormalized=Lea Bridge': 2421, 'LocationNormalized=Leamington Spa': 2422, 'LocationNormalized=Leamouth': 2423, 'LocationNormalized=Leatherhead': 2424, 'LocationNormalized=Leavesden': 2425, 'LocationNormalized=Lechlade': 2426, 'LocationNormalized=Leckhampton': 2427, 'LocationNormalized=Leconfield': 2428, 'LocationNormalized=Ledbury': 2429, 'LocationNormalized=Lee-On-The-Solent': 2430, 'LocationNormalized=Leeds': 2431, 'LocationNormalized=Leek': 2432, 'LocationNormalized=Leeming Bar': 2433, 'LocationNormalized=Leicester': 2434, 'LocationNormalized=Leicestershire': 2435, 'LocationNormalized=Leigh': 2436, 'LocationNormalized=Leigh-On-Sea': 2437, 'LocationNormalized=Leighton Buzzard': 2438, 'LocationNormalized=Leiston': 2439, 'LocationNormalized=Leitrim': 2440, 'LocationNormalized=Lemington': 2441, 'LocationNormalized=Lenham': 2442, 'LocationNormalized=Leominster': 2443, 'LocationNormalized=Leslie': 2444, 'LocationNormalized=Lesnes Woods': 2445, 'LocationNormalized=Letchworth Garden City': 2446, 'LocationNormalized=Leven': 2447, 'LocationNormalized=Lewes': 2448, 'LocationNormalized=Lewisham': 2449, 'LocationNormalized=Leyburn': 2450, 'LocationNormalized=Leyland': 2451, 'LocationNormalized=Leyton': 2452, 'LocationNormalized=Lichfield': 2453, 'LocationNormalized=Lifton': 2454, 'LocationNormalized=Lightwater': 2455, 'LocationNormalized=Limavady': 2456, 'LocationNormalized=Lincoln': 2457, 'LocationNormalized=Lincolnshire': 2458, 'LocationNormalized=Lindfield': 2459, 'LocationNormalized=Lindford': 2460, 'LocationNormalized=Lindrick Common': 2461, 'LocationNormalized=Lingfield': 2462, 'LocationNormalized=Linlithgow': 2463, 'LocationNormalized=Linlithgow Bridge': 2464, 'LocationNormalized=Linton': 2465, 'LocationNormalized=Linwood': 2466, 'LocationNormalized=Liphook': 2467, 'LocationNormalized=Lisburn': 2468, 'LocationNormalized=Liskeard': 2469, 'LocationNormalized=Liss': 2470, 'LocationNormalized=Litherland': 2471, 'LocationNormalized=Little Alne': 2472, 'LocationNormalized=Little Bromley': 2473, 'LocationNormalized=Little Chalfont': 2474, 'LocationNormalized=Little Chesterford': 2475, 'LocationNormalized=Little Clacton': 2476, 'LocationNormalized=Little Eaton': 2477, 'LocationNormalized=Little Ellingham': 2478, 'LocationNormalized=Little Grimsby': 2479, 'LocationNormalized=Little Ilford': 2480, 'LocationNormalized=Little Irchester': 2481, 'LocationNormalized=Little Keyford': 2482, 'LocationNormalized=Little London': 2483, 'LocationNormalized=Little Marlow': 2484, 'LocationNormalized=Little Oakley': 2485, 'LocationNormalized=Little Padfield': 2486, 'LocationNormalized=Little Tring': 2487, 'LocationNormalized=Littleborough': 2488, 'LocationNormalized=Littleham': 2489, 'LocationNormalized=Littlehampton': 2490, 'LocationNormalized=Littlethorpe': 2491, 'LocationNormalized=Liverpool': 2492, 'LocationNormalized=Liverpool Street': 2493, 'LocationNormalized=Liversedge': 2494, 'LocationNormalized=Livingston': 2495, 'LocationNormalized=Livingston Village': 2496, 'LocationNormalized=Llanbedr Dyffryn Clwyd': 2497, 'LocationNormalized=Llanberis': 2498, 'LocationNormalized=Llandaff North': 2499, 'LocationNormalized=Llandinam': 2500, 'LocationNormalized=Llandovery': 2501, 'LocationNormalized=Llandrindod Wells': 2502, 'LocationNormalized=Llandudno': 2503, 'LocationNormalized=Llandudno Junction': 2504, 'LocationNormalized=Llandyrnog': 2505, 'LocationNormalized=Llanelli': 2506, 'LocationNormalized=Llanfairpwllgwyngyll': 2507, 'LocationNormalized=Llangefni': 2508, 'LocationNormalized=Llangennech': 2509, 'LocationNormalized=Llangollen': 2510, 'LocationNormalized=Llanidloes': 2511, 'LocationNormalized=Llanrug': 2512, 'LocationNormalized=Llanrumney': 2513, 'LocationNormalized=Llansantffraid': 2514, 'LocationNormalized=Llantrisant': 2515, 'LocationNormalized=Llanwrda': 2516, 'LocationNormalized=Llanwrtyd Wells': 2517, 'LocationNormalized=Llanybydder': 2518, 'LocationNormalized=Llay': 2519, 'LocationNormalized=Loanhead': 2520, 'LocationNormalized=Lochgelly': 2521, 'LocationNormalized=Lochgilphead': 2522, 'LocationNormalized=Lockerbie': 2523, 'LocationNormalized=London': 2524, 'LocationNormalized=London Colney': 2525, 'LocationNormalized=London Stansted Airport': 2526, 'LocationNormalized=Londonderry': 2527, 'LocationNormalized=Long Eaton': 2528, 'LocationNormalized=Long Furlong': 2529, 'LocationNormalized=Long Marston': 2530, 'LocationNormalized=Long Stratton': 2531, 'LocationNormalized=Long Sutton': 2532, 'LocationNormalized=Longbenton': 2533, 'LocationNormalized=Longbridge': 2534, 'LocationNormalized=Longfield': 2535, 'LocationNormalized=Longhope': 2536, 'LocationNormalized=Longstanton': 2537, 'LocationNormalized=Longtown': 2538, 'LocationNormalized=Looe': 2539, 'LocationNormalized=Lopen': 2540, 'LocationNormalized=Lossiemouth': 2541, 'LocationNormalized=Lostwithiel': 2542, 'LocationNormalized=Loudwater': 2543, 'LocationNormalized=Loughborough': 2544, 'LocationNormalized=Loughton': 2545, 'LocationNormalized=Lount': 2546, 'LocationNormalized=Louth': 2547, 'LocationNormalized=Low Common': 2548, 'LocationNormalized=Low Seaton': 2549, 'LocationNormalized=Lower Basildon': 2550, 'LocationNormalized=Lower Eashing': 2551, 'LocationNormalized=Lower Hale': 2552, 'LocationNormalized=Lower Sydenham': 2553, 'LocationNormalized=Lowestoft': 2554, 'LocationNormalized=Lowfield Heath': 2555, 'LocationNormalized=Ludlow': 2556, 'LocationNormalized=Luton': 2557, 'LocationNormalized=Lutterworth': 2558, 'LocationNormalized=Lydbury North': 2559, 'LocationNormalized=Lydney': 2560, 'LocationNormalized=Lye': 2561, 'LocationNormalized=Lyme Green': 2562, 'LocationNormalized=Lyme Regis': 2563, 'LocationNormalized=Lymington': 2564, 'LocationNormalized=Lymm': 2565, 'LocationNormalized=Lympstone': 2566, 'LocationNormalized=Lyndhurst': 2567, 'LocationNormalized=Lyne': 2568, 'LocationNormalized=Lyng': 2569, 'LocationNormalized=Lynmouth': 2570, 'LocationNormalized=Lytham': 2571, 'LocationNormalized=Lytham St. Annes': 2572, 'LocationNormalized=Mablethorpe': 2573, 'LocationNormalized=Macclesfield': 2574, 'LocationNormalized=Machynlleth': 2575, 'LocationNormalized=Maesteg': 2576, 'LocationNormalized=Magherafelt': 2577, 'LocationNormalized=Maida Vale': 2578, 'LocationNormalized=Maidenhead': 2579, 'LocationNormalized=Maidstone': 2580, 'LocationNormalized=Maldon': 2581, 'LocationNormalized=Malmesbury': 2582, 'LocationNormalized=Malpas': 2583, 'LocationNormalized=Malton': 2584, 'LocationNormalized=Malvern': 2585, 'LocationNormalized=Mancetter': 2586, 'LocationNormalized=Manchester': 2587, 'LocationNormalized=Manchester Airport': 2588, 'LocationNormalized=Manchester Science Park': 2589, 'LocationNormalized=Manningtree': 2590, 'LocationNormalized=Manor Park': 2591, 'LocationNormalized=Mansfield': 2592, 'LocationNormalized=Mansfield Woodhouse': 2593, 'LocationNormalized=Manvers': 2594, 'LocationNormalized=Maple Cross': 2595, 'LocationNormalized=Mapperley': 2596, 'LocationNormalized=March': 2597, 'LocationNormalized=Marehay': 2598, 'LocationNormalized=Margate': 2599, 'LocationNormalized=Market Deeping': 2600, 'LocationNormalized=Market Drayton': 2601, 'LocationNormalized=Market Harborough': 2602, 'LocationNormalized=Market Rasen': 2603, 'LocationNormalized=Market Weighton': 2604, 'LocationNormalized=Markfield': 2605, 'LocationNormalized=Marlborough': 2606, 'LocationNormalized=Marlow': 2607, 'LocationNormalized=Marske': 2608, 'LocationNormalized=Martock': 2609, 'LocationNormalized=Marton-In-Cleveland': 2610, 'LocationNormalized=Marylebone': 2611, 'LocationNormalized=Matlock': 2612, 'LocationNormalized=Mauchline': 2613, 'LocationNormalized=Maybole': 2614, 'LocationNormalized=Mayfair': 2615, 'LocationNormalized=Meadowbank': 2616, 'LocationNormalized=Measham': 2617, 'LocationNormalized=Medway City Estate': 2618, 'LocationNormalized=Melbourn': 2619, 'LocationNormalized=Melbourne': 2620, 'LocationNormalized=Melksham': 2621, 'LocationNormalized=Melrose': 2622, 'LocationNormalized=Melton': 2623, 'LocationNormalized=Melton Constable': 2624, 'LocationNormalized=Melton Mowbray': 2625, 'LocationNormalized=Menai Bridge': 2626, 'LocationNormalized=Meopham': 2627, 'LocationNormalized=Meriden': 2628, 'LocationNormalized=Merseyside': 2629, 'LocationNormalized=Merthyr Tydfil': 2630, 'LocationNormalized=Merton': 2631, 'LocationNormalized=Methley': 2632, 'LocationNormalized=Mexborough': 2633, 'LocationNormalized=Mickle Trafford': 2634, 'LocationNormalized=Middlesbrough': 2635, 'LocationNormalized=Middleton': 2636, 'LocationNormalized=Middlewich': 2637, 'LocationNormalized=Midhurst': 2638, 'LocationNormalized=Midlothian': 2639, 'LocationNormalized=Midsomer Norton': 2640, 'LocationNormalized=Mildenhall': 2641, 'LocationNormalized=Mile End': 2642, 'LocationNormalized=Milford': 2643, 'LocationNormalized=Milford Haven': 2644, 'LocationNormalized=Mill Hill': 2645, 'LocationNormalized=Mill Hill East': 2646, 'LocationNormalized=Millom': 2647, 'LocationNormalized=Milltimber': 2648, 'LocationNormalized=Milngavie': 2649, 'LocationNormalized=Milton': 2650, 'LocationNormalized=Milton Keynes': 2651, 'LocationNormalized=Minehead': 2652, 'LocationNormalized=Minworth': 2653, 'LocationNormalized=Mirfield': 2654, 'LocationNormalized=Mitcham': 2655, 'LocationNormalized=Mitcheldean': 2656, 'LocationNormalized=Moffat': 2657, 'LocationNormalized=Mold': 2658, 'LocationNormalized=Monaghan': 2659, 'LocationNormalized=Monkton Heathfield': 2660, 'LocationNormalized=Monmouth': 2661, 'LocationNormalized=Monmouthshire': 2662, 'LocationNormalized=Montgomery': 2663, 'LocationNormalized=Montrose': 2664, 'LocationNormalized=Monument': 2665, 'LocationNormalized=Monxton': 2666, 'LocationNormalized=Moor Row': 2667, 'LocationNormalized=Moorgate': 2668, 'LocationNormalized=Moortown': 2669, 'LocationNormalized=Mop End': 2670, 'LocationNormalized=Moray': 2671, 'LocationNormalized=Morden': 2672, 'LocationNormalized=Morecambe': 2673, 'LocationNormalized=Moreton-In-Marsh': 2674, 'LocationNormalized=Morley': 2675, 'LocationNormalized=Morpeth': 2676, 'LocationNormalized=Morriston': 2677, 'LocationNormalized=Mortimer West End': 2678, 'LocationNormalized=Morton': 2679, 'LocationNormalized=Mossley': 2680, 'LocationNormalized=Motherwell': 2681, 'LocationNormalized=Mottram': 2682, 'LocationNormalized=Mottram St. Andrew': 2683, 'LocationNormalized=Mountain Ash': 2684, 'LocationNormalized=Much Hadham': 2685, 'LocationNormalized=Mulbarton': 2686, 'LocationNormalized=Musselburgh': 2687, 'LocationNormalized=Muswell Hill': 2688, 'LocationNormalized=Mylor Bridge': 2689, 'LocationNormalized=Mytholmroyd': 2690, 'LocationNormalized=Nailsea': 2691, 'LocationNormalized=Nairn': 2692, 'LocationNormalized=Nant Gwynant': 2693, 'LocationNormalized=Nantwich': 2694, 'LocationNormalized=Narberth': 2695, 'LocationNormalized=Narborough': 2696, 'LocationNormalized=Nayland': 2697, 'LocationNormalized=Neasden': 2698, 'LocationNormalized=Neath': 2699, 'LocationNormalized=Neath Port Talbot': 2700, 'LocationNormalized=Nechells': 2701, 'LocationNormalized=Needham Market': 2702, 'LocationNormalized=Nelson': 2703, 'LocationNormalized=Neston': 2704, 'LocationNormalized=Netherfield': 2705, 'LocationNormalized=New Barnet': 2706, 'LocationNormalized=New Cross': 2707, 'LocationNormalized=New Durham': 2708, 'LocationNormalized=New Haw': 2709, 'LocationNormalized=New Holland': 2710, 'LocationNormalized=New Leeds': 2711, 'LocationNormalized=New Longton': 2712, 'LocationNormalized=New Malden': 2713, 'LocationNormalized=New Milton': 2714, 'LocationNormalized=New Quay': 2715, 'LocationNormalized=New Romney': 2716, 'LocationNormalized=New York': 2717, 'LocationNormalized=New Zealand': 2718, 'LocationNormalized=Newark': 2719, 'LocationNormalized=Newarthill': 2720, 'LocationNormalized=Newbridge': 2721, 'LocationNormalized=Newbury': 2722, 'LocationNormalized=Newby East': 2723, 'LocationNormalized=Newcastle': 2724, 'LocationNormalized=Newcastle Emlyn': 2725, 'LocationNormalized=Newcastle Upon Tyne': 2726, 'LocationNormalized=Newcastle-under-Lyme': 2727, 'LocationNormalized=Newent': 2728, 'LocationNormalized=Newham': 2729, 'LocationNormalized=Newhaven': 2730, 'LocationNormalized=Newmarket': 2731, 'LocationNormalized=Newnham': 2732, 'LocationNormalized=Newport': 2733, 'LocationNormalized=Newport Pagnell': 2734, 'LocationNormalized=Newport-On-Tay': 2735, 'LocationNormalized=Newquay': 2736, 'LocationNormalized=Newry': 2737, 'LocationNormalized=Newry & Mourne': 2738, 'LocationNormalized=Newstead': 2739, 'LocationNormalized=Newton Abbot': 2740, 'LocationNormalized=Newton Heath': 2741, 'LocationNormalized=Newton In Furness': 2742, 'LocationNormalized=Newton Mearns': 2743, 'LocationNormalized=Newton Solney': 2744, 'LocationNormalized=Newton Stewart': 2745, 'LocationNormalized=Newton-Le-Willows': 2746, 'LocationNormalized=Newtonmore': 2747, 'LocationNormalized=Newtown': 2748, 'LocationNormalized=Newtownabbey': 2749, 'LocationNormalized=Newtownards': 2750, 'LocationNormalized=Neyland': 2751, 'LocationNormalized=Norfolk': 2752, 'LocationNormalized=Norley': 2753, 'LocationNormalized=Normanton': 2754, 'LocationNormalized=North Anston': 2755, 'LocationNormalized=North Ayrshire': 2756, 'LocationNormalized=North Barningham': 2757, 'LocationNormalized=North Berwick': 2758, 'LocationNormalized=North Cave': 2759, 'LocationNormalized=North Down': 2760, 'LocationNormalized=North East England': 2761, 'LocationNormalized=North East Lincolnshire': 2762, 'LocationNormalized=North Ewster': 2763, 'LocationNormalized=North Fambridge': 2764, 'LocationNormalized=North Ferriby': 2765, 'LocationNormalized=North Finchley': 2766, 'LocationNormalized=North Harrow': 2767, 'LocationNormalized=North Holmwood': 2768, 'LocationNormalized=North Howden': 2769, 'LocationNormalized=North Hykeham': 2770, 'LocationNormalized=North Lambeth': 2771, 'LocationNormalized=North Lanarkshire': 2772, 'LocationNormalized=North Lincolnshire': 2773, 'LocationNormalized=North London': 2774, 'LocationNormalized=North Muskham': 2775, 'LocationNormalized=North Mymms': 2776, 'LocationNormalized=North Piddle': 2777, 'LocationNormalized=North Rigton': 2778, 'LocationNormalized=North Ripley': 2779, 'LocationNormalized=North Shields': 2780, 'LocationNormalized=North Somerset': 2781, 'LocationNormalized=North Standen': 2782, 'LocationNormalized=North Tawton': 2783, 'LocationNormalized=North Walsham': 2784, 'LocationNormalized=North Waltham': 2785, 'LocationNormalized=North Warnborough': 2786, 'LocationNormalized=North West England': 2787, 'LocationNormalized=North West London': 2788, 'LocationNormalized=North Widcombe': 2789, 'LocationNormalized=North Wingfield': 2790, 'LocationNormalized=North Woolwich': 2791, 'LocationNormalized=North Yorkshire': 2792, 'LocationNormalized=Northallerton': 2793, 'LocationNormalized=Northam': 2794, 'LocationNormalized=Northampton': 2795, 'LocationNormalized=Northamptonshire': 2796, 'LocationNormalized=Northants': 2797, 'LocationNormalized=Northaw': 2798, 'LocationNormalized=Northchapel': 2799, 'LocationNormalized=Northenden': 2800, 'LocationNormalized=Northern Ireland': 2801, 'LocationNormalized=Northfield': 2802, 'LocationNormalized=Northfleet': 2803, 'LocationNormalized=Northolt': 2804, 'LocationNormalized=Northumberland': 2805, 'LocationNormalized=Northwich': 2806, 'LocationNormalized=Northwood': 2807, 'LocationNormalized=Norwell': 2808, 'LocationNormalized=Norwich': 2809, 'LocationNormalized=Norwood': 2810, 'LocationNormalized=Notting Hill': 2811, 'LocationNormalized=Nottingham': 2812, 'LocationNormalized=Nottinghamshire': 2813, 'LocationNormalized=Nuncargate': 2814, 'LocationNormalized=Nuneaton': 2815, 'LocationNormalized=Nursted': 2816, 'LocationNormalized=Nyewood': 2817, 'LocationNormalized=Oadby': 2818, 'LocationNormalized=Oakdale': 2819, 'LocationNormalized=Oakham': 2820, 'LocationNormalized=Oakington': 2821, 'LocationNormalized=Oaklands': 2822, 'LocationNormalized=Oakley': 2823, 'LocationNormalized=Oban': 2824, 'LocationNormalized=Offham': 2825, 'LocationNormalized=Okehampton': 2826, 'LocationNormalized=Old': 2827, 'LocationNormalized=Old Aberdeen': 2828, 'LocationNormalized=Old Dalby': 2829, 'LocationNormalized=Old Sodbury': 2830, 'LocationNormalized=Old Trafford': 2831, 'LocationNormalized=Old Warden': 2832, 'LocationNormalized=Old Windsor': 2833, 'LocationNormalized=Oldbrook': 2834, 'LocationNormalized=Oldbury': 2835, 'LocationNormalized=Oldends': 2836, 'LocationNormalized=Oldfield': 2837, 'LocationNormalized=Oldham': 2838, 'LocationNormalized=Olney': 2839, 'LocationNormalized=Omagh': 2840, 'LocationNormalized=Ongar': 2841, 'LocationNormalized=Orkney': 2842, 'LocationNormalized=Orkneys': 2843, 'LocationNormalized=Ormskirk': 2844, 'LocationNormalized=Orpington': 2845, 'LocationNormalized=Ossett': 2846, 'LocationNormalized=Oswestry': 2847, 'LocationNormalized=Otley': 2848, 'LocationNormalized=Otterbourne': 2849, 'LocationNormalized=Ottershaw': 2850, 'LocationNormalized=Ottery St. Mary': 2851, 'LocationNormalized=Overdale Park': 2852, 'LocationNormalized=Oxford': 2853, 'LocationNormalized=Oxford Airport': 2854, 'LocationNormalized=Oxford Circus': 2855, 'LocationNormalized=Oxfordshire': 2856, 'LocationNormalized=Oxted': 2857, 'LocationNormalized=Paddington': 2858, 'LocationNormalized=Paddock Wood': 2859, 'LocationNormalized=Padiham': 2860, 'LocationNormalized=Padstow': 2861, 'LocationNormalized=Padworth': 2862, 'LocationNormalized=Pagham': 2863, 'LocationNormalized=Paignton': 2864, 'LocationNormalized=Paisley': 2865, 'LocationNormalized=Par': 2866, 'LocationNormalized=Paris Island Little': 2867, 'LocationNormalized=Park': 2868, 'LocationNormalized=Park Royal': 2869, 'LocationNormalized=Park Street': 2870, 'LocationNormalized=Partington': 2871, 'LocationNormalized=Peacehaven': 2872, 'LocationNormalized=Peasedown St. John': 2873, 'LocationNormalized=Peckham': 2874, 'LocationNormalized=Peebles': 2875, 'LocationNormalized=Pelaw': 2876, 'LocationNormalized=Pell Wall': 2877, 'LocationNormalized=Pembroke': 2878, 'LocationNormalized=Pembroke Dock': 2879, 'LocationNormalized=Pembrokeshire': 2880, 'LocationNormalized=Pembury': 2881, 'LocationNormalized=Penarth': 2882, 'LocationNormalized=Pencader': 2883, 'LocationNormalized=Pencoed': 2884, 'LocationNormalized=Penge': 2885, 'LocationNormalized=Penicuik': 2886, 'LocationNormalized=Penisarwaun': 2887, 'LocationNormalized=Penkridge': 2888, 'LocationNormalized=Penllergaer': 2889, 'LocationNormalized=Penmaenmawr': 2890, 'LocationNormalized=Penn Fields': 2891, 'LocationNormalized=Penrhyndeudraeth': 2892, 'LocationNormalized=Penrith': 2893, 'LocationNormalized=Penryn': 2894, 'LocationNormalized=Pentre': 2895, 'LocationNormalized=Penzance': 2896, 'LocationNormalized=Perivale': 2897, 'LocationNormalized=Perranporth': 2898, 'LocationNormalized=Perranuthnoe': 2899, 'LocationNormalized=Pershore': 2900, 'LocationNormalized=Perth': 2901, 'LocationNormalized=Perth & Kinross': 2902, 'LocationNormalized=Peterborough': 2903, 'LocationNormalized=Peterculter': 2904, 'LocationNormalized=Peterhead': 2905, 'LocationNormalized=Peterlee': 2906, 'LocationNormalized=Petersfield': 2907, 'LocationNormalized=Petts Wood': 2908, 'LocationNormalized=Petworth': 2909, 'LocationNormalized=Pevensey': 2910, 'LocationNormalized=Pewsey': 2911, 'LocationNormalized=Philadelphia': 2912, 'LocationNormalized=Piccadilly': 2913, 'LocationNormalized=Pickering': 2914, 'LocationNormalized=Pinchbeck': 2915, 'LocationNormalized=Pinner': 2916, 'LocationNormalized=Pinxton': 2917, 'LocationNormalized=Pitlochry': 2918, 'LocationNormalized=Pitstone': 2919, 'LocationNormalized=Plymouth': 2920, 'LocationNormalized=Pode Hole': 2921, 'LocationNormalized=Polegate': 2922, 'LocationNormalized=Pont Nedd Fechan': 2923, 'LocationNormalized=Pontefract': 2924, 'LocationNormalized=Ponteland': 2925, 'LocationNormalized=Pontyclun': 2926, 'LocationNormalized=Pontypool': 2927, 'LocationNormalized=Pontypridd': 2928, 'LocationNormalized=Poole': 2929, 'LocationNormalized=Poplar': 2930, 'LocationNormalized=Port Charlotte': 2931, 'LocationNormalized=Port Glasgow': 2932, 'LocationNormalized=Port Seton': 2933, 'LocationNormalized=Port Solent': 2934, 'LocationNormalized=Port Talbot': 2935, 'LocationNormalized=Portadown': 2936, 'LocationNormalized=Portchester': 2937, 'LocationNormalized=Porters Wood': 2938, 'LocationNormalized=Porth': 2939, 'LocationNormalized=Porthcawl': 2940, 'LocationNormalized=Porthmadog': 2941, 'LocationNormalized=Portishead': 2942, 'LocationNormalized=Portland': 2943, 'LocationNormalized=Portlethen': 2944, 'LocationNormalized=Porton Down': 2945, 'LocationNormalized=Portree': 2946, 'LocationNormalized=Portscatho': 2947, 'LocationNormalized=Portsmouth': 2948, 'LocationNormalized=Potters Bar': 2949, 'LocationNormalized=Poulton-Le-Fylde': 2950, 'LocationNormalized=Powys': 2951, 'LocationNormalized=Prenton': 2952, 'LocationNormalized=Prescot': 2953, 'LocationNormalized=Prestatyn': 2954, 'LocationNormalized=Prestbury': 2955, 'LocationNormalized=Presteigne': 2956, 'LocationNormalized=Preston': 2957, 'LocationNormalized=Preston Brook': 2958, 'LocationNormalized=Prestwich': 2959, 'LocationNormalized=Prestwick': 2960, 'LocationNormalized=Pride Park': 2961, 'LocationNormalized=Princes Risborough': 2962, 'LocationNormalized=Prudhoe': 2963, 'LocationNormalized=Pudsey': 2964, 'LocationNormalized=Pulborough': 2965, 'LocationNormalized=Pulford': 2966, 'LocationNormalized=Purbrook': 2967, 'LocationNormalized=Purfleet': 2968, 'LocationNormalized=Purley': 2969, 'LocationNormalized=Purton': 2970, 'LocationNormalized=Putney': 2971, 'LocationNormalized=Putney Heath': 2972, 'LocationNormalized=Pwllheli': 2973, 'LocationNormalized=Quebec': 2974, 'LocationNormalized=Quedgeley': 2975, 'LocationNormalized=Queen Adelaide': 2976, 'LocationNormalized=Queenborough': 2977, 'LocationNormalized=Queensferry': 2978, 'LocationNormalized=Quinton': 2979, 'LocationNormalized=Radcliffe': 2980, 'LocationNormalized=Radcliffe-On-Trent': 2981, 'LocationNormalized=Radlett': 2982, 'LocationNormalized=Radley Green': 2983, 'LocationNormalized=Radstock': 2984, 'LocationNormalized=Rainham': 2985, 'LocationNormalized=Ramsey': 2986, 'LocationNormalized=Ramsgate': 2987, 'LocationNormalized=Ramsgreave': 2988, 'LocationNormalized=Rand': 2989, 'LocationNormalized=Randalstown': 2990, 'LocationNormalized=Rastrick': 2991, 'LocationNormalized=Ratcliffe-On-Soar': 2992, 'LocationNormalized=Raunds': 2993, 'LocationNormalized=Rawreth': 2994, 'LocationNormalized=Rayleigh': 2995, 'LocationNormalized=Raynes Park': 2996, 'LocationNormalized=Reading': 2997, 'LocationNormalized=Redbourn': 2998, 'LocationNormalized=Redbourne': 2999, 'LocationNormalized=Redcar': 3000, 'LocationNormalized=Redditch': 3001, 'LocationNormalized=Redhill': 3002, 'LocationNormalized=Redruth': 3003, 'LocationNormalized=Reigate': 3004, 'LocationNormalized=Renfrew': 3005, 'LocationNormalized=Renfrewshire': 3006, 'LocationNormalized=Reston': 3007, 'LocationNormalized=Retford': 3008, 'LocationNormalized=Rhondda Cynon Taff': 3009, 'LocationNormalized=Rhu': 3010, 'LocationNormalized=Rhuddlan': 3011, 'LocationNormalized=Rhyl': 3012, 'LocationNormalized=Richmond': 3013, 'LocationNormalized=Rickmansworth': 3014, 'LocationNormalized=Ringmer': 3015, 'LocationNormalized=Ringwood': 3016, 'LocationNormalized=Ripe': 3017, 'LocationNormalized=Ripley': 3018, 'LocationNormalized=Ripon': 3019, 'LocationNormalized=Ripponden': 3020, 'LocationNormalized=Rivenhall': 3021, 'LocationNormalized=Riverhead': 3022, 'LocationNormalized=Robertsbridge': 3023, 'LocationNormalized=Rocester': 3024, 'LocationNormalized=Rochdale': 3025, 'LocationNormalized=Rochester': 3026, 'LocationNormalized=Rochford': 3027, 'LocationNormalized=Rockbeare': 3028, 'LocationNormalized=Roehampton': 3029, 'LocationNormalized=Romford': 3030, 'LocationNormalized=Romney Marsh': 3031, 'LocationNormalized=Romsey': 3032, 'LocationNormalized=Roslin': 3033, 'LocationNormalized=Ross-On-Wye': 3034, 'LocationNormalized=Rossendale': 3035, 'LocationNormalized=Rosyth': 3036, 'LocationNormalized=Rotherham': 3037, 'LocationNormalized=Rotherhithe': 3038, 'LocationNormalized=Rothwell': 3039, \"LocationNormalized=Rowland's Castle\": 3040, 'LocationNormalized=Rowlands Gill': 3041, 'LocationNormalized=Rowley Regis': 3042, 'LocationNormalized=Rownhams': 3043, 'LocationNormalized=Rowsley': 3044, 'LocationNormalized=Royston': 3045, 'LocationNormalized=Ruddington': 3046, 'LocationNormalized=Rugby': 3047, 'LocationNormalized=Rugeley': 3048, 'LocationNormalized=Ruislip': 3049, 'LocationNormalized=Runcorn': 3050, 'LocationNormalized=Ruscombe': 3051, 'LocationNormalized=Rush Green': 3052, 'LocationNormalized=Rushden': 3053, 'LocationNormalized=Rusholme': 3054, 'LocationNormalized=Rushton': 3055, 'LocationNormalized=Rustington': 3056, 'LocationNormalized=Ruthin': 3057, 'LocationNormalized=Rutland': 3058, 'LocationNormalized=Ryde': 3059, 'LocationNormalized=Rye': 3060, 'LocationNormalized=Ryton': 3061, 'LocationNormalized=Ryton On Dunsmore': 3062, 'LocationNormalized=Sacriston': 3063, 'LocationNormalized=Saffron Walden': 3064, 'LocationNormalized=Salcombe': 3065, 'LocationNormalized=Sale': 3066, 'LocationNormalized=Salford': 3067, 'LocationNormalized=Salisbury': 3068, 'LocationNormalized=Saltaire': 3069, 'LocationNormalized=Saltash': 3070, 'LocationNormalized=Saltburn-By-The-Sea': 3071, 'LocationNormalized=Saltcoats': 3072, 'LocationNormalized=Sand': 3073, 'LocationNormalized=Sandbach': 3074, 'LocationNormalized=Sandhurst': 3075, 'LocationNormalized=Sandown': 3076, 'LocationNormalized=Sandwell': 3077, 'LocationNormalized=Sandwich': 3078, 'LocationNormalized=Sandy': 3079, 'LocationNormalized=Sandycroft': 3080, 'LocationNormalized=Sapperton': 3081, 'LocationNormalized=Sarratt': 3082, 'LocationNormalized=Saundersfoot': 3083, 'LocationNormalized=Sawbridgeworth': 3084, 'LocationNormalized=Sawston': 3085, 'LocationNormalized=Sawtry': 3086, 'LocationNormalized=Saxmundham': 3087, 'LocationNormalized=Scalloway': 3088, 'LocationNormalized=Scarborough': 3089, 'LocationNormalized=Scawsby': 3090, 'LocationNormalized=Scone': 3091, 'LocationNormalized=Scotland': 3092, 'LocationNormalized=Scotland Gate': 3093, 'LocationNormalized=Scotter Common': 3094, 'LocationNormalized=Scunthorpe': 3095, 'LocationNormalized=Sea': 3096, 'LocationNormalized=Seacroft': 3097, 'LocationNormalized=Seaford': 3098, 'LocationNormalized=Seaforde': 3099, 'LocationNormalized=Seaforth': 3100, 'LocationNormalized=Seaham': 3101, 'LocationNormalized=Seascale': 3102, 'LocationNormalized=Seaton': 3103, 'LocationNormalized=Seaton Burn': 3104, 'LocationNormalized=Sedbergh': 3105, 'LocationNormalized=Sedgefield': 3106, 'LocationNormalized=Seer Green': 3107, 'LocationNormalized=Sefton': 3108, 'LocationNormalized=Selby': 3109, 'LocationNormalized=Selby Common': 3110, 'LocationNormalized=Selkirk': 3111, 'LocationNormalized=Sellafield': 3112, 'LocationNormalized=Selly Oak': 3113, 'LocationNormalized=Selly Park': 3114, 'LocationNormalized=Settle': 3115, 'LocationNormalized=Sevenoaks': 3116, 'LocationNormalized=Severn Beach': 3117, 'LocationNormalized=Sewardstone': 3118, 'LocationNormalized=Shaftesbury': 3119, 'LocationNormalized=Shalford': 3120, 'LocationNormalized=Shamley Green': 3121, 'LocationNormalized=Shanklin': 3122, 'LocationNormalized=Sheerness': 3123, 'LocationNormalized=Sheffield': 3124, 'LocationNormalized=Shefford': 3125, 'LocationNormalized=Sheldon': 3126, 'LocationNormalized=Shenfield': 3127, 'LocationNormalized=Shenley': 3128, 'LocationNormalized=Shenstone': 3129, \"LocationNormalized=Shepherd's Bush\": 3130, 'LocationNormalized=Shepperton': 3131, 'LocationNormalized=Shepshed': 3132, 'LocationNormalized=Shepton Mallet': 3133, 'LocationNormalized=Sherborne': 3134, 'LocationNormalized=Sherbourne': 3135, 'LocationNormalized=Sherburn': 3136, 'LocationNormalized=Sherburn In Elmet': 3137, 'LocationNormalized=Shere': 3138, 'LocationNormalized=Sheringham': 3139, 'LocationNormalized=Shetland': 3140, 'LocationNormalized=Shetlands': 3141, 'LocationNormalized=Shifnal': 3142, 'LocationNormalized=Shildon': 3143, 'LocationNormalized=Shillingford Hill': 3144, 'LocationNormalized=Shipley': 3145, 'LocationNormalized=Shipston-On-Stour': 3146, 'LocationNormalized=Shipton-Under-Wychwood': 3147, 'LocationNormalized=Shiremoor': 3148, 'LocationNormalized=Shirley': 3149, 'LocationNormalized=Shoreditch': 3150, 'LocationNormalized=Shoreham': 3151, 'LocationNormalized=Shoreham-By-Sea': 3152, 'LocationNormalized=Shortlands': 3153, 'LocationNormalized=Shotts': 3154, 'LocationNormalized=Shrewsbury': 3155, 'LocationNormalized=Shropshire': 3156, 'LocationNormalized=Sidcup': 3157, 'LocationNormalized=Sidmouth': 3158, 'LocationNormalized=Silchester': 3159, 'LocationNormalized=Silfield': 3160, 'LocationNormalized=Silksworth': 3161, 'LocationNormalized=Silsden': 3162, 'LocationNormalized=Silverdale': 3163, 'LocationNormalized=Sittingbourne': 3164, 'LocationNormalized=Skegness': 3165, 'LocationNormalized=Skelmersdale': 3166, 'LocationNormalized=Skelton': 3167, 'LocationNormalized=Skelton-In-Cleveland': 3168, 'LocationNormalized=Skipton': 3169, 'LocationNormalized=Sleaford': 3170, 'LocationNormalized=Slough': 3171, 'LocationNormalized=Smethwick': 3172, 'LocationNormalized=Snodland': 3173, 'LocationNormalized=Soham': 3174, 'LocationNormalized=Soho': 3175, 'LocationNormalized=Solihull': 3176, 'LocationNormalized=Somers Town': 3177, 'LocationNormalized=Somerset': 3178, 'LocationNormalized=Somerton': 3179, 'LocationNormalized=Sompting': 3180, 'LocationNormalized=South Acton': 3181, 'LocationNormalized=South Ayrshire': 3182, 'LocationNormalized=South Bank': 3183, 'LocationNormalized=South Bermonsey': 3184, 'LocationNormalized=South Brent': 3185, 'LocationNormalized=South Cornelly': 3186, 'LocationNormalized=South Croxton': 3187, 'LocationNormalized=South Croydon': 3188, 'LocationNormalized=South Dalton': 3189, 'LocationNormalized=South East England': 3190, 'LocationNormalized=South East London': 3191, 'LocationNormalized=South Elmsall': 3192, 'LocationNormalized=South Ferriby': 3193, 'LocationNormalized=South Godstone': 3194, 'LocationNormalized=South Hampstead': 3195, 'LocationNormalized=South Hanningfield': 3196, 'LocationNormalized=South Kensington': 3197, 'LocationNormalized=South Killingholme': 3198, 'LocationNormalized=South Lanarkshire': 3199, 'LocationNormalized=South Littleton': 3200, 'LocationNormalized=South Milford': 3201, 'LocationNormalized=South Mimms': 3202, 'LocationNormalized=South Molton': 3203, 'LocationNormalized=South Muskham': 3204, 'LocationNormalized=South Normanton': 3205, 'LocationNormalized=South Ockendon': 3206, 'LocationNormalized=South Petherton': 3207, 'LocationNormalized=South Queensferry': 3208, 'LocationNormalized=South Shields': 3209, 'LocationNormalized=South Thoresby': 3210, 'LocationNormalized=South Tottenham': 3211, 'LocationNormalized=South West England': 3212, 'LocationNormalized=South West London': 3213, 'LocationNormalized=South Woodham Ferrers': 3214, 'LocationNormalized=South Yorkshire': 3215, 'LocationNormalized=Southall': 3216, 'LocationNormalized=Southam': 3217, 'LocationNormalized=Southampton': 3218, 'LocationNormalized=Southampton International Airport': 3219, 'LocationNormalized=Southborough': 3220, 'LocationNormalized=Southend': 3221, 'LocationNormalized=Southend-On-Sea': 3222, 'LocationNormalized=Southfields': 3223, 'LocationNormalized=Southfleet': 3224, 'LocationNormalized=Southgate': 3225, 'LocationNormalized=Southminster': 3226, 'LocationNormalized=Southport': 3227, 'LocationNormalized=Southsea': 3228, 'LocationNormalized=Southville': 3229, 'LocationNormalized=Southwark': 3230, 'LocationNormalized=Southwater': 3231, 'LocationNormalized=Southwell': 3232, 'LocationNormalized=Southwick': 3233, 'LocationNormalized=Southwold': 3234, 'LocationNormalized=Sowerby': 3235, 'LocationNormalized=Spalding': 3236, 'LocationNormalized=Sparkhill': 3237, 'LocationNormalized=Speke': 3238, 'LocationNormalized=Spennymoor': 3239, 'LocationNormalized=Spilsby': 3240, 'LocationNormalized=Springside': 3241, \"LocationNormalized=St James's\": 3242, \"LocationNormalized=St John's Wood\": 3243, 'LocationNormalized=St Lukes': 3244, 'LocationNormalized=St. Agnes': 3245, 'LocationNormalized=St. Albans': 3246, 'LocationNormalized=St. Andrews': 3247, 'LocationNormalized=St. Asaph': 3248, 'LocationNormalized=St. Austell': 3249, 'LocationNormalized=St. Boswells': 3250, 'LocationNormalized=St. Clears': 3251, 'LocationNormalized=St. Columb': 3252, 'LocationNormalized=St. Fagans': 3253, 'LocationNormalized=St. Germans': 3254, 'LocationNormalized=St. Helens': 3255, 'LocationNormalized=St. Ives': 3256, 'LocationNormalized=St. Leonards': 3257, 'LocationNormalized=St. Leonards-On-Sea': 3258, 'LocationNormalized=St. Mary Cray': 3259, 'LocationNormalized=St. Mellons': 3260, 'LocationNormalized=St. Neots': 3261, 'LocationNormalized=St. Pauls': 3262, 'LocationNormalized=St. Werburghs': 3263, 'LocationNormalized=Stafford': 3264, 'LocationNormalized=Staffordshire': 3265, 'LocationNormalized=Staines': 3266, 'LocationNormalized=Stalbridge': 3267, 'LocationNormalized=Stalybridge': 3268, 'LocationNormalized=Stamford': 3269, 'LocationNormalized=Stancil': 3270, 'LocationNormalized=Stanford On Soar': 3271, 'LocationNormalized=Stanford-Le-Hope': 3272, 'LocationNormalized=Stanley': 3273, 'LocationNormalized=Stanmore': 3274, 'LocationNormalized=Stansted': 3275, 'LocationNormalized=Stanton-On-The-Wolds': 3276, 'LocationNormalized=Stanwell': 3277, 'LocationNormalized=Staple Hill': 3278, 'LocationNormalized=Stapleford': 3279, 'LocationNormalized=Staplehurst': 3280, 'LocationNormalized=Steeple Morden': 3281, 'LocationNormalized=Steeton': 3282, 'LocationNormalized=Stepney': 3283, 'LocationNormalized=Stevenage': 3284, 'LocationNormalized=Stevenston': 3285, 'LocationNormalized=Stevenstone': 3286, 'LocationNormalized=Steyning': 3287, 'LocationNormalized=Stillington': 3288, 'LocationNormalized=Stirchley': 3289, 'LocationNormalized=Stirling': 3290, 'LocationNormalized=Stock': 3291, 'LocationNormalized=Stockbridge': 3292, 'LocationNormalized=Stockhill': 3293, 'LocationNormalized=Stockland Bristol': 3294, 'LocationNormalized=Stockport': 3295, 'LocationNormalized=Stocksfield': 3296, 'LocationNormalized=Stockton': 3297, 'LocationNormalized=Stockton-On-Tees': 3298, 'LocationNormalized=Stockwell': 3299, 'LocationNormalized=Stoke': 3300, 'LocationNormalized=Stoke Mandeville': 3301, 'LocationNormalized=Stoke Newington': 3302, 'LocationNormalized=Stoke Poges': 3303, 'LocationNormalized=Stoke-On-Trent': 3304, 'LocationNormalized=Stokenchurch': 3305, 'LocationNormalized=Stokesley': 3306, 'LocationNormalized=Stone': 3307, 'LocationNormalized=Stonehaven': 3308, 'LocationNormalized=Stonehouse': 3309, 'LocationNormalized=Stonely': 3310, 'LocationNormalized=Stonesfield': 3311, 'LocationNormalized=Stornoway': 3312, 'LocationNormalized=Storrington': 3313, 'LocationNormalized=Stotfold': 3314, 'LocationNormalized=Stourbridge': 3315, 'LocationNormalized=Stourport-On-Severn': 3316, 'LocationNormalized=Stow Longa': 3317, 'LocationNormalized=Stow-Cum-Quy': 3318, 'LocationNormalized=Stowmarket': 3319, 'LocationNormalized=Strabane': 3320, 'LocationNormalized=Stradbroke': 3321, 'LocationNormalized=Stranraer': 3322, 'LocationNormalized=Stratford': 3323, 'LocationNormalized=Stratford Enterprise Park': 3324, 'LocationNormalized=Stratford-Upon-Avon': 3325, 'LocationNormalized=Streatham': 3326, 'LocationNormalized=Streatham Park': 3327, 'LocationNormalized=Street': 3328, 'LocationNormalized=Stretford': 3329, 'LocationNormalized=Stretham': 3330, 'LocationNormalized=Strood': 3331, 'LocationNormalized=Stroud': 3332, 'LocationNormalized=Stroud Green': 3333, 'LocationNormalized=Studley': 3334, 'LocationNormalized=Sturminster Marshall': 3335, 'LocationNormalized=Sturminster Newton': 3336, 'LocationNormalized=Styal': 3337, 'LocationNormalized=Sudbury': 3338, 'LocationNormalized=Suffolk': 3339, 'LocationNormalized=Sunbury-On-Thames': 3340, 'LocationNormalized=Sunderland': 3341, 'LocationNormalized=Sundridge': 3342, 'LocationNormalized=Sunningdale': 3343, 'LocationNormalized=Surbiton': 3344, 'LocationNormalized=Surrey': 3345, 'LocationNormalized=Surrey Quays': 3346, 'LocationNormalized=Surrey Research Park': 3347, 'LocationNormalized=Sutton': 3348, 'LocationNormalized=Sutton Coldfield': 3349, 'LocationNormalized=Sutton Green': 3350, 'LocationNormalized=Sutton Park': 3351, 'LocationNormalized=Sutton Scotney': 3352, 'LocationNormalized=Sutton Weaver': 3353, 'LocationNormalized=Sutton-In-Ashfield': 3354, 'LocationNormalized=Swadlincote': 3355, 'LocationNormalized=Swaffham': 3356, 'LocationNormalized=Swaffham Prior': 3357, 'LocationNormalized=Swanage': 3358, 'LocationNormalized=Swanley': 3359, 'LocationNormalized=Swanscombe': 3360, 'LocationNormalized=Swansea': 3361, 'LocationNormalized=Swavesey': 3362, 'LocationNormalized=Sway': 3363, 'LocationNormalized=Swindon': 3364, 'LocationNormalized=Swindon Village': 3365, 'LocationNormalized=Swinley': 3366, 'LocationNormalized=Swinton': 3367, 'LocationNormalized=Swiss Cottage': 3368, 'LocationNormalized=Sydenham': 3369, 'LocationNormalized=Tackley': 3370, 'LocationNormalized=Tadcaster': 3371, 'LocationNormalized=Tadley': 3372, 'LocationNormalized=Tadworth': 3373, 'LocationNormalized=Taffs Well': 3374, 'LocationNormalized=Tain': 3375, 'LocationNormalized=Talsarnau': 3376, 'LocationNormalized=Tamworth': 3377, 'LocationNormalized=Tarbert': 3378, 'LocationNormalized=Tarleton': 3379, 'LocationNormalized=Tarporley': 3380, 'LocationNormalized=Tarring': 3381, 'LocationNormalized=Tatton': 3382, 'LocationNormalized=Taunton': 3383, 'LocationNormalized=Tavistock': 3384, 'LocationNormalized=Tayport': 3385, 'LocationNormalized=Teddington': 3386, 'LocationNormalized=Teignmouth': 3387, 'LocationNormalized=Telford': 3388, 'LocationNormalized=Temple': 3389, 'LocationNormalized=Templecombe': 3390, 'LocationNormalized=Tenbury Wells': 3391, 'LocationNormalized=Tenby': 3392, 'LocationNormalized=Tenterden': 3393, 'LocationNormalized=Tetbury': 3394, 'LocationNormalized=Tewkesbury': 3395, 'LocationNormalized=Thame': 3396, 'LocationNormalized=Thames Ditton': 3397, 'LocationNormalized=Thames View Industrial Park': 3398, 'LocationNormalized=Thamesmead': 3399, 'LocationNormalized=Thatcham': 3400, 'LocationNormalized=The City': 3401, 'LocationNormalized=The Cross': 3402, 'LocationNormalized=The Doward': 3403, 'LocationNormalized=The Headland': 3404, 'LocationNormalized=The Home': 3405, 'LocationNormalized=The Mounts': 3406, 'LocationNormalized=The Ridgeway': 3407, 'LocationNormalized=The Trafford Centre': 3408, 'LocationNormalized=The Upper Wyke': 3409, 'LocationNormalized=The Vale of Glamorgan': 3410, 'LocationNormalized=Theakston': 3411, 'LocationNormalized=Theale': 3412, 'LocationNormalized=Thetford': 3413, 'LocationNormalized=Thirsk': 3414, 'LocationNormalized=Thornaby': 3415, 'LocationNormalized=Thornbury': 3416, 'LocationNormalized=Thornhill': 3417, 'LocationNormalized=Thornton Heath': 3418, 'LocationNormalized=Thornton-Cleveleys': 3419, 'LocationNormalized=Thorpe Larches': 3420, 'LocationNormalized=Thorpe St. Andrew': 3421, 'LocationNormalized=Thrapston': 3422, 'LocationNormalized=Throsk': 3423, 'LocationNormalized=Thurleigh': 3424, 'LocationNormalized=Thurmaston': 3425, 'LocationNormalized=Thurso': 3426, 'LocationNormalized=Ticehurst': 3427, 'LocationNormalized=Tickhill': 3428, 'LocationNormalized=Tideswell': 3429, 'LocationNormalized=Tidworth': 3430, 'LocationNormalized=Tilbury': 3431, 'LocationNormalized=Tilbury Juxta Clare': 3432, 'LocationNormalized=Tingley': 3433, 'LocationNormalized=Tipton': 3434, 'LocationNormalized=Tiptree': 3435, 'LocationNormalized=Tisbury': 3436, 'LocationNormalized=Titchfield': 3437, 'LocationNormalized=Titchwell': 3438, 'LocationNormalized=Tiverton': 3439, 'LocationNormalized=Tividale': 3440, 'LocationNormalized=Tockwith': 3441, 'LocationNormalized=Todmorden': 3442, 'LocationNormalized=Tonbridge': 3443, 'LocationNormalized=Tongham': 3444, 'LocationNormalized=Tonypandy': 3445, 'LocationNormalized=Toomebridge': 3446, 'LocationNormalized=Tooting': 3447, 'LocationNormalized=Torfaen': 3448, 'LocationNormalized=Torpoint': 3449, 'LocationNormalized=Torquay': 3450, 'LocationNormalized=Torrington': 3451, 'LocationNormalized=Torry': 3452, 'LocationNormalized=Totnes': 3453, 'LocationNormalized=Tottenham': 3454, 'LocationNormalized=Tottenham Hale': 3455, 'LocationNormalized=Towcester': 3456, 'LocationNormalized=Tower Hill': 3457, 'LocationNormalized=Trafford Park': 3458, 'LocationNormalized=Tranent': 3459, 'LocationNormalized=Tredegar': 3460, 'LocationNormalized=Treharris': 3461, 'LocationNormalized=Tremough': 3462, 'LocationNormalized=Trent': 3463, 'LocationNormalized=Treorchy': 3464, 'LocationNormalized=Trimdon': 3465, 'LocationNormalized=Trimley St. Mary': 3466, 'LocationNormalized=Tring': 3467, 'LocationNormalized=Troon': 3468, 'LocationNormalized=Trowbridge': 3469, 'LocationNormalized=Truro': 3470, 'LocationNormalized=Tullyhogue': 3471, 'LocationNormalized=Tunbridge Wells': 3472, 'LocationNormalized=Turnpike Lane': 3473, 'LocationNormalized=Turriff': 3474, 'LocationNormalized=Tuttington': 3475, 'LocationNormalized=Twerton': 3476, 'LocationNormalized=Twickenham': 3477, 'LocationNormalized=Two Mile Ash': 3478, 'LocationNormalized=Twyford': 3479, 'LocationNormalized=Tyn-Y-Gongl': 3480, 'LocationNormalized=Tyne & Wear': 3481, 'LocationNormalized=Tyseley': 3482, 'LocationNormalized=Tywyn': 3483, 'LocationNormalized=UK': 3484, 'LocationNormalized=Uckfield': 3485, 'LocationNormalized=Uig': 3486, 'LocationNormalized=Ulceby': 3487, 'LocationNormalized=Ullenhall': 3488, 'LocationNormalized=Ulverston': 3489, 'LocationNormalized=Upleadon': 3490, 'LocationNormalized=Upminster': 3491, 'LocationNormalized=Upper Basildon': 3492, 'LocationNormalized=Upper Heyford': 3493, 'LocationNormalized=Upper Sydenham': 3494, 'LocationNormalized=Upper Walthamstow': 3495, 'LocationNormalized=Uppingham': 3496, 'LocationNormalized=Urmston': 3497, 'LocationNormalized=Usk': 3498, 'LocationNormalized=Uttoxeter': 3499, 'LocationNormalized=Uxbridge': 3500, 'LocationNormalized=Vauxhall': 3501, 'LocationNormalized=Verwood': 3502, 'LocationNormalized=Victoria': 3503, 'LocationNormalized=Victoria Docks': 3504, 'LocationNormalized=Virginia Water': 3505, 'LocationNormalized=Wadebridge': 3506, 'LocationNormalized=Wadhurst': 3507, 'LocationNormalized=Wakefield': 3508, 'LocationNormalized=Walcott': 3509, 'LocationNormalized=Wales': 3510, 'LocationNormalized=Walkerburn': 3511, 'LocationNormalized=Walkley': 3512, 'LocationNormalized=Wall Hill': 3513, 'LocationNormalized=Wallasey': 3514, 'LocationNormalized=Wallingford': 3515, 'LocationNormalized=Wallington': 3516, 'LocationNormalized=Wallsend': 3517, 'LocationNormalized=Wallyford': 3518, 'LocationNormalized=Walnut Tree': 3519, 'LocationNormalized=Walsall': 3520, 'LocationNormalized=Walsgrave On Sowe': 3521, 'LocationNormalized=Waltham': 3522, 'LocationNormalized=Waltham Abbey': 3523, 'LocationNormalized=Waltham Cross': 3524, 'LocationNormalized=Waltham Forest': 3525, 'LocationNormalized=Waltham On The Wolds': 3526, 'LocationNormalized=Walthamstow': 3527, 'LocationNormalized=Walton': 3528, 'LocationNormalized=Walton On The Naze': 3529, 'LocationNormalized=Walton West': 3530, 'LocationNormalized=Walton-Le-Dale': 3531, 'LocationNormalized=Walton-On-Thames': 3532, 'LocationNormalized=Wandsworth': 3533, 'LocationNormalized=Wantage': 3534, 'LocationNormalized=Ware': 3535, 'LocationNormalized=Wareham': 3536, 'LocationNormalized=Warfield Park': 3537, 'LocationNormalized=Wargrave': 3538, 'LocationNormalized=Warlingham': 3539, 'LocationNormalized=Warmingham': 3540, 'LocationNormalized=Warminster': 3541, 'LocationNormalized=Warrington': 3542, 'LocationNormalized=Warton': 3543, 'LocationNormalized=Warwick': 3544, 'LocationNormalized=Warwickshire': 3545, 'LocationNormalized=Washington': 3546, 'LocationNormalized=Watchet': 3547, 'LocationNormalized=Water Orton': 3548, 'LocationNormalized=Waterbeach': 3549, 'LocationNormalized=Waterglade Industrial Park': 3550, 'LocationNormalized=Waterloo': 3551, 'LocationNormalized=Waterlooville': 3552, 'LocationNormalized=Watford': 3553, 'LocationNormalized=Watlington': 3554, 'LocationNormalized=Wattisham': 3555, 'LocationNormalized=Watton': 3556, 'LocationNormalized=Wavendon': 3557, 'LocationNormalized=Wednesbury': 3558, 'LocationNormalized=Welburn': 3559, 'LocationNormalized=Welford On Avon': 3560, 'LocationNormalized=Well': 3561, 'LocationNormalized=Well End': 3562, 'LocationNormalized=Wellesbourne': 3563, 'LocationNormalized=Welling': 3564, 'LocationNormalized=Wellingborough': 3565, 'LocationNormalized=Wellington': 3566, 'LocationNormalized=Wellington College': 3567, 'LocationNormalized=Wells': 3568, 'LocationNormalized=Welshpool': 3569, 'LocationNormalized=Welwyn': 3570, 'LocationNormalized=Welwyn Garden City': 3571, 'LocationNormalized=Wembley': 3572, 'LocationNormalized=Wendover': 3573, 'LocationNormalized=Weoley Castle': 3574, 'LocationNormalized=Werrington': 3575, 'LocationNormalized=West Aberthaw': 3576, 'LocationNormalized=West Allington': 3577, 'LocationNormalized=West Berkshire': 3578, 'LocationNormalized=West Bradford': 3579, 'LocationNormalized=West Bridgford': 3580, 'LocationNormalized=West Bromwich': 3581, 'LocationNormalized=West Byfleet': 3582, 'LocationNormalized=West Drayton': 3583, 'LocationNormalized=West Dulwich': 3584, 'LocationNormalized=West Dunbartonshire': 3585, 'LocationNormalized=West End': 3586, 'LocationNormalized=West Fenton': 3587, 'LocationNormalized=West Gerinish': 3588, 'LocationNormalized=West Haddon': 3589, 'LocationNormalized=West Hagbourne': 3590, 'LocationNormalized=West Halton': 3591, 'LocationNormalized=West Ham': 3592, 'LocationNormalized=West Hampstead': 3593, 'LocationNormalized=West Handley': 3594, 'LocationNormalized=West Heath': 3595, 'LocationNormalized=West Kensington': 3596, 'LocationNormalized=West Kilbride': 3597, 'LocationNormalized=West Kingsdown': 3598, 'LocationNormalized=West Leake': 3599, 'LocationNormalized=West Lockinge': 3600, 'LocationNormalized=West London': 3601, 'LocationNormalized=West Lothian': 3602, 'LocationNormalized=West Malling': 3603, 'LocationNormalized=West Markham': 3604, 'LocationNormalized=West Marton': 3605, 'LocationNormalized=West Midlands': 3606, 'LocationNormalized=West Molesey': 3607, 'LocationNormalized=West Norwood': 3608, 'LocationNormalized=West Ravendale': 3609, 'LocationNormalized=West Runton': 3610, 'LocationNormalized=West Stockwith': 3611, 'LocationNormalized=West Sussex': 3612, 'LocationNormalized=West Thurrock': 3613, 'LocationNormalized=West Timperley': 3614, 'LocationNormalized=West Town': 3615, 'LocationNormalized=West Wycombe': 3616, 'LocationNormalized=West Yorkshire': 3617, 'LocationNormalized=Westbourne': 3618, 'LocationNormalized=Westbrook': 3619, 'LocationNormalized=Westbury': 3620, 'LocationNormalized=Westbury-On-Severn': 3621, 'LocationNormalized=Westbury-On-Trym': 3622, 'LocationNormalized=Westcliff-On-Sea': 3623, 'LocationNormalized=Westerham': 3624, 'LocationNormalized=Western Isles': 3625, 'LocationNormalized=Westfield': 3626, 'LocationNormalized=Westgate-On-Sea': 3627, 'LocationNormalized=Westham': 3628, 'LocationNormalized=Westhill': 3629, 'LocationNormalized=Westhoughton': 3630, 'LocationNormalized=Westhumble': 3631, 'LocationNormalized=Westlake': 3632, 'LocationNormalized=Westlakes Science & Technology Park': 3633, 'LocationNormalized=Westminster': 3634, 'LocationNormalized=Weston': 3635, 'LocationNormalized=Weston Coyney': 3636, 'LocationNormalized=Weston-Super-Mare': 3637, 'LocationNormalized=Wetherby': 3638, 'LocationNormalized=Weybridge': 3639, 'LocationNormalized=Weymouth': 3640, 'LocationNormalized=Whalley': 3641, 'LocationNormalized=Wheatley': 3642, 'LocationNormalized=Whetstone': 3643, 'LocationNormalized=Whistlow': 3644, 'LocationNormalized=Whitby': 3645, 'LocationNormalized=Whitchurch': 3646, 'LocationNormalized=White City': 3647, 'LocationNormalized=Whitechapel': 3648, 'LocationNormalized=Whitefield': 3649, 'LocationNormalized=Whitehaven': 3650, 'LocationNormalized=Whiteley': 3651, 'LocationNormalized=Whiteparish': 3652, 'LocationNormalized=Whiteway': 3653, 'LocationNormalized=Whitley Bay': 3654, 'LocationNormalized=Whitminster': 3655, 'LocationNormalized=Whitstable': 3656, 'LocationNormalized=Whittington Moor': 3657, 'LocationNormalized=Whittlebury': 3658, 'LocationNormalized=Whittlesey': 3659, 'LocationNormalized=Whyteleafe': 3660, 'LocationNormalized=Wick': 3661, 'LocationNormalized=Wickford': 3662, 'LocationNormalized=Wickham': 3663, 'LocationNormalized=Widnes': 3664, 'LocationNormalized=Wigan': 3665, 'LocationNormalized=Wigston': 3666, 'LocationNormalized=Wigton': 3667, 'LocationNormalized=Willand': 3668, 'LocationNormalized=Willen': 3669, 'LocationNormalized=Willenhall': 3670, 'LocationNormalized=Willesborough': 3671, 'LocationNormalized=Willesden': 3672, 'LocationNormalized=Willian': 3673, 'LocationNormalized=Willingham': 3674, 'LocationNormalized=Willoughby': 3675, 'LocationNormalized=Wilmington': 3676, 'LocationNormalized=Wilmslow': 3677, 'LocationNormalized=Wiltshire': 3678, 'LocationNormalized=Wimbledon': 3679, 'LocationNormalized=Wimborne': 3680, 'LocationNormalized=Wincanton': 3681, 'LocationNormalized=Winchester': 3682, 'LocationNormalized=Windermere': 3683, 'LocationNormalized=Windlesham': 3684, 'LocationNormalized=Windsor': 3685, 'LocationNormalized=Windsor & Maidenhead': 3686, 'LocationNormalized=Windsor Castle': 3687, 'LocationNormalized=Wingland': 3688, 'LocationNormalized=Wingrave': 3689, 'LocationNormalized=Winkfield': 3690, 'LocationNormalized=Winkfield Row': 3691, 'LocationNormalized=Winnersh': 3692, 'LocationNormalized=Winscombe': 3693, 'LocationNormalized=Winsford': 3694, 'LocationNormalized=Winterborne Stickland': 3695, 'LocationNormalized=Winthorpe': 3696, 'LocationNormalized=Wirral': 3697, 'LocationNormalized=Wisbech': 3698, 'LocationNormalized=Wishaw': 3699, 'LocationNormalized=Wisley': 3700, 'LocationNormalized=Witham': 3701, 'LocationNormalized=Withcall': 3702, 'LocationNormalized=Withernsea': 3703, 'LocationNormalized=Witley': 3704, 'LocationNormalized=Witney': 3705, 'LocationNormalized=Wiveliscombe': 3706, 'LocationNormalized=Woking': 3707, 'LocationNormalized=Wokingham': 3708, 'LocationNormalized=Wolverhampton': 3709, 'LocationNormalized=Wombwell': 3710, 'LocationNormalized=Wooburn Industrial Park': 3711, 'LocationNormalized=Woodbridge': 3712, 'LocationNormalized=Woodford': 3713, 'LocationNormalized=Woodford Green': 3714, 'LocationNormalized=Woodhall Spa': 3715, 'LocationNormalized=Woodley': 3716, 'LocationNormalized=Woods Green': 3717, 'LocationNormalized=Woodside': 3718, 'LocationNormalized=Woodstock': 3719, 'LocationNormalized=Woodthorpe': 3720, 'LocationNormalized=Wool': 3721, 'LocationNormalized=Woolhampton': 3722, 'LocationNormalized=Woolmer Green': 3723, 'LocationNormalized=Woolpit': 3724, 'LocationNormalized=Woolwich': 3725, 'LocationNormalized=Worcester': 3726, 'LocationNormalized=Worcester Park': 3727, 'LocationNormalized=Worcestershire': 3728, 'LocationNormalized=Workington': 3729, 'LocationNormalized=Worksop': 3730, \"LocationNormalized=World's End\": 3731, 'LocationNormalized=Worle': 3732, 'LocationNormalized=Worminghall': 3733, 'LocationNormalized=Wormley': 3734, 'LocationNormalized=Worsley': 3735, 'LocationNormalized=Worthing': 3736, 'LocationNormalized=Wotton-Under-Edge': 3737, 'LocationNormalized=Wrekin': 3738, 'LocationNormalized=Wrexham': 3739, 'LocationNormalized=Wrexham Technology Park': 3740, 'LocationNormalized=Wroughton': 3741, 'LocationNormalized=Wroxham': 3742, 'LocationNormalized=Wyboston': 3743, 'LocationNormalized=Wych Cross': 3744, 'LocationNormalized=Wycombe': 3745, 'LocationNormalized=Wyke': 3746, 'LocationNormalized=Wykin': 3747, 'LocationNormalized=Wymington': 3748, 'LocationNormalized=Wymondham': 3749, 'LocationNormalized=Wynyard': 3750, 'LocationNormalized=Wythall': 3751, 'LocationNormalized=Wythenshawe': 3752, 'LocationNormalized=Yapton': 3753, 'LocationNormalized=Yarm': 3754, 'LocationNormalized=Yarmouth': 3755, 'LocationNormalized=Yarnton': 3756, 'LocationNormalized=Yateley': 3757, 'LocationNormalized=Yeadon': 3758, 'LocationNormalized=Yearby': 3759, 'LocationNormalized=Yelverton': 3760, 'LocationNormalized=Yeovil': 3761, 'LocationNormalized=Yeovil Marsh': 3762, 'LocationNormalized=Yeovilton': 3763, 'LocationNormalized=Yetminster': 3764, 'LocationNormalized=York': 3765, 'LocationNormalized=Yorkshire and Humberside': 3766, 'LocationNormalized=Ystrad Mynach': 3767}\n"
     ]
    }
   ],
   "source": [
    "print(categorical_vectorizer.vocabulary_)"
   ]
  },
  {
   "cell_type": "markdown",
   "metadata": {},
   "source": [
    "### The deep learning part\n",
    "\n",
    "Once we've learned to tokenize the data, let's design a machine learning experiment.\n",
    "\n",
    "As before, we won't focus too much on validation, opting for a simple train-test split.\n",
    "\n",
    "__To be completely rigorous,__ we've comitted a small crime here: we used the whole data for tokenization and vocabulary building. A more strict way would be to do that part on training set only. You may want to do that and measure the magnitude of changes."
   ]
  },
  {
   "cell_type": "code",
   "execution_count": 23,
   "metadata": {},
   "outputs": [
    {
     "name": "stdout",
     "output_type": "stream",
     "text": [
      "Train size =  195814\n",
      "Validation size =  48954\n"
     ]
    }
   ],
   "source": [
    "from sklearn.model_selection import train_test_split\n",
    "\n",
    "data_train, data_val = train_test_split(data, test_size=0.2, random_state=42)\n",
    "data_train.index = range(len(data_train))\n",
    "data_val.index = range(len(data_val))\n",
    "\n",
    "print(\"Train size = \", len(data_train))\n",
    "print(\"Validation size = \", len(data_val))"
   ]
  },
  {
   "cell_type": "code",
   "execution_count": 24,
   "metadata": {},
   "outputs": [],
   "source": [
    "import torch\n",
    "import torch.nn as nn\n",
    "import torch.nn.functional as F\n",
    "\n",
    "\n",
    "device = 'cuda' if torch.cuda.is_available() else 'cpu'\n",
    "\n",
    "\n",
    "def to_tensors(batch, device):\n",
    "    batch_tensors = dict()\n",
    "    for key, arr in batch.items():\n",
    "        if key in [\"FullDescription\", \"Title\"]:\n",
    "            batch_tensors[key] = torch.tensor(arr, device=device, dtype=torch.int64)\n",
    "        else:\n",
    "            batch_tensors[key] = torch.tensor(arr, device=device)\n",
    "    return batch_tensors\n",
    "\n",
    "\n",
    "def make_batch(data, max_len=None, word_dropout=0, device=device):\n",
    "    \"\"\"\n",
    "    Creates a keras-friendly dict from the batch data.\n",
    "    :param word_dropout: replaces token index with UNK_IX with this probability\n",
    "    :returns: a dict with {'title' : int64[batch, title_max_len]\n",
    "    \"\"\"\n",
    "    batch = {}\n",
    "    batch[\"Title\"] = as_matrix(data[\"Title\"].values, max_len)\n",
    "    batch[\"FullDescription\"] = as_matrix(data[\"FullDescription\"].values, max_len)\n",
    "    batch['Categorical'] = categorical_vectorizer.transform(data[categorical_columns].apply(dict, axis=1))\n",
    "    \n",
    "    if word_dropout != 0:\n",
    "        batch[\"FullDescription\"] = apply_word_dropout(batch[\"FullDescription\"], 1. - word_dropout)\n",
    "    \n",
    "    if TARGET_COLUMN in data.columns:\n",
    "        batch[TARGET_COLUMN] = data[TARGET_COLUMN].values\n",
    "    \n",
    "    return to_tensors(batch, device)\n",
    "\n",
    "def apply_word_dropout(matrix, keep_prop, replace_with=UNK_IX, pad_ix=PAD_IX,):\n",
    "    dropout_mask = np.random.choice(2, np.shape(matrix), p=[keep_prop, 1 - keep_prop])\n",
    "    dropout_mask &= matrix != pad_ix\n",
    "    return np.choose(dropout_mask, [matrix, np.full_like(matrix, replace_with)])"
   ]
  },
  {
   "cell_type": "code",
   "execution_count": 142,
   "metadata": {
    "scrolled": true
   },
   "outputs": [
    {
     "data": {
      "text/plain": [
       "torch.Size([100, 10])"
      ]
     },
     "execution_count": 142,
     "metadata": {},
     "output_type": "execute_result"
    }
   ],
   "source": [
    "batch = make_batch(data_train[:100], max_len=10)\n",
    "batch['Title'].shape\n"
   ]
  },
  {
   "cell_type": "markdown",
   "metadata": {},
   "source": [
    "#### Architecture\n",
    "\n",
    "Our basic model consists of three branches:\n",
    "* Title encoder\n",
    "* Description encoder\n",
    "* Categorical features encoder\n",
    "\n",
    "We will then feed all 3 branches into one common network that predicts salary.\n",
    "\n",
    "![scheme](https://github.com/yandexdataschool/nlp_course/raw/master/resources/w2_conv_arch.png)"
   ]
  },
  {
   "cell_type": "code",
   "execution_count": 26,
   "metadata": {},
   "outputs": [
    {
     "data": {
      "text/plain": [
       "3768"
      ]
     },
     "execution_count": 26,
     "metadata": {},
     "output_type": "execute_result"
    }
   ],
   "source": [
    "EMBEDDING_DIM = 32\n",
    "HIDDEN_DIM = 64\n",
    "N_TOKENS = len(tokens)\n",
    "N_CATEGORICAL_FEATURES=len(categorical_vectorizer.vocabulary_)\n",
    "N_CATEGORICAL_FEATURES"
   ]
  },
  {
   "cell_type": "code",
   "execution_count": 174,
   "metadata": {},
   "outputs": [],
   "source": [
    "import gensim.downloader \n",
    "pretrained_embeddings = gensim.downloader.load(\"fasttext-wiki-news-subwords-300\")"
   ]
  },
  {
   "cell_type": "code",
   "execution_count": 196,
   "metadata": {},
   "outputs": [],
   "source": [
    "pretrained_embeddings_matrix = torch.zeros([N_TOKENS, 300])\n",
    "for i, token in enumerate(tokens):\n",
    "    if token in pretrained_embeddings:\n",
    "        pretrained_embeddings_matrix[i] = torch.tensor(pretrained_embeddings[token])"
   ]
  },
  {
   "cell_type": "code",
   "execution_count": 279,
   "metadata": {},
   "outputs": [],
   "source": [
    "class TextEncoder(nn.Module):\n",
    "    def __init__(self, **kwargs):\n",
    "        super().__init__()\n",
    "        self.hidden_dim = kwargs.get('hidden_dim') or HIDDEN_DIM\n",
    "        self.embedding_dim = kwargs.get('embedding_dim') or EMBEDDING_DIM\n",
    "        \n",
    "        self.with_multiple_convolution = kwargs.get('with_multiple_convolution') or False\n",
    "        self.with_additional_layers = kwargs.get('with_additional_layers') or False\n",
    "        self.with_pre_trained = kwargs.get('with_pre_trained') or False\n",
    "        self.with_pre_trained_fine_tuned = kwargs.get('with_pre_trained_fine_tuned') or False\n",
    "        \n",
    "        self.embedding = torch.nn.Embedding(N_TOKENS, self.embedding_dim)\n",
    "        \n",
    "        self.embedding_from_pretrained = torch.nn.Embedding.from_pretrained(\n",
    "            pretrained_embeddings_matrix,\n",
    "            freeze=not self.with_pre_trained_fine_tuned\n",
    "        )\n",
    "        \n",
    "        self.convolution_1 = torch.nn.Conv1d(self.embedding_dim, self.hidden_dim, kernel_size=3)\n",
    "        self.convolution_2 = torch.nn.Conv1d(self.embedding_dim, self.hidden_dim, kernel_size=3)\n",
    "        \n",
    "        self.convolution_layer_2 = torch.nn.Conv1d(self.hidden_dim, self.hidden_dim, kernel_size=3, padding='same')\n",
    "        \n",
    "\n",
    "    # batch: torch.Size([100, text length])\n",
    "    def forward(self, batch):\n",
    "        embeddings = None\n",
    "        if self.with_pre_trained or self.with_pre_trained_fine_tuned:\n",
    "            embeddings = self.embedding_from_pretrained(batch)\n",
    "        else:\n",
    "            embeddings = self.embedding(batch)\n",
    "        \n",
    "        embeddings = embeddings.transpose(2, 1)\n",
    "        # torch.Size([100, emb dim,  text length])\n",
    "        \n",
    "        # torch.Size([100, 64, amount of kernel_size frames in text length])\n",
    "        convolution_outs = self.convolution_1(embeddings)\n",
    "        \n",
    "        if self.with_multiple_convolution:\n",
    "            convolution_outs_2 = self.convolution_2(embeddings)\n",
    "            # torch.Size([100, 64, prev len * 2])\n",
    "            convolution_outs = torch.cat([convolution_outs, convolution_outs_2], dim=-1)\n",
    "            \n",
    "        if self.with_additional_layers:\n",
    "            # same dim\n",
    "            convolution_outs = self.convolution_layer_2(convolution_outs)\n",
    "                \n",
    "        \n",
    "        max_pool = torch.max(convolution_outs, dim=-1).values\n",
    "        # torch.Size([100, 64])\n",
    "        # уменьшилась мерность, потому что max выбирает по одному из вектора\n",
    "        \n",
    "        return max_pool"
   ]
  },
  {
   "cell_type": "code",
   "execution_count": 314,
   "metadata": {},
   "outputs": [],
   "source": [
    "class SalaryPredictor(nn.Module):\n",
    "    def __init__(self, **kwargs):\n",
    "        super().__init__()\n",
    "        self.with_batch_norm = kwargs.get('with_batch_norm') or False\n",
    "        self.with_dropout = kwargs.get('with_dropout') or False\n",
    "        self.with_same_title_description_embeddings = kwargs.get('with_same_title_description_embeddings') or True\n",
    "        \n",
    "        self.with_rnn = kwargs.get('with_rnn') or False\n",
    "        self.with_bidirectional_rnn = kwargs.get('with_bidirectional_rnn') or False\n",
    "        \n",
    "        self.hidden_dim = kwargs.get('hidden_dim') or HIDDEN_DIM\n",
    "        self.embedding_dim = kwargs.get('embedding_dim') or EMBEDDING_DIM\n",
    "        \n",
    "        print(kwargs)\n",
    "        \n",
    "        self.title_encoder = TextEncoder(**kwargs)\n",
    "        self.description_encoder = TextEncoder(**kwargs)\n",
    "        \n",
    "        # TODO: self.categorical_embedding_dim\n",
    "        self.categorical_embedding_encoder = nn.Linear(N_CATEGORICAL_FEATURES, EMBEDDING_DIM)\n",
    "        self.batch_norm = nn.BatchNorm1d(self.hidden_dim + self.hidden_dim + EMBEDDING_DIM)\n",
    "        self.dropout = nn.Dropout(0.1)\n",
    "        \n",
    "        self.fully_connected_1 = nn.Linear(self.hidden_dim + self.hidden_dim + EMBEDDING_DIM, self.hidden_dim)\n",
    "        self.fully_connected_2 = nn.Linear(self.hidden_dim, 1)\n",
    "        \n",
    "        self.lstm = nn.LSTM(self.embedding_dim, self.hidden_dim, bidirectional=self.with_bidirectional_rnn)\n",
    "        self.fully_connected_rnn_1 = nn.Linear(self.hidden_dim * 2 + self.hidden_dim * 2 + EMBEDDING_DIM, self.hidden_dim)\n",
    "        \n",
    "    def forward(self, batch):\n",
    "        # torch.Size([100, 64])\n",
    "        title_out_cnn = self.title_encoder(batch['Title'])\n",
    "        title_out_rnn, (hn, cn) = nn.LSTM(batch['Title'].size()[1], 64)(torch.tensor(batch['Title'], dtype=torch.float32))\n",
    "        \n",
    "        # torch.Size([100, 64])\n",
    "        description_cnn = self.description_encoder(batch['FullDescription'])\n",
    "        description_out_rnn, (hn, cn) = nn.LSTM(batch['FullDescription'].size()[1], 64)(torch.tensor(batch['FullDescription'], dtype=torch.float32))\n",
    "        print('description_out_rnn', description_out_rnn.size())\n",
    "        \n",
    "        title_out = torch.cat([title_out_cnn, title_out_rnn], dim=-1)\n",
    "        description_out = torch.cat([description_out_rnn, description_cnn], dim=-1)\n",
    "        \n",
    "        if self.with_same_title_description_embeddings:\n",
    "            self.description_encoder.embedding = self.title_encoder.embedding\n",
    "        \n",
    "        # torch.Size([100, 32])\n",
    "        categorical_embedding = self.categorical_embedding_encoder(batch['Categorical'])\n",
    "        \n",
    "        # torch.Size([100, 160])\n",
    "        print(title_out.size(), description_out.size(), categorical_embedding.size())\n",
    "        x = torch.cat([title_out, description_out, categorical_embedding], dim=1)\n",
    "        \n",
    "        if self.with_batch_norm:\n",
    "            x = self.batch_norm(x)\n",
    "        \n",
    "        if self.with_dropout:\n",
    "            x = self.dropout(x)\n",
    "        \n",
    "        # torch.Size([100, 64])\n",
    "        # x = self.fully_connected_1(x) # 160x64\n",
    "        x = self.fully_connected_rnn_1(x)\n",
    "        \n",
    "        # torch.Size([100, 1])\n",
    "        x = self.fully_connected_2(x)\n",
    "        \n",
    "        # torch.Size([100])\n",
    "        return x.flatten()"
   ]
  },
  {
   "cell_type": "code",
   "execution_count": 315,
   "metadata": {},
   "outputs": [
    {
     "name": "stdout",
     "output_type": "stream",
     "text": [
      "{}\n",
      "description_out_rnn torch.Size([100, 64])\n",
      "torch.Size([100, 128]) torch.Size([100, 128]) torch.Size([100, 32])\n"
     ]
    },
    {
     "name": "stderr",
     "output_type": "stream",
     "text": [
      "/var/folders/7l/3qdkg7n17mj7g3w_q8yf5xzc0000gq/T/ipykernel_45140/4239215124.py:27: UserWarning: To copy construct from a tensor, it is recommended to use sourceTensor.clone().detach() or sourceTensor.clone().detach().requires_grad_(True), rather than torch.tensor(sourceTensor).\n",
      "  title_out_rnn, (hn, cn) = nn.LSTM(batch['Title'].size()[1], 64)(torch.tensor(batch['Title'], dtype=torch.float32))\n",
      "/var/folders/7l/3qdkg7n17mj7g3w_q8yf5xzc0000gq/T/ipykernel_45140/4239215124.py:31: UserWarning: To copy construct from a tensor, it is recommended to use sourceTensor.clone().detach() or sourceTensor.clone().detach().requires_grad_(True), rather than torch.tensor(sourceTensor).\n",
      "  description_out_rnn, (hn, cn) = nn.LSTM(batch['FullDescription'].size()[1], 64)(torch.tensor(batch['FullDescription'], dtype=torch.float32))\n"
     ]
    }
   ],
   "source": [
    "model = SalaryPredictor().to(device)\n",
    "batch = make_batch(data_train[:100], device=device)\n",
    "criterion = nn.MSELoss()\n",
    "\n",
    "dummy_pred = model(batch)\n",
    "dummy_loss = criterion(dummy_pred, batch[TARGET_COLUMN])\n",
    "\n",
    "assert dummy_pred.shape == torch.Size([100])\n",
    "assert len(torch.unique(dummy_pred)) > 20, \"model returns suspiciously few unique outputs. Check your initialization\"\n",
    "assert dummy_loss.ndim == 0 and 0. <= dummy_loss <= 250., \"make sure you minimize MSE\""
   ]
  },
  {
   "cell_type": "markdown",
   "metadata": {},
   "source": [
    "#### Training and evaluation\n",
    "\n",
    "As usual, we gonna feed our monster with random minibatches of data. \n",
    "\n",
    "As we train, we want to monitor not only loss function, which is computed in log-space, but also the actual error measured in dollars."
   ]
  },
  {
   "cell_type": "code",
   "execution_count": 31,
   "metadata": {},
   "outputs": [],
   "source": [
    "def iterate_minibatches(data, batch_size=256, shuffle=True, cycle=False, device=device, **kwargs):\n",
    "    \"\"\" iterates minibatches of data in random order \"\"\"\n",
    "    while True:\n",
    "        indices = np.arange(len(data))\n",
    "        if shuffle:\n",
    "            indices = np.random.permutation(indices)\n",
    "\n",
    "        for start in range(0, len(indices), batch_size):\n",
    "            batch = make_batch(data.iloc[indices[start : start + batch_size]], device=device, **kwargs)\n",
    "            yield batch\n",
    "        \n",
    "        if not cycle: break"
   ]
  },
  {
   "cell_type": "markdown",
   "metadata": {},
   "source": [
    "### Model training\n",
    "\n",
    "We can now fit our model the usual minibatch way. The interesting part is that we train on an infinite stream of minibatches, produced by `iterate_minibatches` function."
   ]
  },
  {
   "cell_type": "code",
   "execution_count": 32,
   "metadata": {},
   "outputs": [
    {
     "name": "stderr",
     "output_type": "stream",
     "text": [
      "/Users/ant.korneev/Library/Python/3.9/lib/python/site-packages/tqdm/auto.py:21: TqdmWarning: IProgress not found. Please update jupyter and ipywidgets. See https://ipywidgets.readthedocs.io/en/stable/user_install.html\n",
      "  from .autonotebook import tqdm as notebook_tqdm\n"
     ]
    }
   ],
   "source": [
    "from tqdm.auto import tqdm\n",
    "\n",
    "BATCH_SIZE = 16\n",
    "EPOCHS = 5"
   ]
  },
  {
   "cell_type": "code",
   "execution_count": 33,
   "metadata": {},
   "outputs": [],
   "source": [
    "def get_metrics(model, data, batch_size=BATCH_SIZE, name=\"\", device=torch.device('cpu'), **kw):\n",
    "    squared_error = abs_error = num_samples = 0.0\n",
    "    model.eval()\n",
    "    with torch.no_grad():\n",
    "        for batch in iterate_minibatches(data, batch_size=batch_size, shuffle=False, device=device, **kw):\n",
    "            batch_pred = model(batch)\n",
    "            # squared_error += torch.sum(torch.square(batch_pred - batch[TARGET_COLUMN]))\n",
    "            abs_error += torch.sum(torch.abs(batch_pred - batch[TARGET_COLUMN]))\n",
    "            num_samples += len(batch_pred)\n",
    "    # mse = squared_error.detach().cpu().numpy() / num_samples\n",
    "    mae = abs_error.detach().cpu().numpy() / num_samples\n",
    "    print(\"%s results:\" % (name or \"\"))\n",
    "    # print(\"Mean square error: %.5f\" % mse)\n",
    "    print(\"Mean absolute error: %.5f\" % mae)\n",
    "    return 0, mae\n"
   ]
  },
  {
   "cell_type": "code",
   "execution_count": 34,
   "metadata": {},
   "outputs": [],
   "source": [
    "def train_model(model):\n",
    "    model = model.to(device)\n",
    "    criterion = nn.MSELoss(reduction='sum')\n",
    "\n",
    "    parameters = model.parameters()\n",
    "    # print(f'parameters: {[p for p in model.parameters()]}')\n",
    "\n",
    "    optimizer = torch.optim.SGD(parameters, lr=1e-4)\n",
    "\n",
    "    # train_mae_per_epoch = []\n",
    "    val_mae_per_epoch = []\n",
    "    for epoch in range(EPOCHS):\n",
    "        print(f\"epoch: {epoch}\")\n",
    "        model.train()\n",
    "        abs_error = num_samples = 0.0\n",
    "        \n",
    "        for i, batch in tqdm(enumerate(\n",
    "                iterate_minibatches(data_train, batch_size=BATCH_SIZE, device=device)),\n",
    "                total=len(data_train) // BATCH_SIZE\n",
    "            ):\n",
    "            pred = model(batch)\n",
    "            training_loss = criterion(pred, batch[TARGET_COLUMN])\n",
    "            num_samples += len(pred)\n",
    "            optimizer.zero_grad()\n",
    "            training_loss.backward()\n",
    "            optimizer.step()\n",
    "            \n",
    "        print(' ')\n",
    "        print(model.word_embeddings.weight.grad)\n",
    "        # train_mse, train_mae = get_metrics(model, data_train, device=device, name='train')\n",
    "        val_mse, val_mae = get_metrics(model, data_val, device=device, name='val')\n",
    "        \n",
    "        # train_mae_per_epoch.append(train_mae)\n",
    "        val_mae_per_epoch.append(val_mae)\n",
    "        \n",
    "    # plt.plot(train_mae_per_epoch, label='train_mae')\n",
    "    return val_mae_per_epoch"
   ]
  },
  {
   "cell_type": "code",
   "execution_count": 156,
   "metadata": {},
   "outputs": [
    {
     "name": "stdout",
     "output_type": "stream",
     "text": [
      "with_batch_norm: False\n",
      "with_dropout: False\n",
      "epoch: 0\n"
     ]
    },
    {
     "name": "stderr",
     "output_type": "stream",
     "text": [
      "12239it [06:11, 32.98it/s]                           \n"
     ]
    },
    {
     "name": "stdout",
     "output_type": "stream",
     "text": [
      " \n",
      "val results:\n",
      "Mean absolute error: 0.36619\n",
      "epoch: 1\n"
     ]
    },
    {
     "name": "stderr",
     "output_type": "stream",
     "text": [
      "12239it [06:12, 32.86it/s]                           \n"
     ]
    },
    {
     "name": "stdout",
     "output_type": "stream",
     "text": [
      " \n",
      "val results:\n",
      "Mean absolute error: 0.27832\n",
      "epoch: 2\n"
     ]
    },
    {
     "name": "stderr",
     "output_type": "stream",
     "text": [
      "12239it [06:20, 32.14it/s]                           \n"
     ]
    },
    {
     "name": "stdout",
     "output_type": "stream",
     "text": [
      " \n",
      "val results:\n",
      "Mean absolute error: 0.27442\n",
      "epoch: 3\n"
     ]
    },
    {
     "name": "stderr",
     "output_type": "stream",
     "text": [
      "12239it [06:19, 32.22it/s]                           \n"
     ]
    },
    {
     "name": "stdout",
     "output_type": "stream",
     "text": [
      " \n",
      "val results:\n",
      "Mean absolute error: 0.30741\n",
      "epoch: 4\n"
     ]
    },
    {
     "name": "stderr",
     "output_type": "stream",
     "text": [
      "12239it [05:58, 34.16it/s]                           \n"
     ]
    },
    {
     "name": "stdout",
     "output_type": "stream",
     "text": [
      " \n",
      "val results:\n",
      "Mean absolute error: 0.25390\n"
     ]
    }
   ],
   "source": [
    "model = SalaryPredictor()\n",
    "mae = train_model(model)"
   ]
  },
  {
   "cell_type": "code",
   "execution_count": 157,
   "metadata": {},
   "outputs": [
    {
     "name": "stdout",
     "output_type": "stream",
     "text": [
      "with_batch_norm: True\n",
      "with_dropout: False\n",
      "epoch: 0\n"
     ]
    },
    {
     "name": "stderr",
     "output_type": "stream",
     "text": [
      "12239it [06:03, 33.67it/s]                           \n"
     ]
    },
    {
     "name": "stdout",
     "output_type": "stream",
     "text": [
      " \n",
      "val results:\n",
      "Mean absolute error: 0.29539\n",
      "epoch: 1\n"
     ]
    },
    {
     "name": "stderr",
     "output_type": "stream",
     "text": [
      "12239it [06:08, 33.20it/s]                           \n"
     ]
    },
    {
     "name": "stdout",
     "output_type": "stream",
     "text": [
      " \n",
      "val results:\n",
      "Mean absolute error: 0.27411\n",
      "epoch: 2\n"
     ]
    },
    {
     "name": "stderr",
     "output_type": "stream",
     "text": [
      "12239it [06:14, 32.68it/s]                           \n"
     ]
    },
    {
     "name": "stdout",
     "output_type": "stream",
     "text": [
      " \n",
      "val results:\n",
      "Mean absolute error: 0.26996\n",
      "epoch: 3\n"
     ]
    },
    {
     "name": "stderr",
     "output_type": "stream",
     "text": [
      "12239it [06:09, 33.16it/s]                           \n"
     ]
    },
    {
     "name": "stdout",
     "output_type": "stream",
     "text": [
      " \n",
      "val results:\n",
      "Mean absolute error: 0.25595\n",
      "epoch: 4\n"
     ]
    },
    {
     "name": "stderr",
     "output_type": "stream",
     "text": [
      "12239it [06:08, 33.18it/s]                           \n"
     ]
    },
    {
     "name": "stdout",
     "output_type": "stream",
     "text": [
      " \n",
      "val results:\n",
      "Mean absolute error: 0.27084\n"
     ]
    }
   ],
   "source": [
    "\n",
    "model_with_batch_norm = SalaryPredictor(with_batch_norm=True)\n",
    "mae_with_batch_norm = train_model(model_with_batch_norm)"
   ]
  },
  {
   "cell_type": "code",
   "execution_count": 160,
   "metadata": {},
   "outputs": [
    {
     "name": "stdout",
     "output_type": "stream",
     "text": [
      "with_batch_norm: False\n",
      "with_dropout: True\n",
      "epoch: 0\n"
     ]
    },
    {
     "name": "stderr",
     "output_type": "stream",
     "text": [
      "12239it [06:10, 33.07it/s]                           \n"
     ]
    },
    {
     "name": "stdout",
     "output_type": "stream",
     "text": [
      " \n",
      "val results:\n",
      "Mean absolute error: 0.32763\n",
      "epoch: 1\n"
     ]
    },
    {
     "name": "stderr",
     "output_type": "stream",
     "text": [
      "12239it [06:03, 33.67it/s]                           \n"
     ]
    },
    {
     "name": "stdout",
     "output_type": "stream",
     "text": [
      " \n",
      "val results:\n",
      "Mean absolute error: 0.29451\n",
      "epoch: 2\n"
     ]
    },
    {
     "name": "stderr",
     "output_type": "stream",
     "text": [
      "12239it [05:53, 34.59it/s]                           \n"
     ]
    },
    {
     "name": "stdout",
     "output_type": "stream",
     "text": [
      " \n",
      "val results:\n",
      "Mean absolute error: 0.31865\n",
      "epoch: 3\n"
     ]
    },
    {
     "name": "stderr",
     "output_type": "stream",
     "text": [
      "12239it [05:58, 34.10it/s]                           \n"
     ]
    },
    {
     "name": "stdout",
     "output_type": "stream",
     "text": [
      " \n",
      "val results:\n",
      "Mean absolute error: 0.27390\n",
      "epoch: 4\n"
     ]
    },
    {
     "name": "stderr",
     "output_type": "stream",
     "text": [
      "12239it [05:59, 34.05it/s]                           \n"
     ]
    },
    {
     "name": "stdout",
     "output_type": "stream",
     "text": [
      " \n",
      "val results:\n",
      "Mean absolute error: 0.26577\n"
     ]
    }
   ],
   "source": [
    "model_with_dropout = SalaryPredictor(with_dropout=True)\n",
    "mae_with_dropout = train_model(model_with_dropout)"
   ]
  },
  {
   "cell_type": "code",
   "execution_count": 41,
   "metadata": {},
   "outputs": [],
   "source": [
    "mae = [0.3661889142741145,\n",
    " 0.27832470118631775,\n",
    " 0.2744182716491502,\n",
    " 0.3074142706035258,\n",
    " 0.253898110981738]"
   ]
  },
  {
   "cell_type": "code",
   "execution_count": 42,
   "metadata": {},
   "outputs": [],
   "source": [
    "mae_with_batch_norm = [0.295390287470125,\n",
    " 0.2741082309093741,\n",
    " 0.26995836892158964,\n",
    " 0.25595413072731543,\n",
    " 0.27084486360920457]"
   ]
  },
  {
   "cell_type": "code",
   "execution_count": 43,
   "metadata": {},
   "outputs": [],
   "source": [
    "mae_with_dropout = [0.32762584677707646,\n",
    " 0.2945062664057074,\n",
    " 0.3186544942062957,\n",
    " 0.273899169852055,\n",
    " 0.26577475394630673]"
   ]
  },
  {
   "cell_type": "code",
   "execution_count": 178,
   "metadata": {},
   "outputs": [
    {
     "name": "stdout",
     "output_type": "stream",
     "text": [
      "with_batch_norm: False\n",
      "with_dropout: False\n",
      "with_multiple_convolution: True\n",
      "epoch: 0\n"
     ]
    },
    {
     "name": "stderr",
     "output_type": "stream",
     "text": [
      "12239it [11:34, 17.63it/s]                           \n"
     ]
    },
    {
     "name": "stdout",
     "output_type": "stream",
     "text": [
      " \n",
      "val results:\n",
      "Mean absolute error: 0.35702\n",
      "epoch: 1\n"
     ]
    },
    {
     "name": "stderr",
     "output_type": "stream",
     "text": [
      "12239it [11:41, 17.45it/s]                           \n"
     ]
    },
    {
     "name": "stdout",
     "output_type": "stream",
     "text": [
      " \n",
      "val results:\n",
      "Mean absolute error: 0.30479\n",
      "epoch: 2\n"
     ]
    },
    {
     "name": "stderr",
     "output_type": "stream",
     "text": [
      "12239it [11:42, 17.43it/s]                           \n"
     ]
    },
    {
     "name": "stdout",
     "output_type": "stream",
     "text": [
      " \n",
      "val results:\n",
      "Mean absolute error: 0.27051\n",
      "epoch: 3\n"
     ]
    },
    {
     "name": "stderr",
     "output_type": "stream",
     "text": [
      "12239it [12:10, 16.76it/s]                           \n"
     ]
    },
    {
     "name": "stdout",
     "output_type": "stream",
     "text": [
      " \n",
      "val results:\n",
      "Mean absolute error: 0.26874\n",
      "epoch: 4\n"
     ]
    },
    {
     "name": "stderr",
     "output_type": "stream",
     "text": [
      "12239it [12:12, 16.71it/s]                           \n"
     ]
    },
    {
     "name": "stdout",
     "output_type": "stream",
     "text": [
      " \n",
      "val results:\n",
      "Mean absolute error: 0.25311\n"
     ]
    },
    {
     "data": {
      "text/plain": [
       "[0.35702070917340767,\n",
       " 0.30479071392276424,\n",
       " 0.27050958792310126,\n",
       " 0.26874479741185603,\n",
       " 0.2531067909414961]"
      ]
     },
     "execution_count": 178,
     "metadata": {},
     "output_type": "execute_result"
    }
   ],
   "source": [
    "model_with_multiple_convolution = SalaryPredictor(with_multiple_convolution=True)\n",
    "mae_with_multiple_convolution = train_model(model_with_multiple_convolution)\n",
    "mae_with_multiple_convolution"
   ]
  },
  {
   "cell_type": "code",
   "execution_count": 46,
   "metadata": {},
   "outputs": [],
   "source": [
    "mae_with_multiple_convolution = [0.35702070917340767,\n",
    " 0.30479071392276424,\n",
    " 0.27050958792310126,\n",
    " 0.26874479741185603,\n",
    " 0.2531067909414961]"
   ]
  },
  {
   "cell_type": "code",
   "execution_count": 54,
   "metadata": {},
   "outputs": [
    {
     "name": "stdout",
     "output_type": "stream",
     "text": [
      "with_batch_norm: False\n",
      "with_dropout: False\n",
      "with_multiple_convolution: False\n",
      "with_additional_layers: True\n",
      "with_additional_neurons: False\n",
      "epoch: 0\n"
     ]
    },
    {
     "name": "stderr",
     "output_type": "stream",
     "text": [
      "12239it [15:43, 12.97it/s]                           \n"
     ]
    },
    {
     "name": "stdout",
     "output_type": "stream",
     "text": [
      " \n",
      "val results:\n",
      "Mean absolute error: 0.40109\n",
      "epoch: 1\n"
     ]
    },
    {
     "name": "stderr",
     "output_type": "stream",
     "text": [
      "12239it [15:45, 12.95it/s]                           \n"
     ]
    },
    {
     "name": "stdout",
     "output_type": "stream",
     "text": [
      " \n",
      "val results:\n",
      "Mean absolute error: 0.27330\n",
      "epoch: 2\n"
     ]
    },
    {
     "name": "stderr",
     "output_type": "stream",
     "text": [
      "12239it [16:23, 12.45it/s]                           \n"
     ]
    },
    {
     "name": "stdout",
     "output_type": "stream",
     "text": [
      " \n",
      "val results:\n",
      "Mean absolute error: 0.26085\n",
      "epoch: 3\n"
     ]
    },
    {
     "name": "stderr",
     "output_type": "stream",
     "text": [
      "12239it [15:34, 13.09it/s]                           \n"
     ]
    },
    {
     "name": "stdout",
     "output_type": "stream",
     "text": [
      " \n",
      "val results:\n",
      "Mean absolute error: 0.25552\n",
      "epoch: 4\n"
     ]
    },
    {
     "name": "stderr",
     "output_type": "stream",
     "text": [
      "12239it [15:49, 12.89it/s]                           \n"
     ]
    },
    {
     "name": "stdout",
     "output_type": "stream",
     "text": [
      " \n",
      "val results:\n",
      "Mean absolute error: 0.24606\n"
     ]
    },
    {
     "data": {
      "text/plain": [
       "[0.40109381223955143,\n",
       " 0.2732951070775626,\n",
       " 0.26085230362942763,\n",
       " 0.2555191121703538,\n",
       " 0.24606370744729747]"
      ]
     },
     "execution_count": 54,
     "metadata": {},
     "output_type": "execute_result"
    }
   ],
   "source": [
    "model_with_additional_layers = SalaryPredictor(with_additional_layers=True)\n",
    "mae_with_additional_layers = train_model(model_with_additional_layers)\n",
    "mae_with_additional_layers\n",
    "# [0.40109381223955143,\n",
    "#  0.2732951070775626,\n",
    "#  0.26085230362942763,\n",
    "#  0.2555191121703538,\n",
    "#  0.24606370744729747]"
   ]
  },
  {
   "cell_type": "code",
   "execution_count": 55,
   "metadata": {},
   "outputs": [
    {
     "name": "stdout",
     "output_type": "stream",
     "text": [
      "with_batch_norm: False\n",
      "with_dropout: False\n",
      "with_multiple_convolution: False\n",
      "with_additional_layers: False\n",
      "with_additional_neurons: True\n",
      "epoch: 0\n"
     ]
    },
    {
     "name": "stderr",
     "output_type": "stream",
     "text": [
      "12239it [08:33, 23.85it/s]                           \n"
     ]
    },
    {
     "name": "stdout",
     "output_type": "stream",
     "text": [
      " \n",
      "val results:\n",
      "Mean absolute error: 0.30658\n",
      "epoch: 1\n"
     ]
    },
    {
     "name": "stderr",
     "output_type": "stream",
     "text": [
      "12239it [08:22, 24.34it/s]                           \n"
     ]
    },
    {
     "name": "stdout",
     "output_type": "stream",
     "text": [
      " \n",
      "val results:\n",
      "Mean absolute error: 0.27957\n",
      "epoch: 2\n"
     ]
    },
    {
     "name": "stderr",
     "output_type": "stream",
     "text": [
      "12239it [08:24, 24.27it/s]                           \n"
     ]
    },
    {
     "name": "stdout",
     "output_type": "stream",
     "text": [
      " \n",
      "val results:\n",
      "Mean absolute error: 0.27104\n",
      "epoch: 3\n"
     ]
    },
    {
     "name": "stderr",
     "output_type": "stream",
     "text": [
      "12239it [08:16, 24.64it/s]                           \n"
     ]
    },
    {
     "name": "stdout",
     "output_type": "stream",
     "text": [
      " \n",
      "val results:\n",
      "Mean absolute error: 0.25715\n",
      "epoch: 4\n"
     ]
    },
    {
     "name": "stderr",
     "output_type": "stream",
     "text": [
      "12239it [08:17, 24.59it/s]                           \n"
     ]
    },
    {
     "name": "stdout",
     "output_type": "stream",
     "text": [
      " \n",
      "val results:\n",
      "Mean absolute error: 0.27830\n"
     ]
    },
    {
     "data": {
      "text/plain": [
       "[0.3065843101751134,\n",
       " 0.27957212542642074,\n",
       " 0.27103952179597174,\n",
       " 0.2571547157152633,\n",
       " 0.27829555631945296]"
      ]
     },
     "execution_count": 55,
     "metadata": {},
     "output_type": "execute_result"
    }
   ],
   "source": [
    "# model_with_additional_neurons = SalaryPredictor(with_additional_neurons=True)\n",
    "model_with_additional_neurons = SalaryPredictor(hidden_dim=100)\n",
    "mae_with_additional_neurons = train_model(model_with_additional_neurons)\n",
    "mae_with_additional_neurons\n",
    "# [0.3065843101751134,\n",
    "#  0.27957212542642074,\n",
    "#  0.27103952179597174,\n",
    "#  0.2571547157152633,\n",
    "#  0.27829555631945296]"
   ]
  },
  {
   "cell_type": "code",
   "execution_count": 113,
   "metadata": {},
   "outputs": [
    {
     "name": "stdout",
     "output_type": "stream",
     "text": [
      "embedding_dim: 300\n",
      "with_batch_norm: False\n",
      "with_dropout: False\n",
      "with_multiple_convolution: False\n",
      "with_additional_layers: False\n",
      "with_additional_neurons: False\n",
      "with_pre_trained_word_embeddings: True\n",
      "epoch: 0\n"
     ]
    },
    {
     "name": "stderr",
     "output_type": "stream",
     "text": [
      "12239it [44:11,  4.62it/s]                           \n"
     ]
    },
    {
     "name": "stdout",
     "output_type": "stream",
     "text": [
      " \n",
      "val results:\n",
      "Mean absolute error: 0.28418\n",
      "epoch: 1\n"
     ]
    },
    {
     "name": "stderr",
     "output_type": "stream",
     "text": [
      "12239it [44:08,  4.62it/s]                            \n"
     ]
    },
    {
     "name": "stdout",
     "output_type": "stream",
     "text": [
      " \n",
      "val results:\n",
      "Mean absolute error: 0.25467\n",
      "epoch: 2\n"
     ]
    },
    {
     "name": "stderr",
     "output_type": "stream",
     "text": [
      "12239it [44:06,  4.63it/s]                            \n"
     ]
    },
    {
     "name": "stdout",
     "output_type": "stream",
     "text": [
      " \n",
      "val results:\n",
      "Mean absolute error: 0.24169\n",
      "epoch: 3\n"
     ]
    },
    {
     "name": "stderr",
     "output_type": "stream",
     "text": [
      "12239it [44:57,  4.54it/s]                           \n"
     ]
    },
    {
     "name": "stdout",
     "output_type": "stream",
     "text": [
      " \n",
      "val results:\n",
      "Mean absolute error: 0.23121\n",
      "epoch: 4\n"
     ]
    },
    {
     "name": "stderr",
     "output_type": "stream",
     "text": [
      "12239it [44:12,  4.61it/s]                            \n"
     ]
    },
    {
     "name": "stdout",
     "output_type": "stream",
     "text": [
      " \n",
      "val results:\n",
      "Mean absolute error: 0.22472\n"
     ]
    },
    {
     "data": {
      "text/plain": [
       "[0.2841808844144503,\n",
       " 0.2546727540139723,\n",
       " 0.24169257587480084,\n",
       " 0.23120670760433265,\n",
       " 0.22471526203170322]"
      ]
     },
     "execution_count": 113,
     "metadata": {},
     "output_type": "execute_result"
    }
   ],
   "source": [
    "# previous version, probably with a mistake\n",
    "\n",
    "model_with_pre_trained = SalaryPredictor(with_pre_trained=True, embedding_dim=300)\n",
    "mae_with_pre_trained = train_model(model_with_pre_trained)\n",
    "mae_with_pre_trained\n",
    "# [0.2841808844144503,\n",
    "#  0.2546727540139723,\n",
    "#  0.24169257587480084,\n",
    "#  0.23120670760433265,\n",
    "#  0.22471526203170322]"
   ]
  },
  {
   "cell_type": "code",
   "execution_count": 216,
   "metadata": {},
   "outputs": [
    {
     "name": "stdout",
     "output_type": "stream",
     "text": [
      "{'with_pre_trained': True, 'embedding_dim': 300}\n",
      "epoch: 0\n"
     ]
    },
    {
     "name": "stderr",
     "output_type": "stream",
     "text": [
      "12239it [33:38,  6.06it/s]                           \n"
     ]
    },
    {
     "name": "stdout",
     "output_type": "stream",
     "text": [
      " \n",
      "val results:\n",
      "Mean absolute error: 0.28838\n",
      "epoch: 1\n"
     ]
    },
    {
     "name": "stderr",
     "output_type": "stream",
     "text": [
      "12239it [33:29,  6.09it/s]                           \n"
     ]
    },
    {
     "name": "stdout",
     "output_type": "stream",
     "text": [
      " \n",
      "val results:\n",
      "Mean absolute error: 0.25506\n",
      "epoch: 2\n"
     ]
    },
    {
     "name": "stderr",
     "output_type": "stream",
     "text": [
      "12239it [33:22,  6.11it/s]                           \n"
     ]
    },
    {
     "name": "stdout",
     "output_type": "stream",
     "text": [
      " \n",
      "val results:\n",
      "Mean absolute error: 0.24002\n",
      "epoch: 3\n"
     ]
    },
    {
     "name": "stderr",
     "output_type": "stream",
     "text": [
      "12239it [33:26,  6.10it/s]                           \n"
     ]
    },
    {
     "name": "stdout",
     "output_type": "stream",
     "text": [
      " \n",
      "val results:\n",
      "Mean absolute error: 0.23645\n",
      "epoch: 4\n"
     ]
    },
    {
     "name": "stderr",
     "output_type": "stream",
     "text": [
      "12239it [33:48,  6.03it/s]                           \n"
     ]
    },
    {
     "name": "stdout",
     "output_type": "stream",
     "text": [
      " \n",
      "val results:\n",
      "Mean absolute error: 0.22352\n"
     ]
    },
    {
     "data": {
      "text/plain": [
       "[0.2883799794832904,\n",
       " 0.2550638857077563,\n",
       " 0.24001599795854273,\n",
       " 0.2364534818400948,\n",
       " 0.22351824783853208]"
      ]
     },
     "execution_count": 216,
     "metadata": {},
     "output_type": "execute_result"
    }
   ],
   "source": [
    "model_with_pre_trained = SalaryPredictor(with_pre_trained=True, embedding_dim=300)\n",
    "mae_with_pre_trained = train_model(model_with_pre_trained)\n",
    "mae_with_pre_trained\n",
    "# [0.2883799794832904,\n",
    "#  0.2550638857077563,\n",
    "#  0.24001599795854273,\n",
    "#  0.2364534818400948,\n",
    "#  0.22351824783853208]"
   ]
  },
  {
   "cell_type": "code",
   "execution_count": 217,
   "metadata": {},
   "outputs": [
    {
     "name": "stdout",
     "output_type": "stream",
     "text": [
      "{'with_pre_trained_fine_tuned': True, 'embedding_dim': 300}\n",
      "epoch: 0\n"
     ]
    },
    {
     "name": "stderr",
     "output_type": "stream",
     "text": [
      "12239it [38:28,  5.30it/s]                           \n"
     ]
    },
    {
     "name": "stdout",
     "output_type": "stream",
     "text": [
      " \n",
      "val results:\n",
      "Mean absolute error: 0.27682\n",
      "epoch: 1\n"
     ]
    },
    {
     "name": "stderr",
     "output_type": "stream",
     "text": [
      "12239it [37:54,  5.38it/s]                            \n"
     ]
    },
    {
     "name": "stdout",
     "output_type": "stream",
     "text": [
      " \n",
      "val results:\n",
      "Mean absolute error: 0.25222\n",
      "epoch: 2\n"
     ]
    },
    {
     "name": "stderr",
     "output_type": "stream",
     "text": [
      "12239it [36:53,  5.53it/s]                           \n"
     ]
    },
    {
     "name": "stdout",
     "output_type": "stream",
     "text": [
      " \n",
      "val results:\n",
      "Mean absolute error: 0.23369\n",
      "epoch: 3\n"
     ]
    },
    {
     "name": "stderr",
     "output_type": "stream",
     "text": [
      "12239it [36:53,  5.53it/s]                           \n"
     ]
    },
    {
     "name": "stdout",
     "output_type": "stream",
     "text": [
      " \n",
      "val results:\n",
      "Mean absolute error: 0.22490\n",
      "epoch: 4\n"
     ]
    },
    {
     "name": "stderr",
     "output_type": "stream",
     "text": [
      "12239it [36:51,  5.53it/s]                           \n"
     ]
    },
    {
     "name": "stdout",
     "output_type": "stream",
     "text": [
      " \n",
      "val results:\n",
      "Mean absolute error: 0.21707\n"
     ]
    },
    {
     "data": {
      "text/plain": [
       "[0.27681630969890103,\n",
       " 0.2522184609850574,\n",
       " 0.233692659020458,\n",
       " 0.2248954774507701,\n",
       " 0.2170674973572129]"
      ]
     },
     "execution_count": 217,
     "metadata": {},
     "output_type": "execute_result"
    }
   ],
   "source": [
    "model_with_pre_trained_fine_tuned = SalaryPredictor(with_pre_trained_fine_tuned=True, embedding_dim=300)\n",
    "mae_with_pre_trained_fine_tuned = train_model(model_with_pre_trained_fine_tuned)\n",
    "mae_with_pre_trained_fine_tuned\n",
    "# [0.27681630969890103,\n",
    "#  0.2522184609850574,\n",
    "#  0.233692659020458,\n",
    "#  0.2248954774507701,\n",
    "#  0.2170674973572129]"
   ]
  },
  {
   "cell_type": "code",
   "execution_count": 218,
   "metadata": {},
   "outputs": [
    {
     "name": "stdout",
     "output_type": "stream",
     "text": [
      "{'with_same_title_description_embeddings': False}\n",
      "epoch: 0\n"
     ]
    },
    {
     "name": "stderr",
     "output_type": "stream",
     "text": [
      "12239it [06:14, 32.67it/s]                           \n"
     ]
    },
    {
     "name": "stdout",
     "output_type": "stream",
     "text": [
      " \n",
      "val results:\n",
      "Mean absolute error: 0.32963\n",
      "epoch: 1\n"
     ]
    },
    {
     "name": "stderr",
     "output_type": "stream",
     "text": [
      "12239it [06:13, 32.73it/s]                           \n"
     ]
    },
    {
     "name": "stdout",
     "output_type": "stream",
     "text": [
      " \n",
      "val results:\n",
      "Mean absolute error: 0.27867\n",
      "epoch: 2\n"
     ]
    },
    {
     "name": "stderr",
     "output_type": "stream",
     "text": [
      "12239it [06:14, 32.70it/s]                           \n"
     ]
    },
    {
     "name": "stdout",
     "output_type": "stream",
     "text": [
      " \n",
      "val results:\n",
      "Mean absolute error: 0.26336\n",
      "epoch: 3\n"
     ]
    },
    {
     "name": "stderr",
     "output_type": "stream",
     "text": [
      "12239it [06:12, 32.82it/s]                           \n"
     ]
    },
    {
     "name": "stdout",
     "output_type": "stream",
     "text": [
      " \n",
      "val results:\n",
      "Mean absolute error: 0.26036\n",
      "epoch: 4\n"
     ]
    },
    {
     "name": "stderr",
     "output_type": "stream",
     "text": [
      "12239it [06:14, 32.72it/s]                           \n"
     ]
    },
    {
     "name": "stdout",
     "output_type": "stream",
     "text": [
      " \n",
      "val results:\n",
      "Mean absolute error: 0.24904\n"
     ]
    },
    {
     "data": {
      "text/plain": [
       "[0.3296261302064183,\n",
       " 0.2786737812857478,\n",
       " 0.2633638091690669,\n",
       " 0.26036454104235607,\n",
       " 0.24903865826209298]"
      ]
     },
     "execution_count": 218,
     "metadata": {},
     "output_type": "execute_result"
    }
   ],
   "source": [
    "model_with_same_title_description_embeddings = SalaryPredictor(with_same_title_description_embeddings=False)\n",
    "mae_with_same_title_description_embeddings = train_model(model_with_same_title_description_embeddings)\n",
    "mae_with_same_title_description_embeddings\n",
    "# [0.3296261302064183,\n",
    "#  0.2786737812857478,\n",
    "#  0.2633638091690669,\n",
    "#  0.26036454104235607,\n",
    "#  0.24903865826209298]"
   ]
  },
  {
   "cell_type": "code",
   "execution_count": 219,
   "metadata": {},
   "outputs": [
    {
     "data": {
      "text/plain": [
       "<function matplotlib.pyplot.show(close=None, block=None)>"
      ]
     },
     "execution_count": 219,
     "metadata": {},
     "output_type": "execute_result"
    },
    {
     "data": {
      "image/png": "[encoded data removed]",
      "text/plain": [
       "<Figure size 640x480 with 1 Axes>"
      ]
     },
     "metadata": {},
     "output_type": "display_data"
    }
   ],
   "source": [
    "plt.plot(mae,label='mae_baseline')\n",
    "# plt.plot(mae_with_batch_norm,label='mae_with_batch_norm')\n",
    "# plt.plot(mae_with_dropout,label='mae_with_dropout')\n",
    "plt.plot(mae_with_multiple_convolution,label='mae_with_multiple_convolution')\n",
    "plt.plot(mae_with_additional_layers,label='mae_with_additional_layers')\n",
    "plt.plot(mae_with_additional_neurons,label='mae_with_additional_neurons')\n",
    "\n",
    "plt.plot(mae_with_pre_trained,label='mae_with_pre_trained')\n",
    "plt.plot(mae_with_pre_trained_fine_tuned,label='mae_with_pre_trained_fine_tuned')\n",
    "plt.plot(mae_with_same_title_description_embeddings,label='mae_with_same_title_description_embeddings')\n",
    "\n",
    "plt.legend()\n",
    "plt.show"
   ]
  },
  {
   "cell_type": "code",
   "execution_count": 181,
   "metadata": {},
   "outputs": [],
   "source": [
    "# batch norm хорош на всех ипоках, кроме последнего, а на последнем хуже всех\n",
    "# значит, после третьего начинает переобучаться? могут быть и другие причины\n",
    "\n",
    "# dropout нестабилен: на каких-то ипоках лучше, на каких-то хуже\n",
    "\n",
    "# multiple_convolution плох на ранних ипоках, но потом выглядит отлично:\n",
    "# скачков лосса вообще нет, и так только у этой модели, она постепенно становится лучше\n",
    "# при большем количестве ипоков тенденция сохранится?\n",
    "\n",
    "# additional layers показывает похожий на multiple_convolution прогресс, даже лучше\n",
    "\n",
    "# кажется осмысленным добавить multiple_convolution, additional layers"
   ]
  },
  {
   "cell_type": "markdown",
   "metadata": {},
   "source": [
    "### Bonus part: explaining model predictions\n",
    "\n",
    "It's usually a good idea to understand how your model works before you let it make actual decisions. It's simple for linear models: just see which words learned positive or negative weights. However, its much harder for neural networks that learn complex nonlinear dependencies.\n",
    "\n",
    "There are, however, some ways to look inside the black box:\n",
    "* Seeing how model responds to input perturbations\n",
    "* Finding inputs that maximize/minimize activation of some chosen neurons (_read more [on distill.pub](https://distill.pub/2018/building-blocks/)_)\n",
    "* Building local linear approximations to your neural network: [article](https://arxiv.org/abs/1602.04938), [eli5 library](https://github.com/TeamHG-Memex/eli5/tree/master/eli5/formatters)\n",
    "\n",
    "Today we gonna try the first method just because it's the simplest one."
   ]
  },
  {
   "cell_type": "code",
   "execution_count": 135,
   "metadata": {},
   "outputs": [],
   "source": [
    "def explain(model, sample, col_name='Title'):\n",
    "    \"\"\" Computes the effect each word had on model predictions \"\"\"\n",
    "    sample = dict(sample)\n",
    "    sample_col_tokens = [tokens[token_to_id.get(tok, 0)] for tok in sample[col_name].split()]\n",
    "    data_drop_one_token = pd.DataFrame([sample] * (len(sample_col_tokens) + 1))\n",
    "\n",
    "    for drop_i in range(len(sample_col_tokens)):\n",
    "        data_drop_one_token.loc[drop_i, col_name] = ' '.join(UNK if i == drop_i else tok\n",
    "                                                   for i, tok in enumerate(sample_col_tokens)) \n",
    "\n",
    "    *predictions_drop_one_token, baseline_pred = model(make_batch(data_drop_one_token, device=device)).detach().cpu()\n",
    "    diffs = baseline_pred - torch.Tensor(predictions_drop_one_token)\n",
    "    return list(zip(sample_col_tokens, diffs))"
   ]
  },
  {
   "cell_type": "code",
   "execution_count": 136,
   "metadata": {},
   "outputs": [],
   "source": [
    "from IPython.display import HTML, display_html\n",
    "\n",
    "\n",
    "def draw_html(tokens_and_weights, cmap=plt.get_cmap(\"bwr\"), display=True,\n",
    "              token_template=\"\"\"<span style=\"background-color: {color_hex}\">{token}</span>\"\"\",\n",
    "              font_style=\"font-size:14px;\"\n",
    "             ):\n",
    "    \n",
    "    def get_color_hex(weight):\n",
    "        rgba = cmap(1. / (1 + np.exp(float(weight))), bytes=True)\n",
    "        return '#%02X%02X%02X' % rgba[:3]\n",
    "    \n",
    "    tokens_html = [\n",
    "        token_template.format(token=token, color_hex=get_color_hex(weight))\n",
    "        for token, weight in tokens_and_weights\n",
    "    ]\n",
    "    \n",
    "    \n",
    "    raw_html = \"\"\"<p style=\"{}\">{}</p>\"\"\".format(font_style, ' '.join(tokens_html))\n",
    "    if display:\n",
    "        display_html(HTML(raw_html))\n",
    "        \n",
    "    return raw_html\n",
    "    "
   ]
  },
  {
   "cell_type": "code",
   "execution_count": 137,
   "metadata": {},
   "outputs": [
    {
     "data": {
      "text/html": [
       "<p style=\"font-size:20px;\"><span style=\"background-color: #F6F6FF\">sales</span> <span style=\"background-color: #FFCACA\">specialist</span> <span style=\"background-color: #FFFEFE\">iv</span> <span style=\"background-color: #FFBABA\">access</span> <span style=\"background-color: #FFD6D6\">and</span> <span style=\"background-color: #FAFAFF\">infusion</span></p>"
      ]
     },
     "metadata": {},
     "output_type": "display_data"
    },
    {
     "data": {
      "text/html": [
       "<p style=\"font-size:14px;\"><span style=\"background-color: #FFFEFE\">sales</span> <span style=\"background-color: #FFFEFE\">representative</span> <span style=\"background-color: #FFFEFE\">medical</span> <span style=\"background-color: #FFFEFE\">sales</span> <span style=\"background-color: #FCFCFF\">iv</span> <span style=\"background-color: #FFFEFE\">access</span> <span style=\"background-color: #FFFEFE\">and</span> <span style=\"background-color: #FEFEFF\">infusion</span> <span style=\"background-color: #FFFEFE\">an</span> <span style=\"background-color: #FFFEFE\">opportunity</span> <span style=\"background-color: #FFFEFE\">to</span> <span style=\"background-color: #FEFEFF\">work</span> <span style=\"background-color: #FCFCFF\">for</span> <span style=\"background-color: #FFFEFE\">the</span> <span style=\"background-color: #FFFEFE\">industry</span> <span style=\"background-color: #FFFEFE\">leading</span> <span style=\"background-color: #FAFAFF\">manufacturer</span> <span style=\"background-color: #FEFEFF\">of</span> <span style=\"background-color: #FFFCFC\">iv</span> <span style=\"background-color: #FFF8F8\">access</span> <span style=\"background-color: #FFFEFE\">and</span> <span style=\"background-color: #F6F6FF\">infusion</span> <span style=\"background-color: #FAFAFF\">solutions</span> <span style=\"background-color: #FEFEFF\">.</span> <span style=\"background-color: #FEFEFF\">formally</span> <span style=\"background-color: #FFFEFE\">recognised</span> <span style=\"background-color: #FFFEFE\">as</span> <span style=\"background-color: #FFFEFE\">the</span> <span style=\"background-color: #FCFCFF\">number</span> <span style=\"background-color: #FCFCFF\">****</span> <span style=\"background-color: #FFFAFA\">company</span> <span style=\"background-color: #FFFEFE\">in</span> <span style=\"background-color: #FFFEFE\">this</span> <span style=\"background-color: #FFFEFE\">market</span> <span style=\"background-color: #F6F6FF\">space</span> <span style=\"background-color: #FFFEFE\">,</span> <span style=\"background-color: #FFFEFE\">our</span> <span style=\"background-color: #FFFEFE\">client</span> <span style=\"background-color: #FFFEFE\">are</span> <span style=\"background-color: #FFFEFE\">an</span> <span style=\"background-color: #FFFEFE\">ethical</span> <span style=\"background-color: #FCFCFF\">and</span> <span style=\"background-color: #FFFEFE\">dynamic</span> <span style=\"background-color: #FFFEFE\">organisation</span> <span style=\"background-color: #FFFEFE\">absolutely</span> <span style=\"background-color: #FAFAFF\">committed</span> <span style=\"background-color: #FFFEFE\">to</span> <span style=\"background-color: #FFFEFE\">the</span> <span style=\"background-color: #FAFAFF\">advancement</span> <span style=\"background-color: #FFFEFE\">of</span> <span style=\"background-color: #FFF8F8\">innovative</span> <span style=\"background-color: #FFFCFC\">technologies</span> <span style=\"background-color: #FEFEFF\">.</span> <span style=\"background-color: #FEFEFF\">job</span> <span style=\"background-color: #FFFEFE\">title</span> <span style=\"background-color: #FEFEFF\">:</span> <span style=\"background-color: #FFFEFE\">sales</span> <span style=\"background-color: #FEFEFF\">specialist</span> <span style=\"background-color: #FFFEFE\">iv</span> <span style=\"background-color: #FFFEFE\">access</span> <span style=\"background-color: #FFFEFE\">and</span> <span style=\"background-color: #FCFCFF\">infusion</span> <span style=\"background-color: #FFFEFE\">selling</span> <span style=\"background-color: #F8F8FF\">:</span> <span style=\"background-color: #F3F3FF\">medication</span> <span style=\"background-color: #F0F0FF\">delivery</span> <span style=\"background-color: #FEFEFF\">solutions</span> <span style=\"background-color: #FEFEFF\">selling</span> <span style=\"background-color: #FEFEFF\">to</span> <span style=\"background-color: #FFFEFE\">:</span> <span style=\"background-color: #FFFEFE\">iv</span> <span style=\"background-color: #ECECFF\">teams</span> <span style=\"background-color: #FEFEFF\">,</span> <span style=\"background-color: #FEFEFF\">infection</span> <span style=\"background-color: #F0F0FF\">control</span> <span style=\"background-color: #F3F3FF\">,</span> <span style=\"background-color: #FFFEFE\">lead</span> <span style=\"background-color: #FFFEFE\">intensive</span> <span style=\"background-color: #FFFEFE\">care</span> <span style=\"background-color: #FFFEFE\">nurse</span> <span style=\"background-color: #FFFEFE\">specialists</span> <span style=\"background-color: #FFFEFE\">,</span> <span style=\"background-color: #FFFEFE\">ward</span> <span style=\"background-color: #FEFEFF\">managers</span> <span style=\"background-color: #FFFEFE\">territory</span> <span style=\"background-color: #FFFEFE\">:</span> <span style=\"background-color: #FFFEFE\">east</span> <span style=\"background-color: #FFFEFE\">midlands</span> <span style=\"background-color: #FFFEFE\">location</span> <span style=\"background-color: #FFFEFE\">:</span> <span style=\"background-color: #FFFEFE\">east</span> <span style=\"background-color: #FCFCFF\">midlands</span> <span style=\"background-color: #FEFEFF\">package</span> <span style=\"background-color: #FFFEFE\">:</span> <span style=\"background-color: #FFFEFE\">basic</span> <span style=\"background-color: #FFFEFE\">:</span> <span style=\"background-color: #FFFEFE\">****</span> <span style=\"background-color: #FFFEFE\">k</span> <span style=\"background-color: #FFFEFE\">****</span> <span style=\"background-color: #FCFCFF\">k</span> <span style=\"background-color: #FCFCFF\">,</span> <span style=\"background-color: #FCFCFF\">uncapped</span> <span style=\"background-color: #FEFEFF\">bonus</span> <span style=\"background-color: #FFDADA\">in</span> <span style=\"background-color: #EAEAFF\">addition</span> <span style=\"background-color: #FFE0E0\">,</span> <span style=\"background-color: #FEFEFF\">full</span> <span style=\"background-color: #FEFEFF\">corporate</span> <span style=\"background-color: #FEFEFF\">benefits</span> <span style=\"background-color: #FEFEFF\">company</span> <span style=\"background-color: #FFFEFE\">information</span> <span style=\"background-color: #FFFEFE\">hugely</span> <span style=\"background-color: #FFFEFE\">ethical</span> <span style=\"background-color: #FFFEFE\">and</span> <span style=\"background-color: #FFFEFE\">professional</span> <span style=\"background-color: #FFFEFE\">global</span> <span style=\"background-color: #FFFEFE\">organisation</span> <span style=\"background-color: #FFFCFC\">extremely</span> <span style=\"background-color: #FCFCFF\">well</span> <span style=\"background-color: #FFFCFC\">established</span> <span style=\"background-color: #FFFEFE\">in</span> <span style=\"background-color: #FFFEFE\">the</span> <span style=\"background-color: #FFFEFE\">uk</span> <span style=\"background-color: #FEFEFF\">the</span> <span style=\"background-color: #FEFEFF\">market</span> <span style=\"background-color: #FCFCFF\">leader</span> <span style=\"background-color: #FEFEFF\">across</span> <span style=\"background-color: #FFFEFE\">all</span> <span style=\"background-color: #FFFEFE\">of</span> <span style=\"background-color: #FFFEFE\">their</span> <span style=\"background-color: #FFFEFE\">core</span> <span style=\"background-color: #FFFEFE\">business</span> <span style=\"background-color: #F8F8FF\">areas</span> <span style=\"background-color: #FFF4F4\">focus</span> <span style=\"background-color: #F8F8FF\">on</span> <span style=\"background-color: #FFFEFE\">providing</span> <span style=\"background-color: #FFFEFE\">cutting</span> <span style=\"background-color: #FFFEFE\">edge</span> <span style=\"background-color: #FFFEFE\">solutions</span> <span style=\"background-color: #FFFEFE\">along</span> <span style=\"background-color: #FEFEFF\">with</span> <span style=\"background-color: #F3F3FF\">outstanding</span> <span style=\"background-color: #F8F8FF\">service</span> <span style=\"background-color: #F6F6FF\">and</span> <span style=\"background-color: #FFFEFE\">support</span> <span style=\"background-color: #FEFEFF\">a</span> <span style=\"background-color: #FFFEFE\">business</span> <span style=\"background-color: #FFFEFE\">that</span> <span style=\"background-color: #FFFCFC\">retain</span> <span style=\"background-color: #F6F6FF\">talented</span> <span style=\"background-color: #FFFCFC\">personnel</span> <span style=\"background-color: #FFFEFE\">by</span> <span style=\"background-color: #F6F6FF\">offering</span> <span style=\"background-color: #FFFEFE\">a</span> <span style=\"background-color: #FFFEFE\">strong</span> <span style=\"background-color: #FEFEFF\">platform</span> <span style=\"background-color: #FFFEFE\">for</span> <span style=\"background-color: #FFFEFE\">career</span> <span style=\"background-color: #FCFCFF\">development</span> <span style=\"background-color: #FFFEFE\">sales</span> <span style=\"background-color: #FEFEFF\">specialist</span> <span style=\"background-color: #FFFEFE\">iv</span> <span style=\"background-color: #FFFEFE\">access</span> <span style=\"background-color: #FFFEFE\">and</span> <span style=\"background-color: #FCFCFF\">infusion</span> <span style=\"background-color: #F6F6FF\">you</span> <span style=\"background-color: #FCFCFF\">must</span> <span style=\"background-color: #FFFEFE\">have</span> <span style=\"background-color: #FFFEFE\">/</span> <span style=\"background-color: #FFFEFE\">be</span> <span style=\"background-color: #FFFEFE\">the</span> <span style=\"background-color: #FFFCFC\">following</span> <span style=\"background-color: #FFF6F6\">at</span> <span style=\"background-color: #FFF6F6\">least</span> <span style=\"background-color: #FFFEFE\">2</span> <span style=\"background-color: #FFFEFE\">years</span> <span style=\"background-color: #F3F3FF\">medical</span> <span style=\"background-color: #FAFAFF\">device</span> <span style=\"background-color: #FAFAFF\">sales</span> <span style=\"background-color: #FFFEFE\">experience</span> <span style=\"background-color: #FFFEFE\">.</span> <span style=\"background-color: #FEFEFF\">candidates</span> <span style=\"background-color: #FFFEFE\">who</span> <span style=\"background-color: #FFFEFE\">have</span> <span style=\"background-color: #FFFEFE\">sold</span> <span style=\"background-color: #FFFEFE\">disposables</span> <span style=\"background-color: #FFFEFE\">/</span> <span style=\"background-color: #FFFEFE\">consumables</span> <span style=\"background-color: #FFFEFE\">or</span> <span style=\"background-color: #FFFEFE\">similar</span> <span style=\"background-color: #FFFEFE\">into</span> <span style=\"background-color: #FFFEFE\">hospitals</span> <span style=\"background-color: #FFFEFE\">would</span> <span style=\"background-color: #FFFEFE\">be</span> <span style=\"background-color: #F8F8FF\">of</span> <span style=\"background-color: #F8F8FF\">particular</span> <span style=\"background-color: #FFFEFE\">interest</span> <span style=\"background-color: #FFFEFE\">.</span> <span style=\"background-color: #FFFEFE\">candidates</span> <span style=\"background-color: #FFFEFE\">must</span> <span style=\"background-color: #F8F8FF\">have</span> <span style=\"background-color: #FFFEFE\">sold</span> <span style=\"background-color: #FFFEFE\">into</span> <span style=\"background-color: #FFFEFE\">hospitals</span> <span style=\"background-color: #FFFEFE\">demonstrable</span> <span style=\"background-color: #FFFAFA\">performance</span> <span style=\"background-color: #FEFEFF\">and</span> <span style=\"background-color: #FFFEFE\">achievements</span> <span style=\"background-color: #FFFEFE\">so</span> <span style=\"background-color: #FFFEFE\">far</span> <span style=\"background-color: #FFFEFE\">personable</span> <span style=\"background-color: #FEFEFF\">,</span> <span style=\"background-color: #FFFEFE\">adaptable</span> <span style=\"background-color: #FAFAFF\">and</span> <span style=\"background-color: #FFFEFE\">willing</span> <span style=\"background-color: #FFE4E4\">to</span> <span style=\"background-color: #FEFEFF\">learn</span> <span style=\"background-color: #FFFEFE\">keen</span> <span style=\"background-color: #FFFEFE\">and</span> <span style=\"background-color: #FFE2E2\">eager</span> <span style=\"background-color: #FFE4E4\">to</span> <span style=\"background-color: #FFD6D6\">be</span> <span style=\"background-color: #FFF4F4\">a</span> <span style=\"background-color: #FFF4F4\">success</span> <span style=\"background-color: #FEFEFF\">candidates</span> <span style=\"background-color: #FFFEFE\">must</span> <span style=\"background-color: #FFFEFE\">have</span> <span style=\"background-color: #FFFEFE\">a</span> <span style=\"background-color: #F3F3FF\">degree</span> <span style=\"background-color: #F6F6FF\">or</span> <span style=\"background-color: #E8E8FF\">at</span> <span style=\"background-color: #FFFEFE\">least</span> <span style=\"background-color: #FCFCFF\">be</span> <span style=\"background-color: #FFFEFE\">able</span> <span style=\"background-color: #FFFEFE\">to</span> <span style=\"background-color: #FFFEFE\">show</span> <span style=\"background-color: #FFFEFE\">a</span> <span style=\"background-color: #FFFEFE\">strong</span> <span style=\"background-color: #FFFCFC\">ability</span> <span style=\"background-color: #FFFCFC\">to</span> <span style=\"background-color: #F6F6FF\">learn</span> <span style=\"background-color: #F2F2FF\">role</span> <span style=\"background-color: #EEEEFF\">information</span> <span style=\"background-color: #FFFEFE\">managing</span> <span style=\"background-color: #FFFEFE\">the</span> <span style=\"background-color: #FFFEFE\">east</span> <span style=\"background-color: #FFFEFE\">midlands</span> <span style=\"background-color: #FEFEFF\">region</span> <span style=\"background-color: #FFFEFE\">selling</span> <span style=\"background-color: #FFFEFE\">across</span> <span style=\"background-color: #FEFEFF\">the</span> <span style=\"background-color: #FEFEFF\">company</span> <span style=\"background-color: #FFFEFE\">'</span> <span style=\"background-color: #FFFEFE\">s</span> <span style=\"background-color: #EAEAFF\">range</span> <span style=\"background-color: #E0E0FF\">of</span> <span style=\"background-color: #FAFAFF\">iv</span> <span style=\"background-color: #FFFCFC\">and</span> <span style=\"background-color: #FCFCFF\">infusion</span> <span style=\"background-color: #FEFEFF\">solutions</span> <span style=\"background-color: #FFFEFE\">portfolio</span> <span style=\"background-color: #FFFEFE\">selling</span> <span style=\"background-color: #FAFAFF\">into</span> <span style=\"background-color: #FAFAFF\">lead</span> <span style=\"background-color: #FAFAFF\">intensive</span> <span style=\"background-color: #FFFEFE\">care</span> <span style=\"background-color: #FFFEFE\">nurse</span> <span style=\"background-color: #FFFEFE\">specialists</span> <span style=\"background-color: #FFFEFE\">,</span> <span style=\"background-color: #F6F6FF\">ward</span> <span style=\"background-color: #FFFEFE\">managers</span> <span style=\"background-color: #FFFEFE\">,</span> <span style=\"background-color: #FFFEFE\">iv</span> <span style=\"background-color: #EAEAFF\">teams</span> <span style=\"background-color: #FFFEFE\">,</span> <span style=\"background-color: #FFFAFA\">infection</span> <span style=\"background-color: #FFFAFA\">control</span> <span style=\"background-color: #EEEEFF\">teams</span> <span style=\"background-color: #FCFCFF\">,</span> <span style=\"background-color: #FFFEFE\">procurement</span> <span style=\"background-color: #FFF4F4\">sales</span> <span style=\"background-color: #FEFEFF\">specialist</span> <span style=\"background-color: #FEFEFF\">iv</span> <span style=\"background-color: #FFFEFE\">access</span> <span style=\"background-color: #FFFEFE\">and</span> <span style=\"background-color: #FFFAFA\">infusion</span> <span style=\"background-color: #F3F3FF\">candidates</span> <span style=\"background-color: #FFF8F8\">must</span> <span style=\"background-color: #FCFCFF\">be</span> <span style=\"background-color: #FFFAFA\">eligible</span> <span style=\"background-color: #FFFAFA\">to</span> <span style=\"background-color: #FFFAFA\">work</span> <span style=\"background-color: #FFFEFE\">and</span> <span style=\"background-color: #FFFEFE\">live</span> <span style=\"background-color: #FFFEFE\">in</span> <span style=\"background-color: #FFFEFE\">the</span> <span style=\"background-color: #FFFEFE\">uk</span> <span style=\"background-color: #FCFCFF\">.</span> <span style=\"background-color: #FFFEFE\">please</span> <span style=\"background-color: #FFFEFE\">contact</span> <span style=\"background-color: #F8F8FF\">allan</span> <span style=\"background-color: #FFFEFE\">waller</span> <span style=\"background-color: #FFFCFC\">on</span> <span style=\"background-color: #FEFEFF\">****</span> <span style=\"background-color: #FAFAFF\">****</span> <span style=\"background-color: #FFFEFE\">****</span> <span style=\"background-color: #F0F0FF\">or</span> <span style=\"background-color: #FFFEFE\">please</span> <span style=\"background-color: #FFFAFA\">hit</span> <span style=\"background-color: #FEFEFF\">the</span> <span style=\"background-color: #FEFEFF\">apply</span> <span style=\"background-color: #FEFEFF\">button</span> <span style=\"background-color: #FEFEFF\">.</span> <span style=\"background-color: #FEFEFF\">this</span> <span style=\"background-color: #FFFEFE\">job</span> <span style=\"background-color: #FFFEFE\">was</span> <span style=\"background-color: #FFFEFE\">originally</span> <span style=\"background-color: #FFFEFE\">posted</span> <span style=\"background-color: #FFFEFE\">as</span> <span style=\"background-color: #FFFEFE\">www</span> <span style=\"background-color: #FFFEFE\">.</span> <span style=\"background-color: #FEFEFF\">salestarget</span> <span style=\"background-color: #FFFEFE\">.</span> <span style=\"background-color: #FEFEFF\">co</span> <span style=\"background-color: #EEEEFF\">.</span> <span style=\"background-color: #FFFEFE\">uk</span> <span style=\"background-color: #F8F8FF\">/</span> <span style=\"background-color: #FFF2F2\">jobseeking</span> <span style=\"background-color: #FFFEFE\">/</span> <span style=\"background-color: #FFFEFE\">UNK</span> <span style=\"background-color: #FFFEFE\">****</span></p>"
      ]
     },
     "metadata": {},
     "output_type": "display_data"
    }
   ],
   "source": [
    "i = 36605\n",
    "tokens_and_weights = explain(model, data.loc[i], \"Title\")\n",
    "draw_html([(tok, weight * 5) for tok, weight in tokens_and_weights], font_style='font-size:20px;');\n",
    "\n",
    "tokens_and_weights = explain(model, data.loc[i], \"FullDescription\")\n",
    "draw_html([(tok, weight * 10) for tok, weight in tokens_and_weights]);"
   ]
  },
  {
   "cell_type": "code",
   "execution_count": 138,
   "metadata": {},
   "outputs": [
    {
     "ename": "RuntimeError",
     "evalue": "Calculated padded input size per channel: (2). Kernel size: (3). Kernel size can't be greater than actual input size",
     "output_type": "error",
     "traceback": [
      "\u001b[0;31m---------------------------------------------------------------------------\u001b[0m",
      "\u001b[0;31mRuntimeError\u001b[0m                              Traceback (most recent call last)",
      "Cell \u001b[0;32mIn[138], line 2\u001b[0m\n\u001b[1;32m      1\u001b[0m i \u001b[38;5;241m=\u001b[39m \u001b[38;5;241m12077\u001b[39m\n\u001b[0;32m----> 2\u001b[0m tokens_and_weights \u001b[38;5;241m=\u001b[39m \u001b[43mexplain\u001b[49m\u001b[43m(\u001b[49m\u001b[43mmodel\u001b[49m\u001b[43m,\u001b[49m\u001b[43m \u001b[49m\u001b[43mdata\u001b[49m\u001b[38;5;241;43m.\u001b[39;49m\u001b[43mloc\u001b[49m\u001b[43m[\u001b[49m\u001b[43mi\u001b[49m\u001b[43m]\u001b[49m\u001b[43m,\u001b[49m\u001b[43m \u001b[49m\u001b[38;5;124;43m\"\u001b[39;49m\u001b[38;5;124;43mTitle\u001b[39;49m\u001b[38;5;124;43m\"\u001b[39;49m\u001b[43m)\u001b[49m\n\u001b[1;32m      3\u001b[0m draw_html([(tok, weight \u001b[38;5;241m*\u001b[39m \u001b[38;5;241m5\u001b[39m) \u001b[38;5;28;01mfor\u001b[39;00m tok, weight \u001b[38;5;129;01min\u001b[39;00m tokens_and_weights], font_style\u001b[38;5;241m=\u001b[39m\u001b[38;5;124m'\u001b[39m\u001b[38;5;124mfont-size:20px;\u001b[39m\u001b[38;5;124m'\u001b[39m);\n\u001b[1;32m      5\u001b[0m tokens_and_weights \u001b[38;5;241m=\u001b[39m explain(model, data\u001b[38;5;241m.\u001b[39mloc[i], \u001b[38;5;124m\"\u001b[39m\u001b[38;5;124mFullDescription\u001b[39m\u001b[38;5;124m\"\u001b[39m)\n",
      "Cell \u001b[0;32mIn[135], line 11\u001b[0m, in \u001b[0;36mexplain\u001b[0;34m(model, sample, col_name)\u001b[0m\n\u001b[1;32m      7\u001b[0m \u001b[38;5;28;01mfor\u001b[39;00m drop_i \u001b[38;5;129;01min\u001b[39;00m \u001b[38;5;28mrange\u001b[39m(\u001b[38;5;28mlen\u001b[39m(sample_col_tokens)):\n\u001b[1;32m      8\u001b[0m     data_drop_one_token\u001b[38;5;241m.\u001b[39mloc[drop_i, col_name] \u001b[38;5;241m=\u001b[39m \u001b[38;5;124m'\u001b[39m\u001b[38;5;124m \u001b[39m\u001b[38;5;124m'\u001b[39m\u001b[38;5;241m.\u001b[39mjoin(UNK \u001b[38;5;28;01mif\u001b[39;00m i \u001b[38;5;241m==\u001b[39m drop_i \u001b[38;5;28;01melse\u001b[39;00m tok\n\u001b[1;32m      9\u001b[0m                                                \u001b[38;5;28;01mfor\u001b[39;00m i, tok \u001b[38;5;129;01min\u001b[39;00m \u001b[38;5;28menumerate\u001b[39m(sample_col_tokens)) \n\u001b[0;32m---> 11\u001b[0m \u001b[38;5;241m*\u001b[39mpredictions_drop_one_token, baseline_pred \u001b[38;5;241m=\u001b[39m \u001b[43mmodel\u001b[49m\u001b[43m(\u001b[49m\u001b[43mmake_batch\u001b[49m\u001b[43m(\u001b[49m\u001b[43mdata_drop_one_token\u001b[49m\u001b[43m,\u001b[49m\u001b[43m \u001b[49m\u001b[43mdevice\u001b[49m\u001b[38;5;241;43m=\u001b[39;49m\u001b[43mdevice\u001b[49m\u001b[43m)\u001b[49m\u001b[43m)\u001b[49m\u001b[38;5;241m.\u001b[39mdetach()\u001b[38;5;241m.\u001b[39mcpu()\n\u001b[1;32m     12\u001b[0m diffs \u001b[38;5;241m=\u001b[39m baseline_pred \u001b[38;5;241m-\u001b[39m torch\u001b[38;5;241m.\u001b[39mTensor(predictions_drop_one_token)\n\u001b[1;32m     13\u001b[0m \u001b[38;5;28;01mreturn\u001b[39;00m \u001b[38;5;28mlist\u001b[39m(\u001b[38;5;28mzip\u001b[39m(sample_col_tokens, diffs))\n",
      "File \u001b[0;32m~/Library/Python/3.9/lib/python/site-packages/torch/nn/modules/module.py:1553\u001b[0m, in \u001b[0;36mModule._wrapped_call_impl\u001b[0;34m(self, *args, **kwargs)\u001b[0m\n\u001b[1;32m   1551\u001b[0m     \u001b[38;5;28;01mreturn\u001b[39;00m \u001b[38;5;28mself\u001b[39m\u001b[38;5;241m.\u001b[39m_compiled_call_impl(\u001b[38;5;241m*\u001b[39margs, \u001b[38;5;241m*\u001b[39m\u001b[38;5;241m*\u001b[39mkwargs)  \u001b[38;5;66;03m# type: ignore[misc]\u001b[39;00m\n\u001b[1;32m   1552\u001b[0m \u001b[38;5;28;01melse\u001b[39;00m:\n\u001b[0;32m-> 1553\u001b[0m     \u001b[38;5;28;01mreturn\u001b[39;00m \u001b[38;5;28;43mself\u001b[39;49m\u001b[38;5;241;43m.\u001b[39;49m\u001b[43m_call_impl\u001b[49m\u001b[43m(\u001b[49m\u001b[38;5;241;43m*\u001b[39;49m\u001b[43margs\u001b[49m\u001b[43m,\u001b[49m\u001b[43m \u001b[49m\u001b[38;5;241;43m*\u001b[39;49m\u001b[38;5;241;43m*\u001b[39;49m\u001b[43mkwargs\u001b[49m\u001b[43m)\u001b[49m\n",
      "File \u001b[0;32m~/Library/Python/3.9/lib/python/site-packages/torch/nn/modules/module.py:1562\u001b[0m, in \u001b[0;36mModule._call_impl\u001b[0;34m(self, *args, **kwargs)\u001b[0m\n\u001b[1;32m   1557\u001b[0m \u001b[38;5;66;03m# If we don't have any hooks, we want to skip the rest of the logic in\u001b[39;00m\n\u001b[1;32m   1558\u001b[0m \u001b[38;5;66;03m# this function, and just call forward.\u001b[39;00m\n\u001b[1;32m   1559\u001b[0m \u001b[38;5;28;01mif\u001b[39;00m \u001b[38;5;129;01mnot\u001b[39;00m (\u001b[38;5;28mself\u001b[39m\u001b[38;5;241m.\u001b[39m_backward_hooks \u001b[38;5;129;01mor\u001b[39;00m \u001b[38;5;28mself\u001b[39m\u001b[38;5;241m.\u001b[39m_backward_pre_hooks \u001b[38;5;129;01mor\u001b[39;00m \u001b[38;5;28mself\u001b[39m\u001b[38;5;241m.\u001b[39m_forward_hooks \u001b[38;5;129;01mor\u001b[39;00m \u001b[38;5;28mself\u001b[39m\u001b[38;5;241m.\u001b[39m_forward_pre_hooks\n\u001b[1;32m   1560\u001b[0m         \u001b[38;5;129;01mor\u001b[39;00m _global_backward_pre_hooks \u001b[38;5;129;01mor\u001b[39;00m _global_backward_hooks\n\u001b[1;32m   1561\u001b[0m         \u001b[38;5;129;01mor\u001b[39;00m _global_forward_hooks \u001b[38;5;129;01mor\u001b[39;00m _global_forward_pre_hooks):\n\u001b[0;32m-> 1562\u001b[0m     \u001b[38;5;28;01mreturn\u001b[39;00m \u001b[43mforward_call\u001b[49m\u001b[43m(\u001b[49m\u001b[38;5;241;43m*\u001b[39;49m\u001b[43margs\u001b[49m\u001b[43m,\u001b[49m\u001b[43m \u001b[49m\u001b[38;5;241;43m*\u001b[39;49m\u001b[38;5;241;43m*\u001b[39;49m\u001b[43mkwargs\u001b[49m\u001b[43m)\u001b[49m\n\u001b[1;32m   1564\u001b[0m \u001b[38;5;28;01mtry\u001b[39;00m:\n\u001b[1;32m   1565\u001b[0m     result \u001b[38;5;241m=\u001b[39m \u001b[38;5;28;01mNone\u001b[39;00m\n",
      "Cell \u001b[0;32mIn[126], line 21\u001b[0m, in \u001b[0;36mSalaryPredictor.forward\u001b[0;34m(self, batch)\u001b[0m\n\u001b[1;32m     19\u001b[0m \u001b[38;5;28;01mdef\u001b[39;00m \u001b[38;5;21mforward\u001b[39m(\u001b[38;5;28mself\u001b[39m, batch):\n\u001b[1;32m     20\u001b[0m     \u001b[38;5;66;03m# torch.Size([100, 64])\u001b[39;00m\n\u001b[0;32m---> 21\u001b[0m     title_out \u001b[38;5;241m=\u001b[39m \u001b[38;5;28;43mself\u001b[39;49m\u001b[38;5;241;43m.\u001b[39;49m\u001b[43mtitle_encoder\u001b[49m\u001b[43m(\u001b[49m\u001b[43mbatch\u001b[49m\u001b[43m[\u001b[49m\u001b[38;5;124;43m'\u001b[39;49m\u001b[38;5;124;43mTitle\u001b[39;49m\u001b[38;5;124;43m'\u001b[39;49m\u001b[43m]\u001b[49m\u001b[43m)\u001b[49m\n\u001b[1;32m     23\u001b[0m     \u001b[38;5;66;03m# torch.Size([100, 64])\u001b[39;00m\n\u001b[1;32m     24\u001b[0m     description_out \u001b[38;5;241m=\u001b[39m \u001b[38;5;28mself\u001b[39m\u001b[38;5;241m.\u001b[39mdescription_encoder(batch[\u001b[38;5;124m'\u001b[39m\u001b[38;5;124mFullDescription\u001b[39m\u001b[38;5;124m'\u001b[39m])\n",
      "File \u001b[0;32m~/Library/Python/3.9/lib/python/site-packages/torch/nn/modules/module.py:1553\u001b[0m, in \u001b[0;36mModule._wrapped_call_impl\u001b[0;34m(self, *args, **kwargs)\u001b[0m\n\u001b[1;32m   1551\u001b[0m     \u001b[38;5;28;01mreturn\u001b[39;00m \u001b[38;5;28mself\u001b[39m\u001b[38;5;241m.\u001b[39m_compiled_call_impl(\u001b[38;5;241m*\u001b[39margs, \u001b[38;5;241m*\u001b[39m\u001b[38;5;241m*\u001b[39mkwargs)  \u001b[38;5;66;03m# type: ignore[misc]\u001b[39;00m\n\u001b[1;32m   1552\u001b[0m \u001b[38;5;28;01melse\u001b[39;00m:\n\u001b[0;32m-> 1553\u001b[0m     \u001b[38;5;28;01mreturn\u001b[39;00m \u001b[38;5;28;43mself\u001b[39;49m\u001b[38;5;241;43m.\u001b[39;49m\u001b[43m_call_impl\u001b[49m\u001b[43m(\u001b[49m\u001b[38;5;241;43m*\u001b[39;49m\u001b[43margs\u001b[49m\u001b[43m,\u001b[49m\u001b[43m \u001b[49m\u001b[38;5;241;43m*\u001b[39;49m\u001b[38;5;241;43m*\u001b[39;49m\u001b[43mkwargs\u001b[49m\u001b[43m)\u001b[49m\n",
      "File \u001b[0;32m~/Library/Python/3.9/lib/python/site-packages/torch/nn/modules/module.py:1562\u001b[0m, in \u001b[0;36mModule._call_impl\u001b[0;34m(self, *args, **kwargs)\u001b[0m\n\u001b[1;32m   1557\u001b[0m \u001b[38;5;66;03m# If we don't have any hooks, we want to skip the rest of the logic in\u001b[39;00m\n\u001b[1;32m   1558\u001b[0m \u001b[38;5;66;03m# this function, and just call forward.\u001b[39;00m\n\u001b[1;32m   1559\u001b[0m \u001b[38;5;28;01mif\u001b[39;00m \u001b[38;5;129;01mnot\u001b[39;00m (\u001b[38;5;28mself\u001b[39m\u001b[38;5;241m.\u001b[39m_backward_hooks \u001b[38;5;129;01mor\u001b[39;00m \u001b[38;5;28mself\u001b[39m\u001b[38;5;241m.\u001b[39m_backward_pre_hooks \u001b[38;5;129;01mor\u001b[39;00m \u001b[38;5;28mself\u001b[39m\u001b[38;5;241m.\u001b[39m_forward_hooks \u001b[38;5;129;01mor\u001b[39;00m \u001b[38;5;28mself\u001b[39m\u001b[38;5;241m.\u001b[39m_forward_pre_hooks\n\u001b[1;32m   1560\u001b[0m         \u001b[38;5;129;01mor\u001b[39;00m _global_backward_pre_hooks \u001b[38;5;129;01mor\u001b[39;00m _global_backward_hooks\n\u001b[1;32m   1561\u001b[0m         \u001b[38;5;129;01mor\u001b[39;00m _global_forward_hooks \u001b[38;5;129;01mor\u001b[39;00m _global_forward_pre_hooks):\n\u001b[0;32m-> 1562\u001b[0m     \u001b[38;5;28;01mreturn\u001b[39;00m \u001b[43mforward_call\u001b[49m\u001b[43m(\u001b[49m\u001b[38;5;241;43m*\u001b[39;49m\u001b[43margs\u001b[49m\u001b[43m,\u001b[49m\u001b[43m \u001b[49m\u001b[38;5;241;43m*\u001b[39;49m\u001b[38;5;241;43m*\u001b[39;49m\u001b[43mkwargs\u001b[49m\u001b[43m)\u001b[49m\n\u001b[1;32m   1564\u001b[0m \u001b[38;5;28;01mtry\u001b[39;00m:\n\u001b[1;32m   1565\u001b[0m     result \u001b[38;5;241m=\u001b[39m \u001b[38;5;28;01mNone\u001b[39;00m\n",
      "Cell \u001b[0;32mIn[24], line 22\u001b[0m, in \u001b[0;36mTextEncoder.forward\u001b[0;34m(self, batch)\u001b[0m\n\u001b[1;32m     18\u001b[0m embeddings \u001b[38;5;241m=\u001b[39m embeddings\u001b[38;5;241m.\u001b[39mtranspose(\u001b[38;5;241m2\u001b[39m, \u001b[38;5;241m1\u001b[39m)\n\u001b[1;32m     19\u001b[0m \u001b[38;5;66;03m# torch.Size([100, 32, 17])\u001b[39;00m\n\u001b[1;32m     20\u001b[0m \u001b[38;5;66;03m# print(f'embeddings T: {embeddings.size()}')\u001b[39;00m\n\u001b[0;32m---> 22\u001b[0m convolution_outs \u001b[38;5;241m=\u001b[39m \u001b[38;5;28;43mself\u001b[39;49m\u001b[38;5;241;43m.\u001b[39;49m\u001b[43mconvolution\u001b[49m\u001b[43m(\u001b[49m\u001b[43membeddings\u001b[49m\u001b[43m)\u001b[49m\n\u001b[1;32m     23\u001b[0m \u001b[38;5;66;03m# torch.Size([100, 64, 15])\u001b[39;00m\n\u001b[1;32m     24\u001b[0m \u001b[38;5;66;03m# torch.Size([100, 64, amount of kernel_size frames in 17])\u001b[39;00m\n\u001b[1;32m     25\u001b[0m \u001b[38;5;66;03m# print(f'convolution_outs: {convolution_outs.size()}')\u001b[39;00m\n\u001b[1;32m     27\u001b[0m max_pool \u001b[38;5;241m=\u001b[39m torch\u001b[38;5;241m.\u001b[39mmax(convolution_outs, dim\u001b[38;5;241m=\u001b[39m\u001b[38;5;241m-\u001b[39m\u001b[38;5;241m1\u001b[39m)\u001b[38;5;241m.\u001b[39mvalues\n",
      "File \u001b[0;32m~/Library/Python/3.9/lib/python/site-packages/torch/nn/modules/module.py:1553\u001b[0m, in \u001b[0;36mModule._wrapped_call_impl\u001b[0;34m(self, *args, **kwargs)\u001b[0m\n\u001b[1;32m   1551\u001b[0m     \u001b[38;5;28;01mreturn\u001b[39;00m \u001b[38;5;28mself\u001b[39m\u001b[38;5;241m.\u001b[39m_compiled_call_impl(\u001b[38;5;241m*\u001b[39margs, \u001b[38;5;241m*\u001b[39m\u001b[38;5;241m*\u001b[39mkwargs)  \u001b[38;5;66;03m# type: ignore[misc]\u001b[39;00m\n\u001b[1;32m   1552\u001b[0m \u001b[38;5;28;01melse\u001b[39;00m:\n\u001b[0;32m-> 1553\u001b[0m     \u001b[38;5;28;01mreturn\u001b[39;00m \u001b[38;5;28;43mself\u001b[39;49m\u001b[38;5;241;43m.\u001b[39;49m\u001b[43m_call_impl\u001b[49m\u001b[43m(\u001b[49m\u001b[38;5;241;43m*\u001b[39;49m\u001b[43margs\u001b[49m\u001b[43m,\u001b[49m\u001b[43m \u001b[49m\u001b[38;5;241;43m*\u001b[39;49m\u001b[38;5;241;43m*\u001b[39;49m\u001b[43mkwargs\u001b[49m\u001b[43m)\u001b[49m\n",
      "File \u001b[0;32m~/Library/Python/3.9/lib/python/site-packages/torch/nn/modules/module.py:1562\u001b[0m, in \u001b[0;36mModule._call_impl\u001b[0;34m(self, *args, **kwargs)\u001b[0m\n\u001b[1;32m   1557\u001b[0m \u001b[38;5;66;03m# If we don't have any hooks, we want to skip the rest of the logic in\u001b[39;00m\n\u001b[1;32m   1558\u001b[0m \u001b[38;5;66;03m# this function, and just call forward.\u001b[39;00m\n\u001b[1;32m   1559\u001b[0m \u001b[38;5;28;01mif\u001b[39;00m \u001b[38;5;129;01mnot\u001b[39;00m (\u001b[38;5;28mself\u001b[39m\u001b[38;5;241m.\u001b[39m_backward_hooks \u001b[38;5;129;01mor\u001b[39;00m \u001b[38;5;28mself\u001b[39m\u001b[38;5;241m.\u001b[39m_backward_pre_hooks \u001b[38;5;129;01mor\u001b[39;00m \u001b[38;5;28mself\u001b[39m\u001b[38;5;241m.\u001b[39m_forward_hooks \u001b[38;5;129;01mor\u001b[39;00m \u001b[38;5;28mself\u001b[39m\u001b[38;5;241m.\u001b[39m_forward_pre_hooks\n\u001b[1;32m   1560\u001b[0m         \u001b[38;5;129;01mor\u001b[39;00m _global_backward_pre_hooks \u001b[38;5;129;01mor\u001b[39;00m _global_backward_hooks\n\u001b[1;32m   1561\u001b[0m         \u001b[38;5;129;01mor\u001b[39;00m _global_forward_hooks \u001b[38;5;129;01mor\u001b[39;00m _global_forward_pre_hooks):\n\u001b[0;32m-> 1562\u001b[0m     \u001b[38;5;28;01mreturn\u001b[39;00m \u001b[43mforward_call\u001b[49m\u001b[43m(\u001b[49m\u001b[38;5;241;43m*\u001b[39;49m\u001b[43margs\u001b[49m\u001b[43m,\u001b[49m\u001b[43m \u001b[49m\u001b[38;5;241;43m*\u001b[39;49m\u001b[38;5;241;43m*\u001b[39;49m\u001b[43mkwargs\u001b[49m\u001b[43m)\u001b[49m\n\u001b[1;32m   1564\u001b[0m \u001b[38;5;28;01mtry\u001b[39;00m:\n\u001b[1;32m   1565\u001b[0m     result \u001b[38;5;241m=\u001b[39m \u001b[38;5;28;01mNone\u001b[39;00m\n",
      "File \u001b[0;32m~/Library/Python/3.9/lib/python/site-packages/torch/nn/modules/conv.py:308\u001b[0m, in \u001b[0;36mConv1d.forward\u001b[0;34m(self, input)\u001b[0m\n\u001b[1;32m    307\u001b[0m \u001b[38;5;28;01mdef\u001b[39;00m \u001b[38;5;21mforward\u001b[39m(\u001b[38;5;28mself\u001b[39m, \u001b[38;5;28minput\u001b[39m: Tensor) \u001b[38;5;241m-\u001b[39m\u001b[38;5;241m>\u001b[39m Tensor:\n\u001b[0;32m--> 308\u001b[0m     \u001b[38;5;28;01mreturn\u001b[39;00m \u001b[38;5;28;43mself\u001b[39;49m\u001b[38;5;241;43m.\u001b[39;49m\u001b[43m_conv_forward\u001b[49m\u001b[43m(\u001b[49m\u001b[38;5;28;43minput\u001b[39;49m\u001b[43m,\u001b[49m\u001b[43m \u001b[49m\u001b[38;5;28;43mself\u001b[39;49m\u001b[38;5;241;43m.\u001b[39;49m\u001b[43mweight\u001b[49m\u001b[43m,\u001b[49m\u001b[43m \u001b[49m\u001b[38;5;28;43mself\u001b[39;49m\u001b[38;5;241;43m.\u001b[39;49m\u001b[43mbias\u001b[49m\u001b[43m)\u001b[49m\n",
      "File \u001b[0;32m~/Library/Python/3.9/lib/python/site-packages/torch/nn/modules/conv.py:304\u001b[0m, in \u001b[0;36mConv1d._conv_forward\u001b[0;34m(self, input, weight, bias)\u001b[0m\n\u001b[1;32m    300\u001b[0m \u001b[38;5;28;01mif\u001b[39;00m \u001b[38;5;28mself\u001b[39m\u001b[38;5;241m.\u001b[39mpadding_mode \u001b[38;5;241m!=\u001b[39m \u001b[38;5;124m'\u001b[39m\u001b[38;5;124mzeros\u001b[39m\u001b[38;5;124m'\u001b[39m:\n\u001b[1;32m    301\u001b[0m     \u001b[38;5;28;01mreturn\u001b[39;00m F\u001b[38;5;241m.\u001b[39mconv1d(F\u001b[38;5;241m.\u001b[39mpad(\u001b[38;5;28minput\u001b[39m, \u001b[38;5;28mself\u001b[39m\u001b[38;5;241m.\u001b[39m_reversed_padding_repeated_twice, mode\u001b[38;5;241m=\u001b[39m\u001b[38;5;28mself\u001b[39m\u001b[38;5;241m.\u001b[39mpadding_mode),\n\u001b[1;32m    302\u001b[0m                     weight, bias, \u001b[38;5;28mself\u001b[39m\u001b[38;5;241m.\u001b[39mstride,\n\u001b[1;32m    303\u001b[0m                     _single(\u001b[38;5;241m0\u001b[39m), \u001b[38;5;28mself\u001b[39m\u001b[38;5;241m.\u001b[39mdilation, \u001b[38;5;28mself\u001b[39m\u001b[38;5;241m.\u001b[39mgroups)\n\u001b[0;32m--> 304\u001b[0m \u001b[38;5;28;01mreturn\u001b[39;00m \u001b[43mF\u001b[49m\u001b[38;5;241;43m.\u001b[39;49m\u001b[43mconv1d\u001b[49m\u001b[43m(\u001b[49m\u001b[38;5;28;43minput\u001b[39;49m\u001b[43m,\u001b[49m\u001b[43m \u001b[49m\u001b[43mweight\u001b[49m\u001b[43m,\u001b[49m\u001b[43m \u001b[49m\u001b[43mbias\u001b[49m\u001b[43m,\u001b[49m\u001b[43m \u001b[49m\u001b[38;5;28;43mself\u001b[39;49m\u001b[38;5;241;43m.\u001b[39;49m\u001b[43mstride\u001b[49m\u001b[43m,\u001b[49m\n\u001b[1;32m    305\u001b[0m \u001b[43m                \u001b[49m\u001b[38;5;28;43mself\u001b[39;49m\u001b[38;5;241;43m.\u001b[39;49m\u001b[43mpadding\u001b[49m\u001b[43m,\u001b[49m\u001b[43m \u001b[49m\u001b[38;5;28;43mself\u001b[39;49m\u001b[38;5;241;43m.\u001b[39;49m\u001b[43mdilation\u001b[49m\u001b[43m,\u001b[49m\u001b[43m \u001b[49m\u001b[38;5;28;43mself\u001b[39;49m\u001b[38;5;241;43m.\u001b[39;49m\u001b[43mgroups\u001b[49m\u001b[43m)\u001b[49m\n",
      "\u001b[0;31mRuntimeError\u001b[0m: Calculated padded input size per channel: (2). Kernel size: (3). Kernel size can't be greater than actual input size"
     ]
    }
   ],
   "source": [
    "i = 12077\n",
    "tokens_and_weights = explain(model, data.loc[i], \"Title\")\n",
    "draw_html([(tok, weight * 5) for tok, weight in tokens_and_weights], font_style='font-size:20px;');\n",
    "\n",
    "tokens_and_weights = explain(model, data.loc[i], \"FullDescription\")\n",
    "draw_html([(tok, weight * 10) for tok, weight in tokens_and_weights]);"
   ]
  },
  {
   "cell_type": "code",
   "execution_count": 139,
   "metadata": {},
   "outputs": [
    {
     "name": "stdout",
     "output_type": "stream",
     "text": [
      "Index: 76002\n"
     ]
    },
    {
     "ename": "RuntimeError",
     "evalue": "Calculated padded input size per channel: (2). Kernel size: (3). Kernel size can't be greater than actual input size",
     "output_type": "error",
     "traceback": [
      "\u001b[0;31m---------------------------------------------------------------------------\u001b[0m",
      "\u001b[0;31mRuntimeError\u001b[0m                              Traceback (most recent call last)",
      "Cell \u001b[0;32mIn[139], line 3\u001b[0m\n\u001b[1;32m      1\u001b[0m i \u001b[38;5;241m=\u001b[39m np\u001b[38;5;241m.\u001b[39mrandom\u001b[38;5;241m.\u001b[39mrandint(\u001b[38;5;28mlen\u001b[39m(data))\n\u001b[1;32m      2\u001b[0m \u001b[38;5;28mprint\u001b[39m(\u001b[38;5;124m\"\u001b[39m\u001b[38;5;124mIndex:\u001b[39m\u001b[38;5;124m\"\u001b[39m, i)\n\u001b[0;32m----> 3\u001b[0m \u001b[38;5;28mprint\u001b[39m(\u001b[38;5;124m\"\u001b[39m\u001b[38;5;124mSalary (gbp):\u001b[39m\u001b[38;5;124m\"\u001b[39m, np\u001b[38;5;241m.\u001b[39mexpm1(\u001b[43mmodel\u001b[49m\u001b[43m(\u001b[49m\u001b[43mmake_batch\u001b[49m\u001b[43m(\u001b[49m\u001b[43mdata\u001b[49m\u001b[38;5;241;43m.\u001b[39;49m\u001b[43miloc\u001b[49m\u001b[43m[\u001b[49m\u001b[43mi\u001b[49m\u001b[43m:\u001b[49m\u001b[43m \u001b[49m\u001b[43mi\u001b[49m\u001b[38;5;241;43m+\u001b[39;49m\u001b[38;5;241;43m1\u001b[39;49m\u001b[43m]\u001b[49m\u001b[43m,\u001b[49m\u001b[43m \u001b[49m\u001b[43mdevice\u001b[49m\u001b[38;5;241;43m=\u001b[39;49m\u001b[43mdevice\u001b[49m\u001b[43m)\u001b[49m\u001b[43m)\u001b[49m\u001b[38;5;241m.\u001b[39mdetach()\u001b[38;5;241m.\u001b[39mcpu()))\n\u001b[1;32m      5\u001b[0m tokens_and_weights \u001b[38;5;241m=\u001b[39m explain(model, data\u001b[38;5;241m.\u001b[39mloc[i], \u001b[38;5;124m\"\u001b[39m\u001b[38;5;124mTitle\u001b[39m\u001b[38;5;124m\"\u001b[39m)\n\u001b[1;32m      6\u001b[0m draw_html([(tok, weight \u001b[38;5;241m*\u001b[39m \u001b[38;5;241m5\u001b[39m) \u001b[38;5;28;01mfor\u001b[39;00m tok, weight \u001b[38;5;129;01min\u001b[39;00m tokens_and_weights], font_style\u001b[38;5;241m=\u001b[39m\u001b[38;5;124m'\u001b[39m\u001b[38;5;124mfont-size:20px;\u001b[39m\u001b[38;5;124m'\u001b[39m);\n",
      "File \u001b[0;32m~/Library/Python/3.9/lib/python/site-packages/torch/nn/modules/module.py:1553\u001b[0m, in \u001b[0;36mModule._wrapped_call_impl\u001b[0;34m(self, *args, **kwargs)\u001b[0m\n\u001b[1;32m   1551\u001b[0m     \u001b[38;5;28;01mreturn\u001b[39;00m \u001b[38;5;28mself\u001b[39m\u001b[38;5;241m.\u001b[39m_compiled_call_impl(\u001b[38;5;241m*\u001b[39margs, \u001b[38;5;241m*\u001b[39m\u001b[38;5;241m*\u001b[39mkwargs)  \u001b[38;5;66;03m# type: ignore[misc]\u001b[39;00m\n\u001b[1;32m   1552\u001b[0m \u001b[38;5;28;01melse\u001b[39;00m:\n\u001b[0;32m-> 1553\u001b[0m     \u001b[38;5;28;01mreturn\u001b[39;00m \u001b[38;5;28;43mself\u001b[39;49m\u001b[38;5;241;43m.\u001b[39;49m\u001b[43m_call_impl\u001b[49m\u001b[43m(\u001b[49m\u001b[38;5;241;43m*\u001b[39;49m\u001b[43margs\u001b[49m\u001b[43m,\u001b[49m\u001b[43m \u001b[49m\u001b[38;5;241;43m*\u001b[39;49m\u001b[38;5;241;43m*\u001b[39;49m\u001b[43mkwargs\u001b[49m\u001b[43m)\u001b[49m\n",
      "File \u001b[0;32m~/Library/Python/3.9/lib/python/site-packages/torch/nn/modules/module.py:1562\u001b[0m, in \u001b[0;36mModule._call_impl\u001b[0;34m(self, *args, **kwargs)\u001b[0m\n\u001b[1;32m   1557\u001b[0m \u001b[38;5;66;03m# If we don't have any hooks, we want to skip the rest of the logic in\u001b[39;00m\n\u001b[1;32m   1558\u001b[0m \u001b[38;5;66;03m# this function, and just call forward.\u001b[39;00m\n\u001b[1;32m   1559\u001b[0m \u001b[38;5;28;01mif\u001b[39;00m \u001b[38;5;129;01mnot\u001b[39;00m (\u001b[38;5;28mself\u001b[39m\u001b[38;5;241m.\u001b[39m_backward_hooks \u001b[38;5;129;01mor\u001b[39;00m \u001b[38;5;28mself\u001b[39m\u001b[38;5;241m.\u001b[39m_backward_pre_hooks \u001b[38;5;129;01mor\u001b[39;00m \u001b[38;5;28mself\u001b[39m\u001b[38;5;241m.\u001b[39m_forward_hooks \u001b[38;5;129;01mor\u001b[39;00m \u001b[38;5;28mself\u001b[39m\u001b[38;5;241m.\u001b[39m_forward_pre_hooks\n\u001b[1;32m   1560\u001b[0m         \u001b[38;5;129;01mor\u001b[39;00m _global_backward_pre_hooks \u001b[38;5;129;01mor\u001b[39;00m _global_backward_hooks\n\u001b[1;32m   1561\u001b[0m         \u001b[38;5;129;01mor\u001b[39;00m _global_forward_hooks \u001b[38;5;129;01mor\u001b[39;00m _global_forward_pre_hooks):\n\u001b[0;32m-> 1562\u001b[0m     \u001b[38;5;28;01mreturn\u001b[39;00m \u001b[43mforward_call\u001b[49m\u001b[43m(\u001b[49m\u001b[38;5;241;43m*\u001b[39;49m\u001b[43margs\u001b[49m\u001b[43m,\u001b[49m\u001b[43m \u001b[49m\u001b[38;5;241;43m*\u001b[39;49m\u001b[38;5;241;43m*\u001b[39;49m\u001b[43mkwargs\u001b[49m\u001b[43m)\u001b[49m\n\u001b[1;32m   1564\u001b[0m \u001b[38;5;28;01mtry\u001b[39;00m:\n\u001b[1;32m   1565\u001b[0m     result \u001b[38;5;241m=\u001b[39m \u001b[38;5;28;01mNone\u001b[39;00m\n",
      "Cell \u001b[0;32mIn[126], line 21\u001b[0m, in \u001b[0;36mSalaryPredictor.forward\u001b[0;34m(self, batch)\u001b[0m\n\u001b[1;32m     19\u001b[0m \u001b[38;5;28;01mdef\u001b[39;00m \u001b[38;5;21mforward\u001b[39m(\u001b[38;5;28mself\u001b[39m, batch):\n\u001b[1;32m     20\u001b[0m     \u001b[38;5;66;03m# torch.Size([100, 64])\u001b[39;00m\n\u001b[0;32m---> 21\u001b[0m     title_out \u001b[38;5;241m=\u001b[39m \u001b[38;5;28;43mself\u001b[39;49m\u001b[38;5;241;43m.\u001b[39;49m\u001b[43mtitle_encoder\u001b[49m\u001b[43m(\u001b[49m\u001b[43mbatch\u001b[49m\u001b[43m[\u001b[49m\u001b[38;5;124;43m'\u001b[39;49m\u001b[38;5;124;43mTitle\u001b[39;49m\u001b[38;5;124;43m'\u001b[39;49m\u001b[43m]\u001b[49m\u001b[43m)\u001b[49m\n\u001b[1;32m     23\u001b[0m     \u001b[38;5;66;03m# torch.Size([100, 64])\u001b[39;00m\n\u001b[1;32m     24\u001b[0m     description_out \u001b[38;5;241m=\u001b[39m \u001b[38;5;28mself\u001b[39m\u001b[38;5;241m.\u001b[39mdescription_encoder(batch[\u001b[38;5;124m'\u001b[39m\u001b[38;5;124mFullDescription\u001b[39m\u001b[38;5;124m'\u001b[39m])\n",
      "File \u001b[0;32m~/Library/Python/3.9/lib/python/site-packages/torch/nn/modules/module.py:1553\u001b[0m, in \u001b[0;36mModule._wrapped_call_impl\u001b[0;34m(self, *args, **kwargs)\u001b[0m\n\u001b[1;32m   1551\u001b[0m     \u001b[38;5;28;01mreturn\u001b[39;00m \u001b[38;5;28mself\u001b[39m\u001b[38;5;241m.\u001b[39m_compiled_call_impl(\u001b[38;5;241m*\u001b[39margs, \u001b[38;5;241m*\u001b[39m\u001b[38;5;241m*\u001b[39mkwargs)  \u001b[38;5;66;03m# type: ignore[misc]\u001b[39;00m\n\u001b[1;32m   1552\u001b[0m \u001b[38;5;28;01melse\u001b[39;00m:\n\u001b[0;32m-> 1553\u001b[0m     \u001b[38;5;28;01mreturn\u001b[39;00m \u001b[38;5;28;43mself\u001b[39;49m\u001b[38;5;241;43m.\u001b[39;49m\u001b[43m_call_impl\u001b[49m\u001b[43m(\u001b[49m\u001b[38;5;241;43m*\u001b[39;49m\u001b[43margs\u001b[49m\u001b[43m,\u001b[49m\u001b[43m \u001b[49m\u001b[38;5;241;43m*\u001b[39;49m\u001b[38;5;241;43m*\u001b[39;49m\u001b[43mkwargs\u001b[49m\u001b[43m)\u001b[49m\n",
      "File \u001b[0;32m~/Library/Python/3.9/lib/python/site-packages/torch/nn/modules/module.py:1562\u001b[0m, in \u001b[0;36mModule._call_impl\u001b[0;34m(self, *args, **kwargs)\u001b[0m\n\u001b[1;32m   1557\u001b[0m \u001b[38;5;66;03m# If we don't have any hooks, we want to skip the rest of the logic in\u001b[39;00m\n\u001b[1;32m   1558\u001b[0m \u001b[38;5;66;03m# this function, and just call forward.\u001b[39;00m\n\u001b[1;32m   1559\u001b[0m \u001b[38;5;28;01mif\u001b[39;00m \u001b[38;5;129;01mnot\u001b[39;00m (\u001b[38;5;28mself\u001b[39m\u001b[38;5;241m.\u001b[39m_backward_hooks \u001b[38;5;129;01mor\u001b[39;00m \u001b[38;5;28mself\u001b[39m\u001b[38;5;241m.\u001b[39m_backward_pre_hooks \u001b[38;5;129;01mor\u001b[39;00m \u001b[38;5;28mself\u001b[39m\u001b[38;5;241m.\u001b[39m_forward_hooks \u001b[38;5;129;01mor\u001b[39;00m \u001b[38;5;28mself\u001b[39m\u001b[38;5;241m.\u001b[39m_forward_pre_hooks\n\u001b[1;32m   1560\u001b[0m         \u001b[38;5;129;01mor\u001b[39;00m _global_backward_pre_hooks \u001b[38;5;129;01mor\u001b[39;00m _global_backward_hooks\n\u001b[1;32m   1561\u001b[0m         \u001b[38;5;129;01mor\u001b[39;00m _global_forward_hooks \u001b[38;5;129;01mor\u001b[39;00m _global_forward_pre_hooks):\n\u001b[0;32m-> 1562\u001b[0m     \u001b[38;5;28;01mreturn\u001b[39;00m \u001b[43mforward_call\u001b[49m\u001b[43m(\u001b[49m\u001b[38;5;241;43m*\u001b[39;49m\u001b[43margs\u001b[49m\u001b[43m,\u001b[49m\u001b[43m \u001b[49m\u001b[38;5;241;43m*\u001b[39;49m\u001b[38;5;241;43m*\u001b[39;49m\u001b[43mkwargs\u001b[49m\u001b[43m)\u001b[49m\n\u001b[1;32m   1564\u001b[0m \u001b[38;5;28;01mtry\u001b[39;00m:\n\u001b[1;32m   1565\u001b[0m     result \u001b[38;5;241m=\u001b[39m \u001b[38;5;28;01mNone\u001b[39;00m\n",
      "Cell \u001b[0;32mIn[24], line 22\u001b[0m, in \u001b[0;36mTextEncoder.forward\u001b[0;34m(self, batch)\u001b[0m\n\u001b[1;32m     18\u001b[0m embeddings \u001b[38;5;241m=\u001b[39m embeddings\u001b[38;5;241m.\u001b[39mtranspose(\u001b[38;5;241m2\u001b[39m, \u001b[38;5;241m1\u001b[39m)\n\u001b[1;32m     19\u001b[0m \u001b[38;5;66;03m# torch.Size([100, 32, 17])\u001b[39;00m\n\u001b[1;32m     20\u001b[0m \u001b[38;5;66;03m# print(f'embeddings T: {embeddings.size()}')\u001b[39;00m\n\u001b[0;32m---> 22\u001b[0m convolution_outs \u001b[38;5;241m=\u001b[39m \u001b[38;5;28;43mself\u001b[39;49m\u001b[38;5;241;43m.\u001b[39;49m\u001b[43mconvolution\u001b[49m\u001b[43m(\u001b[49m\u001b[43membeddings\u001b[49m\u001b[43m)\u001b[49m\n\u001b[1;32m     23\u001b[0m \u001b[38;5;66;03m# torch.Size([100, 64, 15])\u001b[39;00m\n\u001b[1;32m     24\u001b[0m \u001b[38;5;66;03m# torch.Size([100, 64, amount of kernel_size frames in 17])\u001b[39;00m\n\u001b[1;32m     25\u001b[0m \u001b[38;5;66;03m# print(f'convolution_outs: {convolution_outs.size()}')\u001b[39;00m\n\u001b[1;32m     27\u001b[0m max_pool \u001b[38;5;241m=\u001b[39m torch\u001b[38;5;241m.\u001b[39mmax(convolution_outs, dim\u001b[38;5;241m=\u001b[39m\u001b[38;5;241m-\u001b[39m\u001b[38;5;241m1\u001b[39m)\u001b[38;5;241m.\u001b[39mvalues\n",
      "File \u001b[0;32m~/Library/Python/3.9/lib/python/site-packages/torch/nn/modules/module.py:1553\u001b[0m, in \u001b[0;36mModule._wrapped_call_impl\u001b[0;34m(self, *args, **kwargs)\u001b[0m\n\u001b[1;32m   1551\u001b[0m     \u001b[38;5;28;01mreturn\u001b[39;00m \u001b[38;5;28mself\u001b[39m\u001b[38;5;241m.\u001b[39m_compiled_call_impl(\u001b[38;5;241m*\u001b[39margs, \u001b[38;5;241m*\u001b[39m\u001b[38;5;241m*\u001b[39mkwargs)  \u001b[38;5;66;03m# type: ignore[misc]\u001b[39;00m\n\u001b[1;32m   1552\u001b[0m \u001b[38;5;28;01melse\u001b[39;00m:\n\u001b[0;32m-> 1553\u001b[0m     \u001b[38;5;28;01mreturn\u001b[39;00m \u001b[38;5;28;43mself\u001b[39;49m\u001b[38;5;241;43m.\u001b[39;49m\u001b[43m_call_impl\u001b[49m\u001b[43m(\u001b[49m\u001b[38;5;241;43m*\u001b[39;49m\u001b[43margs\u001b[49m\u001b[43m,\u001b[49m\u001b[43m \u001b[49m\u001b[38;5;241;43m*\u001b[39;49m\u001b[38;5;241;43m*\u001b[39;49m\u001b[43mkwargs\u001b[49m\u001b[43m)\u001b[49m\n",
      "File \u001b[0;32m~/Library/Python/3.9/lib/python/site-packages/torch/nn/modules/module.py:1562\u001b[0m, in \u001b[0;36mModule._call_impl\u001b[0;34m(self, *args, **kwargs)\u001b[0m\n\u001b[1;32m   1557\u001b[0m \u001b[38;5;66;03m# If we don't have any hooks, we want to skip the rest of the logic in\u001b[39;00m\n\u001b[1;32m   1558\u001b[0m \u001b[38;5;66;03m# this function, and just call forward.\u001b[39;00m\n\u001b[1;32m   1559\u001b[0m \u001b[38;5;28;01mif\u001b[39;00m \u001b[38;5;129;01mnot\u001b[39;00m (\u001b[38;5;28mself\u001b[39m\u001b[38;5;241m.\u001b[39m_backward_hooks \u001b[38;5;129;01mor\u001b[39;00m \u001b[38;5;28mself\u001b[39m\u001b[38;5;241m.\u001b[39m_backward_pre_hooks \u001b[38;5;129;01mor\u001b[39;00m \u001b[38;5;28mself\u001b[39m\u001b[38;5;241m.\u001b[39m_forward_hooks \u001b[38;5;129;01mor\u001b[39;00m \u001b[38;5;28mself\u001b[39m\u001b[38;5;241m.\u001b[39m_forward_pre_hooks\n\u001b[1;32m   1560\u001b[0m         \u001b[38;5;129;01mor\u001b[39;00m _global_backward_pre_hooks \u001b[38;5;129;01mor\u001b[39;00m _global_backward_hooks\n\u001b[1;32m   1561\u001b[0m         \u001b[38;5;129;01mor\u001b[39;00m _global_forward_hooks \u001b[38;5;129;01mor\u001b[39;00m _global_forward_pre_hooks):\n\u001b[0;32m-> 1562\u001b[0m     \u001b[38;5;28;01mreturn\u001b[39;00m \u001b[43mforward_call\u001b[49m\u001b[43m(\u001b[49m\u001b[38;5;241;43m*\u001b[39;49m\u001b[43margs\u001b[49m\u001b[43m,\u001b[49m\u001b[43m \u001b[49m\u001b[38;5;241;43m*\u001b[39;49m\u001b[38;5;241;43m*\u001b[39;49m\u001b[43mkwargs\u001b[49m\u001b[43m)\u001b[49m\n\u001b[1;32m   1564\u001b[0m \u001b[38;5;28;01mtry\u001b[39;00m:\n\u001b[1;32m   1565\u001b[0m     result \u001b[38;5;241m=\u001b[39m \u001b[38;5;28;01mNone\u001b[39;00m\n",
      "File \u001b[0;32m~/Library/Python/3.9/lib/python/site-packages/torch/nn/modules/conv.py:308\u001b[0m, in \u001b[0;36mConv1d.forward\u001b[0;34m(self, input)\u001b[0m\n\u001b[1;32m    307\u001b[0m \u001b[38;5;28;01mdef\u001b[39;00m \u001b[38;5;21mforward\u001b[39m(\u001b[38;5;28mself\u001b[39m, \u001b[38;5;28minput\u001b[39m: Tensor) \u001b[38;5;241m-\u001b[39m\u001b[38;5;241m>\u001b[39m Tensor:\n\u001b[0;32m--> 308\u001b[0m     \u001b[38;5;28;01mreturn\u001b[39;00m \u001b[38;5;28;43mself\u001b[39;49m\u001b[38;5;241;43m.\u001b[39;49m\u001b[43m_conv_forward\u001b[49m\u001b[43m(\u001b[49m\u001b[38;5;28;43minput\u001b[39;49m\u001b[43m,\u001b[49m\u001b[43m \u001b[49m\u001b[38;5;28;43mself\u001b[39;49m\u001b[38;5;241;43m.\u001b[39;49m\u001b[43mweight\u001b[49m\u001b[43m,\u001b[49m\u001b[43m \u001b[49m\u001b[38;5;28;43mself\u001b[39;49m\u001b[38;5;241;43m.\u001b[39;49m\u001b[43mbias\u001b[49m\u001b[43m)\u001b[49m\n",
      "File \u001b[0;32m~/Library/Python/3.9/lib/python/site-packages/torch/nn/modules/conv.py:304\u001b[0m, in \u001b[0;36mConv1d._conv_forward\u001b[0;34m(self, input, weight, bias)\u001b[0m\n\u001b[1;32m    300\u001b[0m \u001b[38;5;28;01mif\u001b[39;00m \u001b[38;5;28mself\u001b[39m\u001b[38;5;241m.\u001b[39mpadding_mode \u001b[38;5;241m!=\u001b[39m \u001b[38;5;124m'\u001b[39m\u001b[38;5;124mzeros\u001b[39m\u001b[38;5;124m'\u001b[39m:\n\u001b[1;32m    301\u001b[0m     \u001b[38;5;28;01mreturn\u001b[39;00m F\u001b[38;5;241m.\u001b[39mconv1d(F\u001b[38;5;241m.\u001b[39mpad(\u001b[38;5;28minput\u001b[39m, \u001b[38;5;28mself\u001b[39m\u001b[38;5;241m.\u001b[39m_reversed_padding_repeated_twice, mode\u001b[38;5;241m=\u001b[39m\u001b[38;5;28mself\u001b[39m\u001b[38;5;241m.\u001b[39mpadding_mode),\n\u001b[1;32m    302\u001b[0m                     weight, bias, \u001b[38;5;28mself\u001b[39m\u001b[38;5;241m.\u001b[39mstride,\n\u001b[1;32m    303\u001b[0m                     _single(\u001b[38;5;241m0\u001b[39m), \u001b[38;5;28mself\u001b[39m\u001b[38;5;241m.\u001b[39mdilation, \u001b[38;5;28mself\u001b[39m\u001b[38;5;241m.\u001b[39mgroups)\n\u001b[0;32m--> 304\u001b[0m \u001b[38;5;28;01mreturn\u001b[39;00m \u001b[43mF\u001b[49m\u001b[38;5;241;43m.\u001b[39;49m\u001b[43mconv1d\u001b[49m\u001b[43m(\u001b[49m\u001b[38;5;28;43minput\u001b[39;49m\u001b[43m,\u001b[49m\u001b[43m \u001b[49m\u001b[43mweight\u001b[49m\u001b[43m,\u001b[49m\u001b[43m \u001b[49m\u001b[43mbias\u001b[49m\u001b[43m,\u001b[49m\u001b[43m \u001b[49m\u001b[38;5;28;43mself\u001b[39;49m\u001b[38;5;241;43m.\u001b[39;49m\u001b[43mstride\u001b[49m\u001b[43m,\u001b[49m\n\u001b[1;32m    305\u001b[0m \u001b[43m                \u001b[49m\u001b[38;5;28;43mself\u001b[39;49m\u001b[38;5;241;43m.\u001b[39;49m\u001b[43mpadding\u001b[49m\u001b[43m,\u001b[49m\u001b[43m \u001b[49m\u001b[38;5;28;43mself\u001b[39;49m\u001b[38;5;241;43m.\u001b[39;49m\u001b[43mdilation\u001b[49m\u001b[43m,\u001b[49m\u001b[43m \u001b[49m\u001b[38;5;28;43mself\u001b[39;49m\u001b[38;5;241;43m.\u001b[39;49m\u001b[43mgroups\u001b[49m\u001b[43m)\u001b[49m\n",
      "\u001b[0;31mRuntimeError\u001b[0m: Calculated padded input size per channel: (2). Kernel size: (3). Kernel size can't be greater than actual input size"
     ]
    }
   ],
   "source": [
    "i = np.random.randint(len(data))\n",
    "print(\"Index:\", i)\n",
    "print(\"Salary (gbp):\", np.expm1(model(make_batch(data.iloc[i: i+1], device=device)).detach().cpu()))\n",
    "\n",
    "tokens_and_weights = explain(model, data.loc[i], \"Title\")\n",
    "draw_html([(tok, weight * 5) for tok, weight in tokens_and_weights], font_style='font-size:20px;');\n",
    "\n",
    "tokens_and_weights = explain(model, data.loc[i], \"FullDescription\")\n",
    "draw_html([(tok, weight * 10) for tok, weight in tokens_and_weights]);"
   ]
  },
  {
   "cell_type": "markdown",
   "metadata": {},
   "source": [
    "__Terrible start-up idea #1962:__ make a tool that automaticaly rephrases your job description (or CV) to meet salary expectations :)"
   ]
  }
 ],
 "metadata": {
  "kernelspec": {
   "display_name": "Python 3",
   "language": "python",
   "name": "python3"
  },
  "language_info": {
   "codemirror_mode": {
    "name": "ipython",
    "version": 3
   },
   "file_extension": ".py",
   "mimetype": "text/x-python",
   "name": "python",
   "nbconvert_exporter": "python",
   "pygments_lexer": "ipython3",
   "version": "3.9.6"
  }
 },
 "nbformat": 4,
 "nbformat_minor": 4
}
